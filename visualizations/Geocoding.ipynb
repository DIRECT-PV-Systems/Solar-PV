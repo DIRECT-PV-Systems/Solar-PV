{
 "cells": [
  {
   "cell_type": "markdown",
   "id": "90b4c689",
   "metadata": {},
   "source": [
    "## Introduction"
   ]
  },
  {
   "cell_type": "markdown",
   "id": "f15e5963",
   "metadata": {},
   "source": [
    "The entire Tracking the Sun dataset contains over 1 million points of data for solar cell systems in the United States. In order to set up the dataset for plotting, the locations of the solar cell systems need to be geocoded. Using the geocoding service Nominatim in combination with geopy, the coordinates of each solar cell system will be found."
   ]
  },
  {
   "cell_type": "code",
   "execution_count": 1,
   "id": "141736cb",
   "metadata": {},
   "outputs": [],
   "source": [
    "import pandas as pd\n",
    "import numpy as np\n",
    "import csv\n",
    "\n",
    "#geocoding packages and functions\n",
    "import geopy\n",
    "from geopy.geocoders import Nominatim\n",
    "locator = Nominatim(user_agent= 'starczyn@uw.edu')\n",
    "#nominatim limits geocoding extracts to one per second\n",
    "from geopy.extra.rate_limiter import RateLimiter\n",
    "geocode = RateLimiter(locator.geocode, min_delay_seconds=1)"
   ]
  },
  {
   "cell_type": "markdown",
   "id": "97fe2e8d",
   "metadata": {},
   "source": [
    "## Geocoding"
   ]
  },
  {
   "cell_type": "code",
   "execution_count": 2,
   "id": "71cbb4c2",
   "metadata": {},
   "outputs": [
    {
     "name": "stderr",
     "output_type": "stream",
     "text": [
      "/tmp/ipykernel_246/1671398343.py:2: DtypeWarning: Columns (2,3,13,25,26,27,28,31,32) have mixed types. Specify dtype option on import or set low_memory=False.\n",
      "  data = pd.read_csv('/home/starczyn/Solar-PV/data/TTS_data.csv')\n"
     ]
    }
   ],
   "source": [
    "#reading in the dataset\n",
    "data = pd.read_csv('/home/starczyn/Solar-PV/data/TTS_data.csv')\n",
    "\n",
    "#adding a column to make the location more compatible with geopy\n",
    "data['city_state_country'] = data['hostCustomerCity'] + ', ' + data['state'] + ', USA'"
   ]
  },
  {
   "cell_type": "markdown",
   "id": "3bc0de2f",
   "metadata": {},
   "source": [
    "Geocoding the entire dataset line by line would take over 7 days for 1 million datapoints. So, instead of doing this, only the unique locations are geocoded so that computing time/power isn't wasted on duplicate locations."
   ]
  },
  {
   "cell_type": "code",
   "execution_count": 3,
   "id": "ba9281fd",
   "metadata": {},
   "outputs": [
    {
     "data": {
      "text/html": [
       "<div>\n",
       "<style scoped>\n",
       "    .dataframe tbody tr th:only-of-type {\n",
       "        vertical-align: middle;\n",
       "    }\n",
       "\n",
       "    .dataframe tbody tr th {\n",
       "        vertical-align: top;\n",
       "    }\n",
       "\n",
       "    .dataframe thead th {\n",
       "        text-align: right;\n",
       "    }\n",
       "</style>\n",
       "<table border=\"1\" class=\"dataframe\">\n",
       "  <thead>\n",
       "    <tr style=\"text-align: right;\">\n",
       "      <th></th>\n",
       "      <th>city_state_country</th>\n",
       "    </tr>\n",
       "  </thead>\n",
       "  <tbody>\n",
       "    <tr>\n",
       "      <th>0</th>\n",
       "      <td>Goodyear, AZ, USA</td>\n",
       "    </tr>\n",
       "    <tr>\n",
       "      <th>1</th>\n",
       "      <td>Buckeye, AZ, USA</td>\n",
       "    </tr>\n",
       "    <tr>\n",
       "      <th>2</th>\n",
       "      <td>Scottsdale, AZ, USA</td>\n",
       "    </tr>\n",
       "    <tr>\n",
       "      <th>3</th>\n",
       "      <td>Hereford, AZ, USA</td>\n",
       "    </tr>\n",
       "    <tr>\n",
       "      <th>4</th>\n",
       "      <td>Dewey, AZ, USA</td>\n",
       "    </tr>\n",
       "    <tr>\n",
       "      <th>...</th>\n",
       "      <td>...</td>\n",
       "    </tr>\n",
       "    <tr>\n",
       "      <th>10752</th>\n",
       "      <td>Little Chute, WI, USA</td>\n",
       "    </tr>\n",
       "    <tr>\n",
       "      <th>10753</th>\n",
       "      <td>Walworth, WI, USA</td>\n",
       "    </tr>\n",
       "    <tr>\n",
       "      <th>10754</th>\n",
       "      <td>Ontario, WI, USA</td>\n",
       "    </tr>\n",
       "    <tr>\n",
       "      <th>10755</th>\n",
       "      <td>Genoa, WI, USA</td>\n",
       "    </tr>\n",
       "    <tr>\n",
       "      <th>10756</th>\n",
       "      <td>Twin Lakes, WI, USA</td>\n",
       "    </tr>\n",
       "  </tbody>\n",
       "</table>\n",
       "<p>10757 rows × 1 columns</p>\n",
       "</div>"
      ],
      "text/plain": [
       "          city_state_country\n",
       "0          Goodyear, AZ, USA\n",
       "1           Buckeye, AZ, USA\n",
       "2        Scottsdale, AZ, USA\n",
       "3          Hereford, AZ, USA\n",
       "4             Dewey, AZ, USA\n",
       "...                      ...\n",
       "10752  Little Chute, WI, USA\n",
       "10753      Walworth, WI, USA\n",
       "10754       Ontario, WI, USA\n",
       "10755         Genoa, WI, USA\n",
       "10756    Twin Lakes, WI, USA\n",
       "\n",
       "[10757 rows x 1 columns]"
      ]
     },
     "execution_count": 3,
     "metadata": {},
     "output_type": "execute_result"
    }
   ],
   "source": [
    "#create a dataframe of unique locations\n",
    "unique_data = data['city_state_country'].unique()\n",
    "geocoded_cities = pd.DataFrame(data = unique_data, columns = ['city_state_country'])\n",
    "geocoded_cities"
   ]
  },
  {
   "cell_type": "code",
   "execution_count": 4,
   "id": "eb2a208b",
   "metadata": {},
   "outputs": [
    {
     "data": {
      "text/plain": [
       "city_state_country    POMFRET CENTER, CT, USA\n",
       "Name: 647, dtype: object"
      ]
     },
     "execution_count": 4,
     "metadata": {},
     "output_type": "execute_result"
    }
   ],
   "source": [
    "geocoded_cities.loc[647]"
   ]
  },
  {
   "cell_type": "markdown",
   "id": "cdd08f98",
   "metadata": {},
   "source": [
    "A csv is created to store the geocoded values as they are coded and so that data will not be lost in case of interruptions."
   ]
  },
  {
   "cell_type": "code",
   "execution_count": 24,
   "id": "f119021f",
   "metadata": {},
   "outputs": [],
   "source": [
    "geocode_unique_csv = '/home/starczyn/Solar-PV/data/TTS_data_geocoded_sample.csv'\n",
    "\n",
    "f = open(\"/home/starczyn/Solar-PV/data/TTS_data_geocoded_sample.csv\", \"w\")\n",
    "writer = csv.DictWriter(f, fieldnames= ['location', 'geopy location', 'coordinates'])\n",
    "writer.writeheader()\n",
    "f.close()"
   ]
  },
  {
   "cell_type": "markdown",
   "id": "a43132f0",
   "metadata": {},
   "source": [
    "This function saves the geocoding to the csv file as each city is geocoded."
   ]
  },
  {
   "cell_type": "code",
   "execution_count": 25,
   "id": "a0d9c437",
   "metadata": {},
   "outputs": [],
   "source": [
    "def geocode_save(row, file = '/home/starczyn/Solar-PV/data/TTS_data_geocoded_sample.csv'): #row is pandas series: index in dataframe and value of column at the row\n",
    "\n",
    "    current_csv = pd.read_csv(file, index_col = 0)\n",
    "    \n",
    "    index = row.name\n",
    "    loc = row['city_state_country']\n",
    "    \n",
    "    #length of csv is number of rows that are done\n",
    "    csv_length = len(current_csv) \n",
    "     \n",
    "    #if the row has already been geocoded the row is returned back     \n",
    "    if index <= csv_length - 1:\n",
    "        \n",
    "        with open(file, 'a') as geopy_csv:\n",
    "            append = csv.writer(geopy_csv)\n",
    "            geopy_csv.close()\n",
    "\n",
    "        return current_csv.iloc[index].values[0]\n",
    "\n",
    "    #if the row has not been geocoded, the row is geocoded and saved to the csv\n",
    "    else:\n",
    "\n",
    "        location = geocode(loc)\n",
    "\n",
    "        with open(file, 'a') as geopy_csv:\n",
    "            append = csv.writer(geopy_csv)\n",
    "            append.writerow(row)\n",
    "            append.writerow(location)\n",
    "            geopy_csv.close()\n",
    "\n",
    "        return row, location, \"({},{})\".format(location.longitude,location.latitude)"
   ]
  },
  {
   "cell_type": "code",
   "execution_count": null,
   "id": "5612c204",
   "metadata": {},
   "outputs": [],
   "source": []
  },
  {
   "cell_type": "code",
   "execution_count": 27,
   "id": "0f4451dc",
   "metadata": {},
   "outputs": [
    {
     "name": "stdout",
     "output_type": "stream",
     "text": [
      "0\n",
      "1\n",
      "2\n",
      "3\n",
      "4\n",
      "5\n",
      "6\n",
      "7\n",
      "8\n"
     ]
    },
    {
     "ename": "KeyboardInterrupt",
     "evalue": "",
     "output_type": "error",
     "traceback": [
      "\u001b[0;31m---------------------------------------------------------------------------\u001b[0m",
      "\u001b[0;31mKeyboardInterrupt\u001b[0m                         Traceback (most recent call last)",
      "\u001b[0;32m/tmp/ipykernel_246/1259014226.py\u001b[0m in \u001b[0;36m<module>\u001b[0;34m\u001b[0m\n\u001b[1;32m      1\u001b[0m \u001b[0;32mfor\u001b[0m \u001b[0midx\u001b[0m\u001b[0;34m,\u001b[0m \u001b[0mrow\u001b[0m \u001b[0;32min\u001b[0m \u001b[0mgeocoded_cities\u001b[0m\u001b[0;34m.\u001b[0m\u001b[0miterrows\u001b[0m\u001b[0;34m(\u001b[0m\u001b[0;34m)\u001b[0m\u001b[0;34m:\u001b[0m\u001b[0;34m\u001b[0m\u001b[0;34m\u001b[0m\u001b[0m\n\u001b[1;32m      2\u001b[0m \u001b[0;34m\u001b[0m\u001b[0m\n\u001b[0;32m----> 3\u001b[0;31m     \u001b[0mlocation\u001b[0m \u001b[0;34m=\u001b[0m \u001b[0mgeocode_save\u001b[0m\u001b[0;34m(\u001b[0m\u001b[0mrow\u001b[0m\u001b[0;34m)\u001b[0m\u001b[0;34m\u001b[0m\u001b[0;34m\u001b[0m\u001b[0m\n\u001b[0m\u001b[1;32m      4\u001b[0m     \u001b[0;31m#geocoded_cities.loc[idx,'location'] = location\u001b[0m\u001b[0;34m\u001b[0m\u001b[0;34m\u001b[0m\u001b[0;34m\u001b[0m\u001b[0m\n\u001b[1;32m      5\u001b[0m     \u001b[0;31m#point = ast.literal_eval(location)\u001b[0m\u001b[0;34m\u001b[0m\u001b[0;34m\u001b[0m\u001b[0;34m\u001b[0m\u001b[0m\n",
      "\u001b[0;32m/tmp/ipykernel_246/618766149.py\u001b[0m in \u001b[0;36mgeocode_save\u001b[0;34m(row, file)\u001b[0m\n\u001b[1;32m     21\u001b[0m     \u001b[0;32melse\u001b[0m\u001b[0;34m:\u001b[0m\u001b[0;34m\u001b[0m\u001b[0;34m\u001b[0m\u001b[0m\n\u001b[1;32m     22\u001b[0m \u001b[0;34m\u001b[0m\u001b[0m\n\u001b[0;32m---> 23\u001b[0;31m         \u001b[0mlocation\u001b[0m \u001b[0;34m=\u001b[0m \u001b[0mgeocode\u001b[0m\u001b[0;34m(\u001b[0m\u001b[0mloc\u001b[0m\u001b[0;34m)\u001b[0m\u001b[0;34m\u001b[0m\u001b[0;34m\u001b[0m\u001b[0m\n\u001b[0m\u001b[1;32m     24\u001b[0m \u001b[0;34m\u001b[0m\u001b[0m\n\u001b[1;32m     25\u001b[0m         \u001b[0;32mwith\u001b[0m \u001b[0mopen\u001b[0m\u001b[0;34m(\u001b[0m\u001b[0mfile\u001b[0m\u001b[0;34m,\u001b[0m \u001b[0;34m'a'\u001b[0m\u001b[0;34m)\u001b[0m \u001b[0;32mas\u001b[0m \u001b[0mgeopy_csv\u001b[0m\u001b[0;34m:\u001b[0m\u001b[0;34m\u001b[0m\u001b[0;34m\u001b[0m\u001b[0m\n",
      "\u001b[0;32m~/miniconda3/lib/python3.9/site-packages/geopy/extra/rate_limiter.py\u001b[0m in \u001b[0;36m__call__\u001b[0;34m(self, *args, **kwargs)\u001b[0m\n\u001b[1;32m    270\u001b[0m         \u001b[0mgen\u001b[0m \u001b[0;34m=\u001b[0m \u001b[0mself\u001b[0m\u001b[0;34m.\u001b[0m\u001b[0m_retries_gen\u001b[0m\u001b[0;34m(\u001b[0m\u001b[0margs\u001b[0m\u001b[0;34m,\u001b[0m \u001b[0mkwargs\u001b[0m\u001b[0;34m)\u001b[0m\u001b[0;34m\u001b[0m\u001b[0;34m\u001b[0m\u001b[0m\n\u001b[1;32m    271\u001b[0m         \u001b[0;32mfor\u001b[0m \u001b[0m_\u001b[0m \u001b[0;32min\u001b[0m \u001b[0mgen\u001b[0m\u001b[0;34m:\u001b[0m\u001b[0;34m\u001b[0m\u001b[0;34m\u001b[0m\u001b[0m\n\u001b[0;32m--> 272\u001b[0;31m             \u001b[0mself\u001b[0m\u001b[0;34m.\u001b[0m\u001b[0m_acquire_request_slot\u001b[0m\u001b[0;34m(\u001b[0m\u001b[0;34m)\u001b[0m\u001b[0;34m\u001b[0m\u001b[0;34m\u001b[0m\u001b[0m\n\u001b[0m\u001b[1;32m    273\u001b[0m             \u001b[0;32mtry\u001b[0m\u001b[0;34m:\u001b[0m\u001b[0;34m\u001b[0m\u001b[0;34m\u001b[0m\u001b[0m\n\u001b[1;32m    274\u001b[0m                 \u001b[0mres\u001b[0m \u001b[0;34m=\u001b[0m \u001b[0mself\u001b[0m\u001b[0;34m.\u001b[0m\u001b[0mfunc\u001b[0m\u001b[0;34m(\u001b[0m\u001b[0;34m*\u001b[0m\u001b[0margs\u001b[0m\u001b[0;34m,\u001b[0m \u001b[0;34m**\u001b[0m\u001b[0mkwargs\u001b[0m\u001b[0;34m)\u001b[0m\u001b[0;34m\u001b[0m\u001b[0;34m\u001b[0m\u001b[0m\n",
      "\u001b[0;32m~/miniconda3/lib/python3.9/site-packages/geopy/extra/rate_limiter.py\u001b[0m in \u001b[0;36m_acquire_request_slot\u001b[0;34m(self)\u001b[0m\n\u001b[1;32m    265\u001b[0m     \u001b[0;32mdef\u001b[0m \u001b[0m_acquire_request_slot\u001b[0m\u001b[0;34m(\u001b[0m\u001b[0mself\u001b[0m\u001b[0;34m)\u001b[0m\u001b[0;34m:\u001b[0m\u001b[0;34m\u001b[0m\u001b[0;34m\u001b[0m\u001b[0m\n\u001b[1;32m    266\u001b[0m         \u001b[0;32mfor\u001b[0m \u001b[0mwait\u001b[0m \u001b[0;32min\u001b[0m \u001b[0mself\u001b[0m\u001b[0;34m.\u001b[0m\u001b[0m_acquire_request_slot_gen\u001b[0m\u001b[0;34m(\u001b[0m\u001b[0;34m)\u001b[0m\u001b[0;34m:\u001b[0m\u001b[0;34m\u001b[0m\u001b[0;34m\u001b[0m\u001b[0m\n\u001b[0;32m--> 267\u001b[0;31m             \u001b[0mself\u001b[0m\u001b[0;34m.\u001b[0m\u001b[0m_sleep\u001b[0m\u001b[0;34m(\u001b[0m\u001b[0mwait\u001b[0m\u001b[0;34m)\u001b[0m\u001b[0;34m\u001b[0m\u001b[0;34m\u001b[0m\u001b[0m\n\u001b[0m\u001b[1;32m    268\u001b[0m \u001b[0;34m\u001b[0m\u001b[0m\n\u001b[1;32m    269\u001b[0m     \u001b[0;32mdef\u001b[0m \u001b[0m__call__\u001b[0m\u001b[0;34m(\u001b[0m\u001b[0mself\u001b[0m\u001b[0;34m,\u001b[0m \u001b[0;34m*\u001b[0m\u001b[0margs\u001b[0m\u001b[0;34m,\u001b[0m \u001b[0;34m**\u001b[0m\u001b[0mkwargs\u001b[0m\u001b[0;34m)\u001b[0m\u001b[0;34m:\u001b[0m\u001b[0;34m\u001b[0m\u001b[0;34m\u001b[0m\u001b[0m\n",
      "\u001b[0;32m~/miniconda3/lib/python3.9/site-packages/geopy/extra/rate_limiter.py\u001b[0m in \u001b[0;36m_sleep\u001b[0;34m(self, seconds)\u001b[0m\n\u001b[1;32m    261\u001b[0m     \u001b[0;32mdef\u001b[0m \u001b[0m_sleep\u001b[0m\u001b[0;34m(\u001b[0m\u001b[0mself\u001b[0m\u001b[0;34m,\u001b[0m \u001b[0mseconds\u001b[0m\u001b[0;34m)\u001b[0m\u001b[0;34m:\u001b[0m  \u001b[0;31m# pragma: no cover\u001b[0m\u001b[0;34m\u001b[0m\u001b[0;34m\u001b[0m\u001b[0m\n\u001b[1;32m    262\u001b[0m         \u001b[0mlogger\u001b[0m\u001b[0;34m.\u001b[0m\u001b[0mdebug\u001b[0m\u001b[0;34m(\u001b[0m\u001b[0mtype\u001b[0m\u001b[0;34m(\u001b[0m\u001b[0mself\u001b[0m\u001b[0;34m)\u001b[0m\u001b[0;34m.\u001b[0m\u001b[0m__name__\u001b[0m \u001b[0;34m+\u001b[0m \u001b[0;34m\" sleep(%r)\"\u001b[0m\u001b[0;34m,\u001b[0m \u001b[0mseconds\u001b[0m\u001b[0;34m)\u001b[0m\u001b[0;34m\u001b[0m\u001b[0;34m\u001b[0m\u001b[0m\n\u001b[0;32m--> 263\u001b[0;31m         \u001b[0msleep\u001b[0m\u001b[0;34m(\u001b[0m\u001b[0mseconds\u001b[0m\u001b[0;34m)\u001b[0m\u001b[0;34m\u001b[0m\u001b[0;34m\u001b[0m\u001b[0m\n\u001b[0m\u001b[1;32m    264\u001b[0m \u001b[0;34m\u001b[0m\u001b[0m\n\u001b[1;32m    265\u001b[0m     \u001b[0;32mdef\u001b[0m \u001b[0m_acquire_request_slot\u001b[0m\u001b[0;34m(\u001b[0m\u001b[0mself\u001b[0m\u001b[0;34m)\u001b[0m\u001b[0;34m:\u001b[0m\u001b[0;34m\u001b[0m\u001b[0;34m\u001b[0m\u001b[0m\n",
      "\u001b[0;31mKeyboardInterrupt\u001b[0m: "
     ]
    }
   ],
   "source": [
    "for idx, row in geocoded_cities.iterrows():\n",
    "    \n",
    "    location = geocode_save(row)\n",
    "    #geocoded_cities.loc[idx,'location'] = location\n",
    "    #point = ast.literal_eval(location)\n",
    "    #latitude, longitude = point\n",
    "    \n",
    "        #geocoded_cities.loc[idx,'latitude'] = latitude\n",
    "        #geocoded_cities.loc[idx,'longitude'] = longitude\n",
    "    print(idx)\n",
    "    "
   ]
  },
  {
   "cell_type": "code",
   "execution_count": 21,
   "id": "f97e9328",
   "metadata": {},
   "outputs": [
    {
     "data": {
      "text/html": [
       "<div>\n",
       "<style scoped>\n",
       "    .dataframe tbody tr th:only-of-type {\n",
       "        vertical-align: middle;\n",
       "    }\n",
       "\n",
       "    .dataframe tbody tr th {\n",
       "        vertical-align: top;\n",
       "    }\n",
       "\n",
       "    .dataframe thead th {\n",
       "        text-align: right;\n",
       "    }\n",
       "</style>\n",
       "<table border=\"1\" class=\"dataframe\">\n",
       "  <thead>\n",
       "    <tr style=\"text-align: right;\">\n",
       "      <th></th>\n",
       "      <th>location</th>\n",
       "      <th>geopy location</th>\n",
       "      <th>coordinates</th>\n",
       "    </tr>\n",
       "  </thead>\n",
       "  <tbody>\n",
       "    <tr>\n",
       "      <th>0</th>\n",
       "      <td>Goodyear, AZ, USA</td>\n",
       "      <td>NaN</td>\n",
       "      <td>NaN</td>\n",
       "    </tr>\n",
       "    <tr>\n",
       "      <th>1</th>\n",
       "      <td>Goodyear, Maricopa County, Arizona, 85395, Uni...</td>\n",
       "      <td>(33.4353672, -112.3576)</td>\n",
       "      <td>NaN</td>\n",
       "    </tr>\n",
       "    <tr>\n",
       "      <th>2</th>\n",
       "      <td>Scottsdale, AZ, USA</td>\n",
       "      <td>NaN</td>\n",
       "      <td>NaN</td>\n",
       "    </tr>\n",
       "    <tr>\n",
       "      <th>3</th>\n",
       "      <td>Scottsdale, Maricopa County, Arizona, United S...</td>\n",
       "      <td>(33.4942189, -111.9260184)</td>\n",
       "      <td>NaN</td>\n",
       "    </tr>\n",
       "    <tr>\n",
       "      <th>4</th>\n",
       "      <td>Dewey, AZ, USA</td>\n",
       "      <td>NaN</td>\n",
       "      <td>NaN</td>\n",
       "    </tr>\n",
       "    <tr>\n",
       "      <th>5</th>\n",
       "      <td>Dewey, Prescott Valley, Yavapai County, Arizon...</td>\n",
       "      <td>(34.5300253, -112.2412739)</td>\n",
       "      <td>NaN</td>\n",
       "    </tr>\n",
       "    <tr>\n",
       "      <th>6</th>\n",
       "      <td>Phoenix, AZ, USA</td>\n",
       "      <td>NaN</td>\n",
       "      <td>NaN</td>\n",
       "    </tr>\n",
       "    <tr>\n",
       "      <th>7</th>\n",
       "      <td>Phoenix, Maricopa County, Arizona, 85004-1905,...</td>\n",
       "      <td>(33.4484367, -112.0741417)</td>\n",
       "      <td>NaN</td>\n",
       "    </tr>\n",
       "    <tr>\n",
       "      <th>8</th>\n",
       "      <td>Prescott, AZ, USA</td>\n",
       "      <td>NaN</td>\n",
       "      <td>NaN</td>\n",
       "    </tr>\n",
       "    <tr>\n",
       "      <th>9</th>\n",
       "      <td>Prescott, Yavapai County, Arizona, United States</td>\n",
       "      <td>(34.5399962, -112.4687616)</td>\n",
       "      <td>NaN</td>\n",
       "    </tr>\n",
       "    <tr>\n",
       "      <th>10</th>\n",
       "      <td>Sedona, AZ, USA</td>\n",
       "      <td>NaN</td>\n",
       "      <td>NaN</td>\n",
       "    </tr>\n",
       "    <tr>\n",
       "      <th>11</th>\n",
       "      <td>Sedona, Coconino County, Arizona, United States</td>\n",
       "      <td>(34.8679599, -111.7617165)</td>\n",
       "      <td>NaN</td>\n",
       "    </tr>\n",
       "    <tr>\n",
       "      <th>12</th>\n",
       "      <td>Morristown, AZ, USA</td>\n",
       "      <td>NaN</td>\n",
       "      <td>NaN</td>\n",
       "    </tr>\n",
       "    <tr>\n",
       "      <th>13</th>\n",
       "      <td>Morristown, Maricopa County, Arizona, United S...</td>\n",
       "      <td>(33.8562535, -112.61451849802984)</td>\n",
       "      <td>NaN</td>\n",
       "    </tr>\n",
       "  </tbody>\n",
       "</table>\n",
       "</div>"
      ],
      "text/plain": [
       "                                             location  \\\n",
       "0                                   Goodyear, AZ, USA   \n",
       "1   Goodyear, Maricopa County, Arizona, 85395, Uni...   \n",
       "2                                 Scottsdale, AZ, USA   \n",
       "3   Scottsdale, Maricopa County, Arizona, United S...   \n",
       "4                                      Dewey, AZ, USA   \n",
       "5   Dewey, Prescott Valley, Yavapai County, Arizon...   \n",
       "6                                    Phoenix, AZ, USA   \n",
       "7   Phoenix, Maricopa County, Arizona, 85004-1905,...   \n",
       "8                                   Prescott, AZ, USA   \n",
       "9    Prescott, Yavapai County, Arizona, United States   \n",
       "10                                    Sedona, AZ, USA   \n",
       "11    Sedona, Coconino County, Arizona, United States   \n",
       "12                                Morristown, AZ, USA   \n",
       "13  Morristown, Maricopa County, Arizona, United S...   \n",
       "\n",
       "                       geopy location  coordinates  \n",
       "0                                 NaN          NaN  \n",
       "1             (33.4353672, -112.3576)          NaN  \n",
       "2                                 NaN          NaN  \n",
       "3          (33.4942189, -111.9260184)          NaN  \n",
       "4                                 NaN          NaN  \n",
       "5          (34.5300253, -112.2412739)          NaN  \n",
       "6                                 NaN          NaN  \n",
       "7          (33.4484367, -112.0741417)          NaN  \n",
       "8                                 NaN          NaN  \n",
       "9          (34.5399962, -112.4687616)          NaN  \n",
       "10                                NaN          NaN  \n",
       "11         (34.8679599, -111.7617165)          NaN  \n",
       "12                                NaN          NaN  \n",
       "13  (33.8562535, -112.61451849802984)          NaN  "
      ]
     },
     "execution_count": 21,
     "metadata": {},
     "output_type": "execute_result"
    }
   ],
   "source": [
    "pd.read_csv('/home/starczyn/Solar-PV/data/TTS_data_geocoded_sample.csv')"
   ]
  },
  {
   "cell_type": "code",
   "execution_count": null,
   "id": "6e741f19",
   "metadata": {},
   "outputs": [],
   "source": []
  }
 ],
 "metadata": {
  "kernelspec": {
   "display_name": "Python 3 (ipykernel)",
   "language": "python",
   "name": "python3"
  },
  "language_info": {
   "codemirror_mode": {
    "name": "ipython",
    "version": 3
   },
   "file_extension": ".py",
   "mimetype": "text/x-python",
   "name": "python",
   "nbconvert_exporter": "python",
   "pygments_lexer": "ipython3",
   "version": "3.9.5"
  }
 },
 "nbformat": 4,
 "nbformat_minor": 5
}
