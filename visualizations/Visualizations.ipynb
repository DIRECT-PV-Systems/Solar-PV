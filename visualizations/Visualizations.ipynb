{
 "cells": [
  {
   "cell_type": "code",
   "execution_count": 1,
   "id": "18fba1f6",
   "metadata": {},
   "outputs": [],
   "source": [
    "import pandas as pd\n",
    "import numpy as np\n",
    "\n",
    "#import plotly.express as px\n",
    "from folium import Map\n",
    "from folium.plugins import HeatMap\n",
    "from IPython.display import Image"
   ]
  },
  {
   "cell_type": "code",
   "execution_count": 2,
   "id": "4fb67a74",
   "metadata": {},
   "outputs": [
    {
     "name": "stderr",
     "output_type": "stream",
     "text": [
      "/tmp/ipykernel_2327/3678986517.py:1: DtypeWarning: Columns (2,3,13,28,29,30,31,34,35) have mixed types. Specify dtype option on import or set low_memory=False.\n",
      "  data = pd.read_csv('/home/starczyn/Solar_Project/data/TTS_data.csv')\n"
     ]
    }
   ],
   "source": [
    "data = pd.read_csv('/home/starczyn/Solar_Project/data/TTS_data.csv')"
   ]
  },
  {
   "cell_type": "code",
   "execution_count": 3,
   "id": "4ef50339",
   "metadata": {},
   "outputs": [
    {
     "data": {
      "text/plain": [
       "Index(['Unnamed: 0', 'dataProvider1', 'dataProvider2', 'program1ProjectID',\n",
       "       'PTODate_orProxy_', 'systemSizeInDCSTC_KW_', 'totalInstalledCost___',\n",
       "       'Up_FrontCashIncentive___', 'customerSegment', 'is_expansion',\n",
       "       'is_multiphase', 'tracking_Y_N_', 'ground_mounted_Y_N_',\n",
       "       'hostCustomerZip__4_', 'hostCustomerCity', 'state',\n",
       "       'city_state_country', 'latitude', 'longitude',\n",
       "       'utilityServiceTerritory', 'x3rdPartyOwned_1_0_', 'installer_clean',\n",
       "       'self_install_Y_N_', 'azimuth_1', 'tilt_1', 'mod_manuf1_clean',\n",
       "       'mod_model1_clean', 'moduleQty_1', 'mod_manuf2_clean',\n",
       "       'mod_model2_clean', 'mod_manuf3_clean', 'mod_model3_clean',\n",
       "       'additionalModuleModels_Y_N_', 'mod_tech1', 'mod_tech2', 'mod_tech3',\n",
       "       'mod_BIPV1', 'mod_bifacial1', 'mod_nameplate_capacity1',\n",
       "       'mod_efficiency1', 'inv_manuf1_clean', 'inv_model1_clean',\n",
       "       'inverterQuantity_1', 'additionalInverterModels_Y_N_', 'inv_microinv1',\n",
       "       'inv_battery_hybrid1', 'inv_builtin_meter1', 'inv_outputcapacity1',\n",
       "       'dc_optimizer', 'ILR', 'TotalModuleQty'],\n",
       "      dtype='object')"
      ]
     },
     "execution_count": 3,
     "metadata": {},
     "output_type": "execute_result"
    }
   ],
   "source": [
    "data.keys()"
   ]
  },
  {
   "cell_type": "code",
   "execution_count": 4,
   "id": "4efa9edf",
   "metadata": {},
   "outputs": [],
   "source": [
    "data = data.dropna()\n",
    "#data.describe()"
   ]
  },
  {
   "cell_type": "markdown",
   "id": "459b7851",
   "metadata": {},
   "source": [
    "Location Heat Map"
   ]
  },
  {
   "cell_type": "code",
   "execution_count": null,
   "id": "dd35f409",
   "metadata": {},
   "outputs": [],
   "source": [
    "map = Map(\n",
    "    location=[39.8283, -98.5795],\n",
    "    tiles=\"cartodbpositron\",\n",
    "    zoom_start= 4.25,\n",
    ")"
   ]
  },
  {
   "cell_type": "markdown",
   "id": "40fc76c4",
   "metadata": {},
   "source": [
    "data_samp = data.sample(frac = .0005)\n",
    "data_samp = data_samp.dropna()\n",
    "len(data_samp)"
   ]
  },
  {
   "cell_type": "code",
   "execution_count": null,
   "id": "88ce7fdd",
   "metadata": {},
   "outputs": [],
   "source": [
    "hm_wide = HeatMap(\n",
    "    list(zip(data.latitude.values, data.longitude.values)),\n",
    "    min_opacity=0.5,\n",
    "    radius=4, \n",
    "    blur=5, \n",
    "    max_zoom=10,\n",
    ")"
   ]
  },
  {
   "cell_type": "code",
   "execution_count": null,
   "id": "00335856",
   "metadata": {},
   "outputs": [],
   "source": [
    "map.add_child(hm_wide)"
   ]
  },
  {
   "cell_type": "markdown",
   "id": "032b5668",
   "metadata": {},
   "source": [
    "Chloropleths"
   ]
  },
  {
   "cell_type": "code",
   "execution_count": null,
   "id": "f8137d5b",
   "metadata": {},
   "outputs": [],
   "source": []
  }
 ],
 "metadata": {
  "kernelspec": {
   "display_name": "Python 3 (ipykernel)",
   "language": "python",
   "name": "python3"
  },
  "language_info": {
   "codemirror_mode": {
    "name": "ipython",
    "version": 3
   },
   "file_extension": ".py",
   "mimetype": "text/x-python",
   "name": "python",
   "nbconvert_exporter": "python",
   "pygments_lexer": "ipython3",
   "version": "3.9.5"
  }
 },
 "nbformat": 4,
 "nbformat_minor": 5
}
