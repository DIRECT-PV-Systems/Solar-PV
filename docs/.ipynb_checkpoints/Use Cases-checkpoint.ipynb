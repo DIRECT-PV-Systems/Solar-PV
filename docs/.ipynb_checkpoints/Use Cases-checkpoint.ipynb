{
 "cells": [
  {
   "cell_type": "markdown",
   "id": "60fc716b",
   "metadata": {},
   "source": [
    "### User 1: Power Companies"
   ]
  },
  {
   "cell_type": "markdown",
   "id": "67c5fd84",
   "metadata": {},
   "source": [
    "#### User Story"
   ]
  },
  {
   "cell_type": "markdown",
   "id": "976a331a",
   "metadata": {},
   "source": [
    "Utility companies that supply power to consumers such as Seattle City Light, ComEd, and DTE are increasingly sourcing their energy from renewable energy sources such as solar cells. Solar cell owners want to ensure their equipment is operating at maximum efficiency to provide the largest amount of power and best return on investment. They want to see which parameters are effecting solar cell efficiency and how they compare to other competitors. These companies employ engineers with the skills needed to understand the various electrical and environmental parameters."
   ]
  },
  {
   "cell_type": "markdown",
   "id": "e30bfa11",
   "metadata": {},
   "source": [
    "#### Use Case"
   ]
  },
  {
   "cell_type": "markdown",
   "id": "6ef1c5e2",
   "metadata": {},
   "source": [
    "The Berkley \"Tracking the Sun\" Project will provide the framework for evaluating which factors affect the efficiency the most. From among the available data tracked, an exploratory data analysis can be created to provide a statistical analysis and data visualization of the factors that most strongly influence the effciency. Statistical methods such as multiple linear regression, KNN, K-Fold, can be employed. "
   ]
  },
  {
   "cell_type": "markdown",
   "id": "97a16f52",
   "metadata": {},
   "source": [
    "From this broad level result, the power company can have their engineers dive deeper into the inefficiencies of the broad categories the model defines to look for improvements."
   ]
  },
  {
   "cell_type": "code",
   "execution_count": null,
   "id": "b333e893",
   "metadata": {},
   "outputs": [],
   "source": []
  }
 ],
 "metadata": {
  "kernelspec": {
   "display_name": "Python 3 (ipykernel)",
   "language": "python",
   "name": "python3"
  },
  "language_info": {
   "codemirror_mode": {
    "name": "ipython",
    "version": 3
   },
   "file_extension": ".py",
   "mimetype": "text/x-python",
   "name": "python",
   "nbconvert_exporter": "python",
   "pygments_lexer": "ipython3",
   "version": "3.9.5"
  }
 },
 "nbformat": 4,
 "nbformat_minor": 5
}
