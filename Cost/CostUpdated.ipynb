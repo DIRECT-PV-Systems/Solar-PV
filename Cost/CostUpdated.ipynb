{
 "cells": [
  {
   "cell_type": "code",
   "execution_count": null,
   "id": "fa60d69b",
   "metadata": {},
   "outputs": [],
   "source": [
    "!conda install -c conda-forge numpy scikit-learn optuna seaborn matplotlib -y"
   ]
  },
  {
   "cell_type": "code",
   "execution_count": 6,
   "id": "887ab7e6",
   "metadata": {},
   "outputs": [],
   "source": [
    "import numpy as np\n",
    "import pandas as pd\n",
    "import seaborn as sns\n",
    "\n",
    "import sklearn\n",
    "from sklearn import neighbors, datasets\n",
    "from sklearn.model_selection import train_test_split\n",
    "\n",
    "import matplotlib\n",
    "import matplotlib.pyplot as plt\n",
    "from matplotlib import cm\n",
    "\n",
    "# Import Scikit-Learn library for decision tree models\n",
    "import sklearn         \n",
    "from sklearn import linear_model, datasets\n",
    "from sklearn.utils import resample\n",
    "from sklearn import tree\n",
    "from sklearn.tree import DecisionTreeRegressor, DecisionTreeClassifier\n",
    "from sklearn.ensemble import BaggingClassifier, RandomForestClassifier, GradientBoostingClassifier\n",
    "from sklearn.ensemble import BaggingRegressor, RandomForestRegressor, GradientBoostingRegressor\n",
    "from sklearn.model_selection import train_test_split\n",
    "from sklearn.metrics import r2_score, mean_squared_error, accuracy_score\n",
    "\n",
    "# Note - you will need version 0.24.1 of scikit-learn to load this library (SequentialFeatureSelector)\n",
    "from sklearn.feature_selection import f_regression, SequentialFeatureSelector\n",
    "from sklearn.preprocessing import PolynomialFeatures, StandardScaler\n",
    "from sklearn.pipeline import make_pipeline\n",
    "\n",
    "# Another statistic model library\n",
    "#import statsmodels.api as sm\n",
    "#import statsmodels.formula.api as smf\n",
    "\n",
    "import scipy.stats as stats\n",
    "import scipy\n",
    "from scipy import interpolate\n",
    "from scipy.interpolate import interp1d\n",
    "\n",
    "import math\n",
    "\n",
    "# hyperparameter optimization\n",
    "#import optuna\n",
    "#import sklearn.model_selection\n",
    "#import sklearn.preprocessing"
   ]
  },
  {
   "cell_type": "code",
   "execution_count": 2,
   "id": "875d8ec8",
   "metadata": {},
   "outputs": [
    {
     "name": "stderr",
     "output_type": "stream",
     "text": [
      "/home/tessmachado/miniconda3/envs/py37/lib/python3.7/site-packages/IPython/core/interactiveshell.py:3457: DtypeWarning: Columns (2,3,13,28,29,30,31,34,35) have mixed types.Specify dtype option on import or set low_memory=False.\n",
      "  exec(code_obj, self.user_global_ns, self.user_ns)\n"
     ]
    },
    {
     "data": {
      "text/plain": [
       "617580"
      ]
     },
     "execution_count": 2,
     "metadata": {},
     "output_type": "execute_result"
    }
   ],
   "source": [
    "data = pd.read_csv('datasets/TTS_data.csv')\n",
    "len(data)"
   ]
  },
  {
   "cell_type": "code",
   "execution_count": 3,
   "id": "dcefb5e6",
   "metadata": {},
   "outputs": [
    {
     "data": {
      "text/plain": [
       "Index(['Unnamed: 0', 'dataProvider1', 'dataProvider2', 'program1ProjectID',\n",
       "       'PTODate_orProxy_', 'systemSizeInDCSTC_KW_', 'totalInstalledCost___',\n",
       "       'Up_FrontCashIncentive___', 'customerSegment', 'is_expansion',\n",
       "       'is_multiphase', 'tracking_Y_N_', 'ground_mounted_Y_N_',\n",
       "       'hostCustomerZip__4_', 'hostCustomerCity', 'state',\n",
       "       'city_state_country', 'latitude', 'longitude',\n",
       "       'utilityServiceTerritory', 'x3rdPartyOwned_1_0_', 'installer_clean',\n",
       "       'self_install_Y_N_', 'azimuth_1', 'tilt_1', 'mod_manuf1_clean',\n",
       "       'mod_model1_clean', 'moduleQty_1', 'mod_manuf2_clean',\n",
       "       'mod_model2_clean', 'mod_manuf3_clean', 'mod_model3_clean',\n",
       "       'additionalModuleModels_Y_N_', 'mod_tech1', 'mod_tech2', 'mod_tech3',\n",
       "       'mod_BIPV1', 'mod_bifacial1', 'mod_nameplate_capacity1',\n",
       "       'mod_efficiency1', 'inv_manuf1_clean', 'inv_model1_clean',\n",
       "       'inverterQuantity_1', 'additionalInverterModels_Y_N_', 'inv_microinv1',\n",
       "       'inv_battery_hybrid1', 'inv_builtin_meter1', 'inv_outputcapacity1',\n",
       "       'dc_optimizer', 'ILR', 'TotalModuleQty'],\n",
       "      dtype='object')"
      ]
     },
     "execution_count": 3,
     "metadata": {},
     "output_type": "execute_result"
    }
   ],
   "source": [
    "data.columns"
   ]
  },
  {
   "cell_type": "code",
   "execution_count": 4,
   "id": "d0c6d4e3",
   "metadata": {},
   "outputs": [
    {
     "data": {
      "text/html": [
       "<div>\n",
       "<style scoped>\n",
       "    .dataframe tbody tr th:only-of-type {\n",
       "        vertical-align: middle;\n",
       "    }\n",
       "\n",
       "    .dataframe tbody tr th {\n",
       "        vertical-align: top;\n",
       "    }\n",
       "\n",
       "    .dataframe thead th {\n",
       "        text-align: right;\n",
       "    }\n",
       "</style>\n",
       "<table border=\"1\" class=\"dataframe\">\n",
       "  <thead>\n",
       "    <tr style=\"text-align: right;\">\n",
       "      <th></th>\n",
       "      <th>Unnamed: 0</th>\n",
       "      <th>dataProvider1</th>\n",
       "      <th>dataProvider2</th>\n",
       "      <th>program1ProjectID</th>\n",
       "      <th>PTODate_orProxy_</th>\n",
       "      <th>systemSizeInDCSTC_KW_</th>\n",
       "      <th>totalInstalledCost___</th>\n",
       "      <th>Up_FrontCashIncentive___</th>\n",
       "      <th>customerSegment</th>\n",
       "      <th>is_expansion</th>\n",
       "      <th>...</th>\n",
       "      <th>inverterQuantity_1</th>\n",
       "      <th>additionalInverterModels_Y_N_</th>\n",
       "      <th>inv_microinv1</th>\n",
       "      <th>inv_battery_hybrid1</th>\n",
       "      <th>inv_builtin_meter1</th>\n",
       "      <th>inv_outputcapacity1</th>\n",
       "      <th>dc_optimizer</th>\n",
       "      <th>ILR</th>\n",
       "      <th>TotalModuleQty</th>\n",
       "      <th>cost_per_module</th>\n",
       "    </tr>\n",
       "  </thead>\n",
       "  <tbody>\n",
       "    <tr>\n",
       "      <th>0</th>\n",
       "      <td>0</td>\n",
       "      <td>Arizona Public Service</td>\n",
       "      <td>-1</td>\n",
       "      <td>3</td>\n",
       "      <td>24-Jan-00</td>\n",
       "      <td>12.025</td>\n",
       "      <td>-1.0</td>\n",
       "      <td>-1.0</td>\n",
       "      <td>RES</td>\n",
       "      <td>0</td>\n",
       "      <td>...</td>\n",
       "      <td>-1.0</td>\n",
       "      <td>-1</td>\n",
       "      <td>1</td>\n",
       "      <td>0</td>\n",
       "      <td>0</td>\n",
       "      <td>0.240</td>\n",
       "      <td>0</td>\n",
       "      <td>-1.0</td>\n",
       "      <td>-1.0</td>\n",
       "      <td>-1</td>\n",
       "    </tr>\n",
       "    <tr>\n",
       "      <th>1</th>\n",
       "      <td>1</td>\n",
       "      <td>Arizona Public Service</td>\n",
       "      <td>-1</td>\n",
       "      <td>5</td>\n",
       "      <td>6-Mar-00</td>\n",
       "      <td>8.640</td>\n",
       "      <td>-1.0</td>\n",
       "      <td>-1.0</td>\n",
       "      <td>RES</td>\n",
       "      <td>0</td>\n",
       "      <td>...</td>\n",
       "      <td>-1.0</td>\n",
       "      <td>-1</td>\n",
       "      <td>0</td>\n",
       "      <td>0</td>\n",
       "      <td>1</td>\n",
       "      <td>7.616</td>\n",
       "      <td>1</td>\n",
       "      <td>-1.0</td>\n",
       "      <td>-1.0</td>\n",
       "      <td>-1</td>\n",
       "    </tr>\n",
       "    <tr>\n",
       "      <th>2</th>\n",
       "      <td>2</td>\n",
       "      <td>Arizona Public Service</td>\n",
       "      <td>-1</td>\n",
       "      <td>8</td>\n",
       "      <td>7-May-02</td>\n",
       "      <td>2.400</td>\n",
       "      <td>-1.0</td>\n",
       "      <td>-1.0</td>\n",
       "      <td>RES</td>\n",
       "      <td>0</td>\n",
       "      <td>...</td>\n",
       "      <td>-1.0</td>\n",
       "      <td>-1</td>\n",
       "      <td>0</td>\n",
       "      <td>-1</td>\n",
       "      <td>1</td>\n",
       "      <td>15.160</td>\n",
       "      <td>0</td>\n",
       "      <td>-1.0</td>\n",
       "      <td>-1.0</td>\n",
       "      <td>-1</td>\n",
       "    </tr>\n",
       "    <tr>\n",
       "      <th>3</th>\n",
       "      <td>3</td>\n",
       "      <td>Arizona Public Service</td>\n",
       "      <td>-1</td>\n",
       "      <td>10</td>\n",
       "      <td>17-Dec-02</td>\n",
       "      <td>2.160</td>\n",
       "      <td>-1.0</td>\n",
       "      <td>-1.0</td>\n",
       "      <td>RES</td>\n",
       "      <td>0</td>\n",
       "      <td>...</td>\n",
       "      <td>-1.0</td>\n",
       "      <td>-1</td>\n",
       "      <td>0</td>\n",
       "      <td>-1</td>\n",
       "      <td>1</td>\n",
       "      <td>15.160</td>\n",
       "      <td>0</td>\n",
       "      <td>-1.0</td>\n",
       "      <td>-1.0</td>\n",
       "      <td>-1</td>\n",
       "    </tr>\n",
       "    <tr>\n",
       "      <th>4</th>\n",
       "      <td>4</td>\n",
       "      <td>Arizona Public Service</td>\n",
       "      <td>-1</td>\n",
       "      <td>11</td>\n",
       "      <td>19-Dec-02</td>\n",
       "      <td>2.520</td>\n",
       "      <td>-1.0</td>\n",
       "      <td>-1.0</td>\n",
       "      <td>RES</td>\n",
       "      <td>0</td>\n",
       "      <td>...</td>\n",
       "      <td>-1.0</td>\n",
       "      <td>-1</td>\n",
       "      <td>0</td>\n",
       "      <td>-1</td>\n",
       "      <td>1</td>\n",
       "      <td>15.160</td>\n",
       "      <td>0</td>\n",
       "      <td>-1.0</td>\n",
       "      <td>-1.0</td>\n",
       "      <td>-1</td>\n",
       "    </tr>\n",
       "  </tbody>\n",
       "</table>\n",
       "<p>5 rows × 52 columns</p>\n",
       "</div>"
      ],
      "text/plain": [
       "   Unnamed: 0           dataProvider1 dataProvider2 program1ProjectID  \\\n",
       "0           0  Arizona Public Service            -1                 3   \n",
       "1           1  Arizona Public Service            -1                 5   \n",
       "2           2  Arizona Public Service            -1                 8   \n",
       "3           3  Arizona Public Service            -1                10   \n",
       "4           4  Arizona Public Service            -1                11   \n",
       "\n",
       "  PTODate_orProxy_  systemSizeInDCSTC_KW_  totalInstalledCost___  \\\n",
       "0        24-Jan-00                 12.025                   -1.0   \n",
       "1         6-Mar-00                  8.640                   -1.0   \n",
       "2         7-May-02                  2.400                   -1.0   \n",
       "3        17-Dec-02                  2.160                   -1.0   \n",
       "4        19-Dec-02                  2.520                   -1.0   \n",
       "\n",
       "   Up_FrontCashIncentive___ customerSegment  is_expansion  ...  \\\n",
       "0                      -1.0             RES             0  ...   \n",
       "1                      -1.0             RES             0  ...   \n",
       "2                      -1.0             RES             0  ...   \n",
       "3                      -1.0             RES             0  ...   \n",
       "4                      -1.0             RES             0  ...   \n",
       "\n",
       "   inverterQuantity_1  additionalInverterModels_Y_N_  inv_microinv1  \\\n",
       "0                -1.0                             -1              1   \n",
       "1                -1.0                             -1              0   \n",
       "2                -1.0                             -1              0   \n",
       "3                -1.0                             -1              0   \n",
       "4                -1.0                             -1              0   \n",
       "\n",
       "  inv_battery_hybrid1 inv_builtin_meter1 inv_outputcapacity1 dc_optimizer  \\\n",
       "0                   0                  0               0.240            0   \n",
       "1                   0                  1               7.616            1   \n",
       "2                  -1                  1              15.160            0   \n",
       "3                  -1                  1              15.160            0   \n",
       "4                  -1                  1              15.160            0   \n",
       "\n",
       "   ILR  TotalModuleQty cost_per_module  \n",
       "0 -1.0            -1.0              -1  \n",
       "1 -1.0            -1.0              -1  \n",
       "2 -1.0            -1.0              -1  \n",
       "3 -1.0            -1.0              -1  \n",
       "4 -1.0            -1.0              -1  \n",
       "\n",
       "[5 rows x 52 columns]"
      ]
     },
     "execution_count": 4,
     "metadata": {},
     "output_type": "execute_result"
    }
   ],
   "source": [
    "# create new column: installation cost per module\n",
    "# create new df with relevant columns for calculation\n",
    "data2 = data[['totalInstalledCost___', 'TotalModuleQty']]\n",
    "vals = [] # initialize empty list\n",
    "\n",
    "for i in range(len(data2)):\n",
    "    # avoid dividing by zero and -1 (no data)\n",
    "    if (data2['TotalModuleQty'][i] != 0) or (data2['TotalModuleQty'][i] != -1) or (data2['totalInstalledCost___'][i] != 0) or (data2['totalInstalledCost___'][i] != -1):\n",
    "        vals.append(-1)\n",
    "    else:\n",
    "        vals.append(data2['totalInstalledCost___'][i]/data2['TotalModuleQty'][i])\n",
    "            \n",
    "data2.insert(loc = 2, column='cost_per_module', value = vals) # creates new column\n",
    "data['cost_per_module'] = data2['cost_per_module'] # creates column to primary dataset\n",
    "data.head()"
   ]
  },
  {
   "cell_type": "code",
   "execution_count": 3,
   "id": "80744f15",
   "metadata": {},
   "outputs": [
    {
     "data": {
      "text/plain": [
       "492343"
      ]
     },
     "execution_count": 3,
     "metadata": {},
     "output_type": "execute_result"
    }
   ],
   "source": [
    "df = data.where(data['totalInstalledCost___'] != -1).dropna()\n",
    "#data.dropna(subset=['totalInstalledCost___'])\n",
    "len(df)"
   ]
  },
  {
   "cell_type": "markdown",
   "id": "eb584f88",
   "metadata": {},
   "source": [
    "# Heatmaps"
   ]
  },
  {
   "cell_type": "code",
   "execution_count": 4,
   "id": "4e50ff3f",
   "metadata": {
    "scrolled": true
   },
   "outputs": [
    {
     "data": {
      "text/plain": [
       "<AxesSubplot:>"
      ]
     },
     "execution_count": 4,
     "metadata": {},
     "output_type": "execute_result"
    },
    {
     "data": {
      "image/png": "[encoded data removed]",
      "text/plain": [
       "<Figure size 792x648 with 2 Axes>"
      ]
     },
     "metadata": {},
     "output_type": "display_data"
    }
   ],
   "source": [
    "from string import ascii_letters\n",
    "import numpy as np\n",
    "import pandas as pd\n",
    "import seaborn as sns\n",
    "import matplotlib.pyplot as plt\n",
    "\n",
    "sns.set_theme(style=\"white\")\n",
    "\n",
    "# Generate a large random dataset\n",
    "rs = np.random.RandomState(33)\n",
    "#d = pd.DataFrame(data=rs.normal(size=(100, 26)),\n",
    "#                 columns=list(ascii_letters[26:]))\n",
    "\n",
    "# Compute the correlation matrix\n",
    "corr = df.corr()\n",
    "\n",
    "# Generate a mask for the upper triangle\n",
    "mask = np.triu(np.ones_like(corr, dtype=bool))\n",
    "\n",
    "# Set up the matplotlib figure\n",
    "f, ax = plt.subplots(figsize=(11, 9))\n",
    "\n",
    "# Generate a custom diverging colormap\n",
    "cmap = sns.diverging_palette(230, 20, as_cmap=True)\n",
    "\n",
    "# Draw the heatmap with the mask and correct aspect ratio\n",
    "sns.heatmap(corr, mask=mask, cmap=cmap, vmax=.3, center=0,\n",
    "            square=True, linewidths=.5, cbar_kws={\"shrink\": .5})\n"
   ]
  },
  {
   "cell_type": "code",
   "execution_count": 5,
   "id": "08259430",
   "metadata": {},
   "outputs": [
    {
     "ename": "KeyError",
     "evalue": "\"['cost_per_module'] not in index\"",
     "output_type": "error",
     "traceback": [
      "\u001b[0;31m---------------------------------------------------------------------------\u001b[0m",
      "\u001b[0;31mKeyError\u001b[0m                                  Traceback (most recent call last)",
      "\u001b[0;32m/tmp/ipykernel_252/408609262.py\u001b[0m in \u001b[0;36m<module>\u001b[0;34m\u001b[0m\n\u001b[1;32m      4\u001b[0m         \u001b[0;34m'mod_bifacial1'\u001b[0m\u001b[0;34m,\u001b[0m \u001b[0;34m'mod_nameplate_capacity1'\u001b[0m\u001b[0;34m,\u001b[0m \u001b[0;34m'mod_efficiency1'\u001b[0m\u001b[0;34m,\u001b[0m \u001b[0;34m'inverterQuantity_1'\u001b[0m\u001b[0;34m,\u001b[0m\u001b[0;34m\u001b[0m\u001b[0;34m\u001b[0m\u001b[0m\n\u001b[1;32m      5\u001b[0m         \u001b[0;34m'inv_microinv1'\u001b[0m\u001b[0;34m,\u001b[0m \u001b[0;34m'inv_battery_hybrid1'\u001b[0m\u001b[0;34m,\u001b[0m \u001b[0;34m'inv_builtin_meter1'\u001b[0m\u001b[0;34m,\u001b[0m \u001b[0;34m'inv_outputcapacity1'\u001b[0m\u001b[0;34m,\u001b[0m\u001b[0;34m\u001b[0m\u001b[0;34m\u001b[0m\u001b[0m\n\u001b[0;32m----> 6\u001b[0;31m         'dc_optimizer', 'ILR', 'TotalModuleQty', 'latitude', 'longitude', 'cost_per_module']]\n\u001b[0m\u001b[1;32m      7\u001b[0m \u001b[0mdf1\u001b[0m \u001b[0;34m=\u001b[0m \u001b[0mdf1\u001b[0m\u001b[0;34m.\u001b[0m\u001b[0mdropna\u001b[0m\u001b[0;34m(\u001b[0m\u001b[0msubset\u001b[0m\u001b[0;34m=\u001b[0m\u001b[0;34m[\u001b[0m\u001b[0;34m'latitude'\u001b[0m\u001b[0;34m,\u001b[0m \u001b[0;34m'longitude'\u001b[0m\u001b[0;34m]\u001b[0m\u001b[0;34m)\u001b[0m\u001b[0;34m\u001b[0m\u001b[0;34m\u001b[0m\u001b[0m\n\u001b[1;32m      8\u001b[0m \u001b[0;34m\u001b[0m\u001b[0m\n",
      "\u001b[0;32m~/miniconda3/envs/py37/lib/python3.7/site-packages/pandas/core/frame.py\u001b[0m in \u001b[0;36m__getitem__\u001b[0;34m(self, key)\u001b[0m\n\u001b[1;32m   3462\u001b[0m             \u001b[0;32mif\u001b[0m \u001b[0mis_iterator\u001b[0m\u001b[0;34m(\u001b[0m\u001b[0mkey\u001b[0m\u001b[0;34m)\u001b[0m\u001b[0;34m:\u001b[0m\u001b[0;34m\u001b[0m\u001b[0;34m\u001b[0m\u001b[0m\n\u001b[1;32m   3463\u001b[0m                 \u001b[0mkey\u001b[0m \u001b[0;34m=\u001b[0m \u001b[0mlist\u001b[0m\u001b[0;34m(\u001b[0m\u001b[0mkey\u001b[0m\u001b[0;34m)\u001b[0m\u001b[0;34m\u001b[0m\u001b[0;34m\u001b[0m\u001b[0m\n\u001b[0;32m-> 3464\u001b[0;31m             \u001b[0mindexer\u001b[0m \u001b[0;34m=\u001b[0m \u001b[0mself\u001b[0m\u001b[0;34m.\u001b[0m\u001b[0mloc\u001b[0m\u001b[0;34m.\u001b[0m\u001b[0m_get_listlike_indexer\u001b[0m\u001b[0;34m(\u001b[0m\u001b[0mkey\u001b[0m\u001b[0;34m,\u001b[0m \u001b[0maxis\u001b[0m\u001b[0;34m=\u001b[0m\u001b[0;36m1\u001b[0m\u001b[0;34m)\u001b[0m\u001b[0;34m[\u001b[0m\u001b[0;36m1\u001b[0m\u001b[0;34m]\u001b[0m\u001b[0;34m\u001b[0m\u001b[0;34m\u001b[0m\u001b[0m\n\u001b[0m\u001b[1;32m   3465\u001b[0m \u001b[0;34m\u001b[0m\u001b[0m\n\u001b[1;32m   3466\u001b[0m         \u001b[0;31m# take() does not accept boolean indexers\u001b[0m\u001b[0;34m\u001b[0m\u001b[0;34m\u001b[0m\u001b[0;34m\u001b[0m\u001b[0m\n",
      "\u001b[0;32m~/miniconda3/envs/py37/lib/python3.7/site-packages/pandas/core/indexing.py\u001b[0m in \u001b[0;36m_get_listlike_indexer\u001b[0;34m(self, key, axis)\u001b[0m\n\u001b[1;32m   1312\u001b[0m             \u001b[0mkeyarr\u001b[0m\u001b[0;34m,\u001b[0m \u001b[0mindexer\u001b[0m\u001b[0;34m,\u001b[0m \u001b[0mnew_indexer\u001b[0m \u001b[0;34m=\u001b[0m \u001b[0max\u001b[0m\u001b[0;34m.\u001b[0m\u001b[0m_reindex_non_unique\u001b[0m\u001b[0;34m(\u001b[0m\u001b[0mkeyarr\u001b[0m\u001b[0;34m)\u001b[0m\u001b[0;34m\u001b[0m\u001b[0;34m\u001b[0m\u001b[0m\n\u001b[1;32m   1313\u001b[0m \u001b[0;34m\u001b[0m\u001b[0m\n\u001b[0;32m-> 1314\u001b[0;31m         \u001b[0mself\u001b[0m\u001b[0;34m.\u001b[0m\u001b[0m_validate_read_indexer\u001b[0m\u001b[0;34m(\u001b[0m\u001b[0mkeyarr\u001b[0m\u001b[0;34m,\u001b[0m \u001b[0mindexer\u001b[0m\u001b[0;34m,\u001b[0m \u001b[0maxis\u001b[0m\u001b[0;34m)\u001b[0m\u001b[0;34m\u001b[0m\u001b[0;34m\u001b[0m\u001b[0m\n\u001b[0m\u001b[1;32m   1315\u001b[0m \u001b[0;34m\u001b[0m\u001b[0m\n\u001b[1;32m   1316\u001b[0m         if needs_i8_conversion(ax.dtype) or isinstance(\n",
      "\u001b[0;32m~/miniconda3/envs/py37/lib/python3.7/site-packages/pandas/core/indexing.py\u001b[0m in \u001b[0;36m_validate_read_indexer\u001b[0;34m(self, key, indexer, axis)\u001b[0m\n\u001b[1;32m   1375\u001b[0m \u001b[0;34m\u001b[0m\u001b[0m\n\u001b[1;32m   1376\u001b[0m             \u001b[0mnot_found\u001b[0m \u001b[0;34m=\u001b[0m \u001b[0mlist\u001b[0m\u001b[0;34m(\u001b[0m\u001b[0mensure_index\u001b[0m\u001b[0;34m(\u001b[0m\u001b[0mkey\u001b[0m\u001b[0;34m)\u001b[0m\u001b[0;34m[\u001b[0m\u001b[0mmissing_mask\u001b[0m\u001b[0;34m.\u001b[0m\u001b[0mnonzero\u001b[0m\u001b[0;34m(\u001b[0m\u001b[0;34m)\u001b[0m\u001b[0;34m[\u001b[0m\u001b[0;36m0\u001b[0m\u001b[0;34m]\u001b[0m\u001b[0;34m]\u001b[0m\u001b[0;34m.\u001b[0m\u001b[0munique\u001b[0m\u001b[0;34m(\u001b[0m\u001b[0;34m)\u001b[0m\u001b[0;34m)\u001b[0m\u001b[0;34m\u001b[0m\u001b[0;34m\u001b[0m\u001b[0m\n\u001b[0;32m-> 1377\u001b[0;31m             \u001b[0;32mraise\u001b[0m \u001b[0mKeyError\u001b[0m\u001b[0;34m(\u001b[0m\u001b[0;34mf\"{not_found} not in index\"\u001b[0m\u001b[0;34m)\u001b[0m\u001b[0;34m\u001b[0m\u001b[0;34m\u001b[0m\u001b[0m\n\u001b[0m\u001b[1;32m   1378\u001b[0m \u001b[0;34m\u001b[0m\u001b[0m\n\u001b[1;32m   1379\u001b[0m \u001b[0;34m\u001b[0m\u001b[0m\n",
      "\u001b[0;31mKeyError\u001b[0m: \"['cost_per_module'] not in index\""
     ]
    }
   ],
   "source": [
    "from string import ascii_letters\n",
    "\n",
    "df1 = df[['totalInstalledCost___', 'systemSizeInDCSTC_KW_', 'Up_FrontCashIncentive___', 'azimuth_1', 'tilt_1', 'mod_BIPV1', \n",
    "        'mod_bifacial1', 'mod_nameplate_capacity1', 'mod_efficiency1', 'inverterQuantity_1', \n",
    "        'inv_microinv1', 'inv_battery_hybrid1', 'inv_builtin_meter1', 'inv_outputcapacity1', \n",
    "        'dc_optimizer', 'ILR', 'TotalModuleQty', 'latitude', 'longitude', 'cost_per_module']]\n",
    "df1 = df1.dropna(subset=['latitude', 'longitude'])\n",
    "\n",
    "sns.set_theme(style=\"white\")\n",
    "\n",
    "# Generate a large random dataset\n",
    "rs = np.random.RandomState(33)\n",
    "#d = pd.DataFrame(data=rs.normal(size=(100, 26)),\n",
    "#                 columns=list(ascii_letters[26:]))\n",
    "\n",
    "# Compute the correlation matrix\n",
    "corr = df1.corr()\n",
    "\n",
    "# Generate a mask for the upper triangle\n",
    "mask = np.triu(np.ones_like(corr, dtype=bool))\n",
    "\n",
    "# Set up the matplotlib figure\n",
    "f, ax = plt.subplots(figsize=(11, 9))\n",
    "\n",
    "# Generate a custom diverging colormap\n",
    "cmap = sns.diverging_palette(230, 20, as_cmap=True)\n",
    "\n",
    "# Draw the heatmap with the mask and correct aspect ratio\n",
    "sns.heatmap(corr, mask=mask, cmap=cmap, vmax=.3, center=0,\n",
    "            square=True, linewidths=.5, cbar_kws={\"shrink\": .5})"
   ]
  },
  {
   "cell_type": "code",
   "execution_count": null,
   "id": "6552f089",
   "metadata": {},
   "outputs": [],
   "source": [
    "df1 = df1.where(df1['TotalModuleQty'] != -1).dropna()\n",
    "plt.scatter(df1['totalInstalledCost___'], df1['TotalModuleQty'])\n",
    "plt.xlabel('total installed cost')\n",
    "plt.ylabel('TotalModuleQty')\n",
    "plt.show()"
   ]
  },
  {
   "cell_type": "markdown",
   "id": "8ab3d33e",
   "metadata": {},
   "source": [
    "# Stepwise Selection"
   ]
  },
  {
   "cell_type": "code",
   "execution_count": 19,
   "id": "ce5fbffb",
   "metadata": {},
   "outputs": [],
   "source": [
    "X = df[['systemSizeInDCSTC_KW_', 'Up_FrontCashIncentive___', 'azimuth_1', 'tilt_1', \n",
    "        'mod_nameplate_capacity1', 'inverterQuantity_1', 'inv_outputcapacity1', \n",
    "        'ILR', 'TotalModuleQty', 'latitude', 'longitude','mod_efficiency1']]\n",
    "\n",
    "y = df['totalInstalledCost___']\n",
    "X_train, X_test, y_train, y_test = train_test_split(X, y, test_size=0.21, random_state=9, shuffle = True)"
   ]
  },
  {
   "cell_type": "code",
   "execution_count": 20,
   "id": "cdba1cf5",
   "metadata": {},
   "outputs": [],
   "source": [
    "# use standard scalar on X to see the effect\n",
    "X_scale = StandardScaler().fit(X)\n",
    "X_scale = X_scale.transform(X)"
   ]
  },
  {
   "cell_type": "code",
   "execution_count": 13,
   "id": "99b14a02",
   "metadata": {},
   "outputs": [],
   "source": [
    "names = 'systemSizeInDCSTC_KW_', 'Up_FrontCashIncentive___', 'azimuth_1', 'tilt_1', 'mod_nameplate_capacity1', 'inverterQuantity_1', 'inv_outputcapacity1', 'ILR', 'TotalModuleQty', 'latitude', 'longitude','mod_efficiency1'\n",
    "f_names = np.array(names)"
   ]
  },
  {
   "cell_type": "code",
   "execution_count": 14,
   "id": "5efc056a",
   "metadata": {},
   "outputs": [
    {
     "name": "stdout",
     "output_type": "stream",
     "text": [
      "support:  [ True False False False  True False False False  True  True False  True] \n",
      "\n",
      "[ 0  4  8  9 11]\n",
      "Selected input features using Forward Stepwise Selection: \n",
      " ['systemSizeInDCSTC_KW_' 'mod_nameplate_capacity1' 'TotalModuleQty'\n",
      " 'latitude' 'mod_efficiency1']\n"
     ]
    }
   ],
   "source": [
    "# Forward stepwise selection\n",
    "sfs_forward = SequentialFeatureSelector(linear_model.LinearRegression(), \n",
    "                                        n_features_to_select=5, \n",
    "                                        direction = 'forward').fit(X,y)\n",
    "print('support: ', sfs_forward.get_support(), \"\\n\")\n",
    "selected = sfs_forward.get_support(indices = True)\n",
    "print(selected)\n",
    "print('Selected input features using Forward Stepwise Selection: \\n', f_names[selected])"
   ]
  },
  {
   "cell_type": "code",
   "execution_count": 21,
   "id": "57e96bed",
   "metadata": {},
   "outputs": [
    {
     "name": "stdout",
     "output_type": "stream",
     "text": [
      "support:  [ True False False False  True False False False  True  True False  True] \n",
      "\n",
      "[ 0  4  8  9 11]\n",
      "Selected input features using Forward Stepwise Selection: \n",
      " ['systemSizeInDCSTC_KW_' 'mod_nameplate_capacity1' 'TotalModuleQty'\n",
      " 'latitude' 'mod_efficiency1']\n"
     ]
    }
   ],
   "source": [
    "# Forward stepwise selection\n",
    "sfs_forward = SequentialFeatureSelector(linear_model.LinearRegression(), \n",
    "                                        n_features_to_select=5, \n",
    "                                        direction = 'forward').fit(X_scale,y)\n",
    "print('support: ', sfs_forward.get_support(), \"\\n\")\n",
    "selected = sfs_forward.get_support(indices = True)\n",
    "print(selected)\n",
    "print('Selected input features using Forward Stepwise Selection: \\n', f_names[selected])"
   ]
  },
  {
   "cell_type": "code",
   "execution_count": 59,
   "id": "8a1c2d51",
   "metadata": {
    "scrolled": true
   },
   "outputs": [
    {
     "name": "stdout",
     "output_type": "stream",
     "text": [
      "support:  [ True False False False  True False False  True  True False False  True] \n",
      "\n",
      "[ 0  4  7  8 11]\n",
      "Selected input features using Backward Stepwise Selection: \n",
      " ['systemSizeInDCSTC_KW_' 'mod_nameplate_capacity1' 'ILR' 'TotalModuleQty'\n",
      " 'mod_efficiency1']\n"
     ]
    }
   ],
   "source": [
    "sfs_backward = SequentialFeatureSelector(linear_model.LinearRegression(), \n",
    "                                        n_features_to_select=5, \n",
    "                                        direction = 'backward').fit(X,y)\n",
    "\n",
    "print('support: ', sfs_backward.get_support(), \"\\n\")\n",
    "selected = sfs_backward.get_support(indices = True)\n",
    "print(selected)\n",
    "print('Selected input features using Backward Stepwise Selection: \\n', f_names[selected])"
   ]
  },
  {
   "cell_type": "code",
   "execution_count": 23,
   "id": "74931707",
   "metadata": {},
   "outputs": [
    {
     "name": "stdout",
     "output_type": "stream",
     "text": [
      "support:  [ True False False False  True False False  True  True False False  True] \n",
      "\n",
      "[ 0  4  7  8 11]\n",
      "Selected input features using Backward Stepwise Selection: \n",
      " ['systemSizeInDCSTC_KW_' 'mod_nameplate_capacity1' 'ILR' 'TotalModuleQty'\n",
      " 'mod_efficiency1']\n"
     ]
    }
   ],
   "source": [
    "sfs_backward = SequentialFeatureSelector(linear_model.LinearRegression(), \n",
    "                                        n_features_to_select=5, \n",
    "                                        direction = 'backward').fit(X_scale,y)\n",
    "\n",
    "print('support: ', sfs_backward.get_support(), \"\\n\")\n",
    "selected = sfs_backward.get_support(indices = True)\n",
    "print(selected)\n",
    "print('Selected input features using Backward Stepwise Selection: \\n', f_names[selected])"
   ]
  },
  {
   "cell_type": "code",
   "execution_count": 64,
   "id": "2bfbf577",
   "metadata": {},
   "outputs": [],
   "source": [
    "# stepwise for efficiency\n",
    "X = df[['systemSizeInDCSTC_KW_', 'Up_FrontCashIncentive___', 'azimuth_1', 'tilt_1', \n",
    "        'mod_nameplate_capacity1', 'inverterQuantity_1', 'inv_outputcapacity1', \n",
    "        'ILR', 'TotalModuleQty', 'latitude', 'longitude','totalInstalledCost___']]\n",
    "\n",
    "y = df['mod_efficiency1']\n",
    "X_train, X_test, y_train, y_test = train_test_split(X, y, test_size=0.21, random_state=9, shuffle = True)"
   ]
  },
  {
   "cell_type": "code",
   "execution_count": 65,
   "id": "5723823f",
   "metadata": {},
   "outputs": [],
   "source": [
    "names = 'systemSizeInDCSTC_KW_', 'Up_FrontCashIncentive___', 'azimuth_1', 'tilt_1', 'mod_nameplate_capacity1', 'inverterQuantity_1', 'inv_outputcapacity1', 'ILR', 'TotalModuleQty', 'latitude', 'longitude','totalInstalledCost___'\n",
    "f_names = np.array(names)"
   ]
  },
  {
   "cell_type": "code",
   "execution_count": 66,
   "id": "6b0ca76a",
   "metadata": {},
   "outputs": [
    {
     "name": "stdout",
     "output_type": "stream",
     "text": [
      "support:  [ True False False False  True  True False False  True False False  True] \n",
      "\n",
      "[ 0  4  5  8 11]\n",
      "Selected input features using Forward Stepwise Selection: \n",
      " ['systemSizeInDCSTC_KW_' 'mod_nameplate_capacity1' 'inverterQuantity_1'\n",
      " 'TotalModuleQty' 'totalInstalledCost___']\n"
     ]
    }
   ],
   "source": [
    "# Forward stepwise selection\n",
    "sfs_forward = SequentialFeatureSelector(linear_model.LinearRegression(), \n",
    "                                        n_features_to_select=5, \n",
    "                                        direction = 'forward').fit(X,y)\n",
    "print('support: ', sfs_forward.get_support(), \"\\n\")\n",
    "selected = sfs_forward.get_support(indices = True)\n",
    "print(selected)\n",
    "print('Selected input features using Forward Stepwise Selection: \\n', f_names[selected])"
   ]
  },
  {
   "cell_type": "code",
   "execution_count": 67,
   "id": "0eab6c27",
   "metadata": {},
   "outputs": [
    {
     "name": "stdout",
     "output_type": "stream",
     "text": [
      "support:  [ True False False False  True  True False  True False False False  True] \n",
      "\n",
      "[ 0  4  5  7 11]\n",
      "Selected input features using Backward Stepwise Selection: \n",
      " ['systemSizeInDCSTC_KW_' 'mod_nameplate_capacity1' 'inverterQuantity_1'\n",
      " 'ILR' 'totalInstalledCost___']\n"
     ]
    }
   ],
   "source": [
    "sfs_backward = SequentialFeatureSelector(linear_model.LinearRegression(), \n",
    "                                        n_features_to_select=5, \n",
    "                                        direction = 'backward').fit(X,y)\n",
    "\n",
    "print('support: ', sfs_backward.get_support(), \"\\n\")\n",
    "selected = sfs_backward.get_support(indices = True)\n",
    "print(selected)\n",
    "print('Selected input features using Backward Stepwise Selection: \\n', f_names[selected])"
   ]
  },
  {
   "cell_type": "markdown",
   "id": "18b0fa17",
   "metadata": {},
   "source": [
    "# Regressors"
   ]
  },
  {
   "cell_type": "code",
   "execution_count": 41,
   "id": "88db24c2",
   "metadata": {},
   "outputs": [],
   "source": [
    "df_reg = df[['systemSizeInDCSTC_KW_', 'Up_FrontCashIncentive___', 'azimuth_1', 'tilt_1', \n",
    "        'mod_nameplate_capacity1', 'inverterQuantity_1', 'inv_outputcapacity1', 'ILR', \n",
    "        'TotalModuleQty', 'latitude', 'longitude','totalInstalledCost___', 'mod_efficiency1']]\n",
    "df_reg = df_reg.where(data['systemSizeInDCSTC_KW_'] != -1).dropna()\n",
    "df_reg = df_reg.where(data['Up_FrontCashIncentive___'] != -1).dropna()\n",
    "df_reg = df_reg.where(data['mod_nameplate_capacity1'] != -1).dropna()\n",
    "df_reg = df_reg.where(data['inverterQuantity_1'] != -1).dropna()\n",
    "df_reg = df_reg.where(data['inv_outputcapacity1'] != -1).dropna()\n",
    "df_reg = df_reg.where(data['ILR'] != -1).dropna()\n",
    "df_reg = df_reg.where(data['TotalModuleQty'] != -1).dropna()\n",
    "df_reg = df_reg.where(data['latitude'] != -1).dropna()\n",
    "df_reg = df_reg.where(data['longitude'] != -1).dropna()\n",
    "df_reg = df_reg.where(data['mod_efficiency1'] != -1).dropna()\n",
    "df_reg = df_reg.where(data['azimuth_1'] != -1).dropna()\n",
    "df_reg = df_reg.where(data['tilt_1'] != -1).dropna()\n"
   ]
  },
  {
   "cell_type": "code",
   "execution_count": 45,
   "id": "8f94c463",
   "metadata": {},
   "outputs": [],
   "source": [
    "X = df_reg[['systemSizeInDCSTC_KW_', 'Up_FrontCashIncentive___', 'azimuth_1', 'tilt_1', \n",
    "        'mod_nameplate_capacity1', 'inverterQuantity_1', 'inv_outputcapacity1', \n",
    "        'ILR', 'TotalModuleQty', 'latitude', 'longitude','mod_efficiency1']]\n",
    "\n",
    "y = df_reg['totalInstalledCost___']\n",
    "X_train, X_test, y_train, y_test = train_test_split(X, y, test_size=0.21, random_state=9, shuffle = True)"
   ]
  },
  {
   "cell_type": "code",
   "execution_count": 46,
   "id": "4172aba7",
   "metadata": {},
   "outputs": [],
   "source": [
    "X_scale = StandardScaler().fit(X_train)\n",
    "X_scale = X_scale.transform(X_train)"
   ]
  },
  {
   "cell_type": "code",
   "execution_count": 43,
   "id": "d3e6a5ed",
   "metadata": {},
   "outputs": [
    {
     "name": "stderr",
     "output_type": "stream",
     "text": [
      "/home/tessmachado/miniconda3/envs/py37/lib/python3.7/site-packages/sklearn/base.py:444: UserWarning: X has feature names, but BaggingRegressor was fitted without feature names\n",
      "  f\"X has feature names, but {self.__class__.__name__} was fitted without\"\n"
     ]
    },
    {
     "name": "stdout",
     "output_type": "stream",
     "text": [
      "121017609195806.77\n",
      "-1641.4648681115973\n"
     ]
    }
   ],
   "source": [
    "estimator = DecisionTreeRegressor(max_depth=4)\n",
    "clf_bag = BaggingRegressor(base_estimator=estimator, n_estimators=100, random_state=7)\n",
    "clf_bag = clf_bag.fit(X_scale, y_train)\n",
    "y_predict = clf_bag.predict(X_test)\n",
    "mse_bag = mean_squared_error(y_test, y_predict)\n",
    "r2_bag = r2_score(y_test, y_predict)\n",
    "print(mse_bag)\n",
    "print(r2_bag)"
   ]
  },
  {
   "cell_type": "code",
   "execution_count": 47,
   "id": "94f0a80a",
   "metadata": {},
   "outputs": [
    {
     "name": "stdout",
     "output_type": "stream",
     "text": [
      "62172812463508.37\n",
      "-842.8165396060532\n"
     ]
    },
    {
     "name": "stderr",
     "output_type": "stream",
     "text": [
      "/home/tessmachado/miniconda3/envs/py37/lib/python3.7/site-packages/sklearn/base.py:444: UserWarning: X has feature names, but RandomForestRegressor was fitted without feature names\n",
      "  f\"X has feature names, but {self.__class__.__name__} was fitted without\"\n"
     ]
    }
   ],
   "source": [
    "clf_RF = RandomForestRegressor(n_estimators = 100, max_depth = 5, max_features = 5, random_state = 7)\n",
    "clf_RF = clf_RF.fit(X_scale, y_train)\n",
    "y_predict_RF = clf_RF.predict(X_test)\n",
    "mse_RF = mean_squared_error(y_test, y_predict_RF)\n",
    "r2_RF = r2_score(y_test, y_predict_RF)\n",
    "print(mse_RF)\n",
    "print(r2_RF)"
   ]
  },
  {
   "cell_type": "code",
   "execution_count": 29,
   "id": "555476a5",
   "metadata": {},
   "outputs": [
    {
     "name": "stdout",
     "output_type": "stream",
     "text": [
      "21806894515.36259\n",
      "0.7040343272180625\n"
     ]
    }
   ],
   "source": [
    "clf_GB = GradientBoostingRegressor(n_estimators=1000, learning_rate=0.1, max_depth=1, random_state=7)\n",
    "clf_GB = clf_GB.fit(X_train, y_train)\n",
    "y_predict = clf_GB.predict(X_test)\n",
    "mse_GB = mean_squared_error(y_test, y_predict)\n",
    "r2_GB = r2_score(y_test, y_predict)\n",
    "print(mse_GB)\n",
    "print(r2_GB)"
   ]
  },
  {
   "cell_type": "code",
   "execution_count": 30,
   "id": "85d13f33",
   "metadata": {},
   "outputs": [
    {
     "data": {
      "image/png": "[encoded data removed]",
      "text/plain": [
       "<Figure size 432x288 with 2 Axes>"
      ]
     },
     "metadata": {},
     "output_type": "display_data"
    }
   ],
   "source": [
    "MSE = [mse_bag, mse_RF, mse_GB]\n",
    "reg = ['Bag', 'RF', 'GB']\n",
    "r2 = [r2_bag, r2_RF, r2_GB]\n",
    "\n",
    "fig, ax1 = plt.subplots()\n",
    "ax2 = ax1.twinx()\n",
    "\n",
    "ax1.scatter(reg, r2, color = 'royalblue', label = 'r2')\n",
    "ax2.scatter(reg, MSE, color = 'orange', label = 'MSE')\n",
    "\n",
    "ax1.set_xlabel('Regression Function')\n",
    "ax1.set_ylabel('r2', color = 'royalblue')\n",
    "ax2.set_ylabel('MSE', color = 'orange')\n",
    "\n",
    "#ax1.legend()\n",
    "#ax2.legend()\n",
    "plt.show()"
   ]
  },
  {
   "cell_type": "code",
   "execution_count": null,
   "id": "fc06d385",
   "metadata": {},
   "outputs": [],
   "source": [
    "X_scale = StandardScaler().fit(X_train)\n",
    "X_scale = X_scale.transform(X_train)"
   ]
  },
  {
   "cell_type": "code",
   "execution_count": 35,
   "id": "d1c5942f",
   "metadata": {},
   "outputs": [
    {
     "data": {
      "image/png": "[encoded data removed]",
      "text/plain": [
       "<Figure size 432x360 with 1 Axes>"
      ]
     },
     "metadata": {},
     "output_type": "display_data"
    }
   ],
   "source": [
    "plt.figure(figsize = (6,5))\n",
    "plt.plot(y_test, y_predict_RF, 'o', color = 'green', label = 'predicted')\n",
    "plt.plot(y_predict_RF, y_predict_RF, '-', color = 'red', label = 'ideal')\n",
    "\n",
    "plt.title('Random Forest Regressor')\n",
    "plt.xlabel('y test set')\n",
    "plt.ylabel('y predict')\n",
    "plt.legend()\n",
    "\n",
    "plt.show()"
   ]
  },
  {
   "cell_type": "markdown",
   "id": "bea1f368",
   "metadata": {},
   "source": [
    "# Hyperparameter Optimization"
   ]
  },
  {
   "cell_type": "code",
   "execution_count": null,
   "id": "a03a84cb",
   "metadata": {},
   "outputs": [],
   "source": [
    "for i in data['totalInstalledCost___']:\n",
    "    i = int(i)\n",
    "    \n",
    "X = data[['systemSizeInDCSTC_KW_', 'moduleQty_1', 'mod_nameplate_capacity1', 'mod_efficiency1', 'TotalModuleQty']]\n",
    "y = data['totalInstalledCost___']\n",
    "\n",
    "X_dev, X_test, y_dev, y_test = sklearn.model_selection.train_test_split(\n",
    "    X, y, test_size=0.20, random_state=42)\n",
    "\n",
    "X_train, X_val, y_train, y_val = sklearn.model_selection.train_test_split(\n",
    "    X_dev, y_dev, test_size=0.20, random_state=42)"
   ]
  },
  {
   "cell_type": "code",
   "execution_count": null,
   "id": "5ab441cf",
   "metadata": {},
   "outputs": [],
   "source": [
    "#from sklearn.tree import DecisionTreeClassifier\n",
    "def train_evaluate_hyperparameters(max_depth, min_weight_fraction_leaf):\n",
    "    # create a model\n",
    "    model = sklearn.tree.DecisionTreeClassifier(max_depth = max_depth, \n",
    "                                 min_weight_fraction_leaf = min_weight_fraction_leaf, \n",
    "                                 random_state = 42)\n",
    "    # train the model on the training set\n",
    "    model.fit(X_train, y_train)\n",
    "    # evaluate the model on the validation set\n",
    "    score = model.score(X_val, y_val)\n",
    "    return score\n"
   ]
  },
  {
   "cell_type": "code",
   "execution_count": null,
   "id": "cafdd209",
   "metadata": {},
   "outputs": [],
   "source": [
    "# create hyperparameter value options for each hyperparameter\n",
    "max_depth_options = list(range(1,10))\n",
    "min_weight_fraction_options = np.linspace(0.0,0.5,10)\n",
    "\n",
    "# create a matrix to store results\n",
    "validation_score = np.empty(\n",
    "    (len(max_depth_options), len(min_weight_fraction_options))\n",
    ")\n",
    "\n",
    "# for each combination, record the validation score\n",
    "for i, max_depth in enumerate(max_depth_options):\n",
    "    for j, min_weight_fraction in enumerate(min_weight_fraction_options):\n",
    "        validation_score[i,j] = train_evaluate_hyperparameters(max_depth, min_weight_fraction)"
   ]
  },
  {
   "cell_type": "code",
   "execution_count": null,
   "id": "2effe682",
   "metadata": {},
   "outputs": [],
   "source": [
    "def objective(trial):\n",
    "    # define hyperparameter space\n",
    "    max_depth = trial.suggest_int('max_depth', 1, 5)\n",
    "    min_weight_fraction_leaf = trial.suggest_uniform('min_weight_fraction_leaf', 0.0, 0.5)\n",
    "    \n",
    "    # get the score for the hyperparameters chosen\n",
    "    score = train_evaluate_hyperparameters(max_depth, min_weight_fraction_leaf)\n",
    "    return score\n",
    "\n",
    "study = optuna.create_study(sampler=optuna.samplers.TPESampler(), direction='maximize')\n",
    "study.optimize(objective, n_trials=50)\n",
    "print('Best params: ', study.best_params)"
   ]
  },
  {
   "cell_type": "markdown",
   "id": "8738a3a1",
   "metadata": {},
   "source": [
    "# Various Plots"
   ]
  },
  {
   "cell_type": "code",
   "execution_count": null,
   "id": "f7cbb869",
   "metadata": {},
   "outputs": [],
   "source": [
    "plt.scatter(df['totalInstalledCost___'], df['Up_FrontCashIncentive___'])\n",
    "plt.xlabel('total cost')\n",
    "plt.ylabel('incentive')"
   ]
  },
  {
   "cell_type": "code",
   "execution_count": null,
   "id": "47db78dd",
   "metadata": {},
   "outputs": [],
   "source": [
    "df3 = df.where(df['Up_FrontCashIncentive___'] != -1).dropna()\n",
    "plt.scatter(df3['totalInstalledCost___'], df3['Up_FrontCashIncentive___'])\n",
    "plt.xlabel('total cost')\n",
    "plt.ylabel('incentive')"
   ]
  },
  {
   "cell_type": "code",
   "execution_count": null,
   "id": "eaa2cf39",
   "metadata": {},
   "outputs": [],
   "source": [
    "plt.scatter(data['totalInstalledCost___'], data['moduleQty_1'])"
   ]
  },
  {
   "cell_type": "code",
   "execution_count": null,
   "id": "14b75ecf",
   "metadata": {},
   "outputs": [],
   "source": [
    "df3 = df.where(df['moduleQty_1'] != -1).dropna()\n",
    "\n",
    "for i in range(len(df3)):\n",
    "    if (df3['totalInstalledCost___'][i] != 0) and (df3['moduleQty_1'][i] != 0):\n",
    "        plt.scatter(df3['totalInstalledCost___'][i], df3['moduleQty_1'][i], color = 'blue')\n",
    "plt.xlabel('total cost')\n",
    "plt.ylabel('quantity')"
   ]
  },
  {
   "cell_type": "markdown",
   "id": "3031d860",
   "metadata": {},
   "source": [
    "# Decision Tree Regressor"
   ]
  },
  {
   "cell_type": "code",
   "execution_count": 40,
   "id": "310d473e",
   "metadata": {},
   "outputs": [],
   "source": [
    "# excludes 'x3rdPartyOwned_1_0_' since column only has 0 or 1 values\n",
    "#X = data[['systemSizeInDCSTC_KW_', 'moduleQty_1', 'mod_nameplate_capacity1', 'mod_efficiency1']]\n",
    "#X = data[['systemSizeInDCSTC_KW_', 'moduleQty_1', 'mod_nameplate_capacity1']]\n",
    "X = df[['systemSizeInDCSTC_KW_', 'mod_nameplate_capacity1', \n",
    "          'mod_efficiency1', 'TotalModuleQty']]\n",
    "y = df['totalInstalledCost___']\n",
    "X_train, X_test, y_train, y_test = train_test_split(X, y, test_size=0.20, random_state=15)"
   ]
  },
  {
   "cell_type": "code",
   "execution_count": 41,
   "id": "53229a6f",
   "metadata": {},
   "outputs": [],
   "source": [
    "regressor = DecisionTreeRegressor(random_state=15)\n",
    "regressor.fit(X_train, y_train)\n",
    "y_predict = regressor.predict(X_test)\n",
    "#print('Prediction accuracy MSE: ', mean_squared_error(y_test, y_predict))\n",
    "#print('R2 score: ', r2_score(y_test, y_predict))"
   ]
  },
  {
   "cell_type": "markdown",
   "id": "e38b16c3",
   "metadata": {},
   "source": [
    "plt.figure(figsize=(5,5))\n",
    "plt.plot(y_test, y_predict,'*', color='royalblue', label=\"predicted\")\n",
    "plt.plot(y_predict, y_predict,'-', color='red', label=\"ideal\")\n",
    "plt.xlabel('y test set')\n",
    "plt.ylabel('y predicted')\n",
    "plt.legend()\n",
    "plt.show()"
   ]
  },
  {
   "cell_type": "code",
   "execution_count": 43,
   "id": "cc165dd1",
   "metadata": {},
   "outputs": [
    {
     "ename": "KeyboardInterrupt",
     "evalue": "",
     "output_type": "error",
     "traceback": [
      "\u001b[0;31m---------------------------------------------------------------------------\u001b[0m",
      "\u001b[0;31mKeyboardInterrupt\u001b[0m                         Traceback (most recent call last)",
      "\u001b[0;32m/tmp/ipykernel_107/1192029410.py\u001b[0m in \u001b[0;36m<module>\u001b[0;34m\u001b[0m\n\u001b[1;32m      4\u001b[0m \u001b[0mtree\u001b[0m\u001b[0;34m.\u001b[0m\u001b[0mplot_tree\u001b[0m\u001b[0;34m(\u001b[0m\u001b[0mregressor\u001b[0m\u001b[0;34m,\u001b[0m \u001b[0mfeature_names\u001b[0m \u001b[0;34m=\u001b[0m \u001b[0mnames\u001b[0m\u001b[0;34m,\u001b[0m \u001b[0mfilled\u001b[0m \u001b[0;34m=\u001b[0m \u001b[0;32mTrue\u001b[0m\u001b[0;34m,\u001b[0m \u001b[0mfontsize\u001b[0m \u001b[0;34m=\u001b[0m \u001b[0;36m20\u001b[0m\u001b[0;34m)\u001b[0m\u001b[0;34m\u001b[0m\u001b[0;34m\u001b[0m\u001b[0m\n\u001b[1;32m      5\u001b[0m \u001b[0;31m#plt.tight_layout()\u001b[0m\u001b[0;34m\u001b[0m\u001b[0;34m\u001b[0m\u001b[0;34m\u001b[0m\u001b[0m\n\u001b[0;32m----> 6\u001b[0;31m \u001b[0mplt\u001b[0m\u001b[0;34m.\u001b[0m\u001b[0mshow\u001b[0m\u001b[0;34m(\u001b[0m\u001b[0;34m)\u001b[0m\u001b[0;34m\u001b[0m\u001b[0;34m\u001b[0m\u001b[0m\n\u001b[0m",
      "\u001b[0;32m~/miniconda3/lib/python3.9/site-packages/matplotlib/pyplot.py\u001b[0m in \u001b[0;36mshow\u001b[0;34m(*args, **kwargs)\u001b[0m\n\u001b[1;32m    366\u001b[0m     \"\"\"\n\u001b[1;32m    367\u001b[0m     \u001b[0m_warn_if_gui_out_of_main_thread\u001b[0m\u001b[0;34m(\u001b[0m\u001b[0;34m)\u001b[0m\u001b[0;34m\u001b[0m\u001b[0;34m\u001b[0m\u001b[0m\n\u001b[0;32m--> 368\u001b[0;31m     \u001b[0;32mreturn\u001b[0m \u001b[0m_backend_mod\u001b[0m\u001b[0;34m.\u001b[0m\u001b[0mshow\u001b[0m\u001b[0;34m(\u001b[0m\u001b[0;34m*\u001b[0m\u001b[0margs\u001b[0m\u001b[0;34m,\u001b[0m \u001b[0;34m**\u001b[0m\u001b[0mkwargs\u001b[0m\u001b[0;34m)\u001b[0m\u001b[0;34m\u001b[0m\u001b[0;34m\u001b[0m\u001b[0m\n\u001b[0m\u001b[1;32m    369\u001b[0m \u001b[0;34m\u001b[0m\u001b[0m\n\u001b[1;32m    370\u001b[0m \u001b[0;34m\u001b[0m\u001b[0m\n",
      "\u001b[0;32m~/miniconda3/lib/python3.9/site-packages/matplotlib_inline/backend_inline.py\u001b[0m in \u001b[0;36mshow\u001b[0;34m(close, block)\u001b[0m\n\u001b[1;32m     39\u001b[0m     \u001b[0;32mtry\u001b[0m\u001b[0;34m:\u001b[0m\u001b[0;34m\u001b[0m\u001b[0;34m\u001b[0m\u001b[0m\n\u001b[1;32m     40\u001b[0m         \u001b[0;32mfor\u001b[0m \u001b[0mfigure_manager\u001b[0m \u001b[0;32min\u001b[0m \u001b[0mGcf\u001b[0m\u001b[0;34m.\u001b[0m\u001b[0mget_all_fig_managers\u001b[0m\u001b[0;34m(\u001b[0m\u001b[0;34m)\u001b[0m\u001b[0;34m:\u001b[0m\u001b[0;34m\u001b[0m\u001b[0;34m\u001b[0m\u001b[0m\n\u001b[0;32m---> 41\u001b[0;31m             display(\n\u001b[0m\u001b[1;32m     42\u001b[0m                 \u001b[0mfigure_manager\u001b[0m\u001b[0;34m.\u001b[0m\u001b[0mcanvas\u001b[0m\u001b[0;34m.\u001b[0m\u001b[0mfigure\u001b[0m\u001b[0;34m,\u001b[0m\u001b[0;34m\u001b[0m\u001b[0;34m\u001b[0m\u001b[0m\n\u001b[1;32m     43\u001b[0m                 \u001b[0mmetadata\u001b[0m\u001b[0;34m=\u001b[0m\u001b[0m_fetch_figure_metadata\u001b[0m\u001b[0;34m(\u001b[0m\u001b[0mfigure_manager\u001b[0m\u001b[0;34m.\u001b[0m\u001b[0mcanvas\u001b[0m\u001b[0;34m.\u001b[0m\u001b[0mfigure\u001b[0m\u001b[0;34m)\u001b[0m\u001b[0;34m\u001b[0m\u001b[0;34m\u001b[0m\u001b[0m\n",
      "\u001b[0;32m~/miniconda3/lib/python3.9/site-packages/IPython/core/display.py\u001b[0m in \u001b[0;36mdisplay\u001b[0;34m(include, exclude, metadata, transient, display_id, *objs, **kwargs)\u001b[0m\n\u001b[1;32m    318\u001b[0m             \u001b[0mpublish_display_data\u001b[0m\u001b[0;34m(\u001b[0m\u001b[0mdata\u001b[0m\u001b[0;34m=\u001b[0m\u001b[0mobj\u001b[0m\u001b[0;34m,\u001b[0m \u001b[0mmetadata\u001b[0m\u001b[0;34m=\u001b[0m\u001b[0mmetadata\u001b[0m\u001b[0;34m,\u001b[0m \u001b[0;34m**\u001b[0m\u001b[0mkwargs\u001b[0m\u001b[0;34m)\u001b[0m\u001b[0;34m\u001b[0m\u001b[0;34m\u001b[0m\u001b[0m\n\u001b[1;32m    319\u001b[0m         \u001b[0;32melse\u001b[0m\u001b[0;34m:\u001b[0m\u001b[0;34m\u001b[0m\u001b[0;34m\u001b[0m\u001b[0m\n\u001b[0;32m--> 320\u001b[0;31m             \u001b[0mformat_dict\u001b[0m\u001b[0;34m,\u001b[0m \u001b[0mmd_dict\u001b[0m \u001b[0;34m=\u001b[0m \u001b[0mformat\u001b[0m\u001b[0;34m(\u001b[0m\u001b[0mobj\u001b[0m\u001b[0;34m,\u001b[0m \u001b[0minclude\u001b[0m\u001b[0;34m=\u001b[0m\u001b[0minclude\u001b[0m\u001b[0;34m,\u001b[0m \u001b[0mexclude\u001b[0m\u001b[0;34m=\u001b[0m\u001b[0mexclude\u001b[0m\u001b[0;34m)\u001b[0m\u001b[0;34m\u001b[0m\u001b[0;34m\u001b[0m\u001b[0m\n\u001b[0m\u001b[1;32m    321\u001b[0m             \u001b[0;32mif\u001b[0m \u001b[0;32mnot\u001b[0m \u001b[0mformat_dict\u001b[0m\u001b[0;34m:\u001b[0m\u001b[0;34m\u001b[0m\u001b[0;34m\u001b[0m\u001b[0m\n\u001b[1;32m    322\u001b[0m                 \u001b[0;31m# nothing to display (e.g. _ipython_display_ took over)\u001b[0m\u001b[0;34m\u001b[0m\u001b[0;34m\u001b[0m\u001b[0;34m\u001b[0m\u001b[0m\n",
      "\u001b[0;32m~/miniconda3/lib/python3.9/site-packages/IPython/core/formatters.py\u001b[0m in \u001b[0;36mformat\u001b[0;34m(self, obj, include, exclude)\u001b[0m\n\u001b[1;32m    178\u001b[0m             \u001b[0mmd\u001b[0m \u001b[0;34m=\u001b[0m \u001b[0;32mNone\u001b[0m\u001b[0;34m\u001b[0m\u001b[0;34m\u001b[0m\u001b[0m\n\u001b[1;32m    179\u001b[0m             \u001b[0;32mtry\u001b[0m\u001b[0;34m:\u001b[0m\u001b[0;34m\u001b[0m\u001b[0;34m\u001b[0m\u001b[0m\n\u001b[0;32m--> 180\u001b[0;31m                 \u001b[0mdata\u001b[0m \u001b[0;34m=\u001b[0m \u001b[0mformatter\u001b[0m\u001b[0;34m(\u001b[0m\u001b[0mobj\u001b[0m\u001b[0;34m)\u001b[0m\u001b[0;34m\u001b[0m\u001b[0;34m\u001b[0m\u001b[0m\n\u001b[0m\u001b[1;32m    181\u001b[0m             \u001b[0;32mexcept\u001b[0m\u001b[0;34m:\u001b[0m\u001b[0;34m\u001b[0m\u001b[0;34m\u001b[0m\u001b[0m\n\u001b[1;32m    182\u001b[0m                 \u001b[0;31m# FIXME: log the exception\u001b[0m\u001b[0;34m\u001b[0m\u001b[0;34m\u001b[0m\u001b[0;34m\u001b[0m\u001b[0m\n",
      "\u001b[0;32m~/miniconda3/lib/python3.9/site-packages/decorator.py\u001b[0m in \u001b[0;36mfun\u001b[0;34m(*args, **kw)\u001b[0m\n\u001b[1;32m    230\u001b[0m             \u001b[0;32mif\u001b[0m \u001b[0;32mnot\u001b[0m \u001b[0mkwsyntax\u001b[0m\u001b[0;34m:\u001b[0m\u001b[0;34m\u001b[0m\u001b[0;34m\u001b[0m\u001b[0m\n\u001b[1;32m    231\u001b[0m                 \u001b[0margs\u001b[0m\u001b[0;34m,\u001b[0m \u001b[0mkw\u001b[0m \u001b[0;34m=\u001b[0m \u001b[0mfix\u001b[0m\u001b[0;34m(\u001b[0m\u001b[0margs\u001b[0m\u001b[0;34m,\u001b[0m \u001b[0mkw\u001b[0m\u001b[0;34m,\u001b[0m \u001b[0msig\u001b[0m\u001b[0;34m)\u001b[0m\u001b[0;34m\u001b[0m\u001b[0;34m\u001b[0m\u001b[0m\n\u001b[0;32m--> 232\u001b[0;31m             \u001b[0;32mreturn\u001b[0m \u001b[0mcaller\u001b[0m\u001b[0;34m(\u001b[0m\u001b[0mfunc\u001b[0m\u001b[0;34m,\u001b[0m \u001b[0;34m*\u001b[0m\u001b[0;34m(\u001b[0m\u001b[0mextras\u001b[0m \u001b[0;34m+\u001b[0m \u001b[0margs\u001b[0m\u001b[0;34m)\u001b[0m\u001b[0;34m,\u001b[0m \u001b[0;34m**\u001b[0m\u001b[0mkw\u001b[0m\u001b[0;34m)\u001b[0m\u001b[0;34m\u001b[0m\u001b[0;34m\u001b[0m\u001b[0m\n\u001b[0m\u001b[1;32m    233\u001b[0m     \u001b[0mfun\u001b[0m\u001b[0;34m.\u001b[0m\u001b[0m__name__\u001b[0m \u001b[0;34m=\u001b[0m \u001b[0mfunc\u001b[0m\u001b[0;34m.\u001b[0m\u001b[0m__name__\u001b[0m\u001b[0;34m\u001b[0m\u001b[0;34m\u001b[0m\u001b[0m\n\u001b[1;32m    234\u001b[0m     \u001b[0mfun\u001b[0m\u001b[0;34m.\u001b[0m\u001b[0m__doc__\u001b[0m \u001b[0;34m=\u001b[0m \u001b[0mfunc\u001b[0m\u001b[0;34m.\u001b[0m\u001b[0m__doc__\u001b[0m\u001b[0;34m\u001b[0m\u001b[0;34m\u001b[0m\u001b[0m\n",
      "\u001b[0;32m~/miniconda3/lib/python3.9/site-packages/IPython/core/formatters.py\u001b[0m in \u001b[0;36mcatch_format_error\u001b[0;34m(method, self, *args, **kwargs)\u001b[0m\n\u001b[1;32m    222\u001b[0m     \u001b[0;34m\"\"\"show traceback on failed format call\"\"\"\u001b[0m\u001b[0;34m\u001b[0m\u001b[0;34m\u001b[0m\u001b[0m\n\u001b[1;32m    223\u001b[0m     \u001b[0;32mtry\u001b[0m\u001b[0;34m:\u001b[0m\u001b[0;34m\u001b[0m\u001b[0;34m\u001b[0m\u001b[0m\n\u001b[0;32m--> 224\u001b[0;31m         \u001b[0mr\u001b[0m \u001b[0;34m=\u001b[0m \u001b[0mmethod\u001b[0m\u001b[0;34m(\u001b[0m\u001b[0mself\u001b[0m\u001b[0;34m,\u001b[0m \u001b[0;34m*\u001b[0m\u001b[0margs\u001b[0m\u001b[0;34m,\u001b[0m \u001b[0;34m**\u001b[0m\u001b[0mkwargs\u001b[0m\u001b[0;34m)\u001b[0m\u001b[0;34m\u001b[0m\u001b[0;34m\u001b[0m\u001b[0m\n\u001b[0m\u001b[1;32m    225\u001b[0m     \u001b[0;32mexcept\u001b[0m \u001b[0mNotImplementedError\u001b[0m\u001b[0;34m:\u001b[0m\u001b[0;34m\u001b[0m\u001b[0;34m\u001b[0m\u001b[0m\n\u001b[1;32m    226\u001b[0m         \u001b[0;31m# don't warn on NotImplementedErrors\u001b[0m\u001b[0;34m\u001b[0m\u001b[0;34m\u001b[0m\u001b[0;34m\u001b[0m\u001b[0m\n",
      "\u001b[0;32m~/miniconda3/lib/python3.9/site-packages/IPython/core/formatters.py\u001b[0m in \u001b[0;36m__call__\u001b[0;34m(self, obj)\u001b[0m\n\u001b[1;32m    339\u001b[0m                 \u001b[0;32mpass\u001b[0m\u001b[0;34m\u001b[0m\u001b[0;34m\u001b[0m\u001b[0m\n\u001b[1;32m    340\u001b[0m             \u001b[0;32melse\u001b[0m\u001b[0;34m:\u001b[0m\u001b[0;34m\u001b[0m\u001b[0;34m\u001b[0m\u001b[0m\n\u001b[0;32m--> 341\u001b[0;31m                 \u001b[0;32mreturn\u001b[0m \u001b[0mprinter\u001b[0m\u001b[0;34m(\u001b[0m\u001b[0mobj\u001b[0m\u001b[0;34m)\u001b[0m\u001b[0;34m\u001b[0m\u001b[0;34m\u001b[0m\u001b[0m\n\u001b[0m\u001b[1;32m    342\u001b[0m             \u001b[0;31m# Finally look for special method names\u001b[0m\u001b[0;34m\u001b[0m\u001b[0;34m\u001b[0m\u001b[0;34m\u001b[0m\u001b[0m\n\u001b[1;32m    343\u001b[0m             \u001b[0mmethod\u001b[0m \u001b[0;34m=\u001b[0m \u001b[0mget_real_method\u001b[0m\u001b[0;34m(\u001b[0m\u001b[0mobj\u001b[0m\u001b[0;34m,\u001b[0m \u001b[0mself\u001b[0m\u001b[0;34m.\u001b[0m\u001b[0mprint_method\u001b[0m\u001b[0;34m)\u001b[0m\u001b[0;34m\u001b[0m\u001b[0;34m\u001b[0m\u001b[0m\n",
      "\u001b[0;32m~/miniconda3/lib/python3.9/site-packages/IPython/core/pylabtools.py\u001b[0m in \u001b[0;36mprint_figure\u001b[0;34m(fig, fmt, bbox_inches, base64, **kwargs)\u001b[0m\n\u001b[1;32m    149\u001b[0m         \u001b[0mFigureCanvasBase\u001b[0m\u001b[0;34m(\u001b[0m\u001b[0mfig\u001b[0m\u001b[0;34m)\u001b[0m\u001b[0;34m\u001b[0m\u001b[0;34m\u001b[0m\u001b[0m\n\u001b[1;32m    150\u001b[0m \u001b[0;34m\u001b[0m\u001b[0m\n\u001b[0;32m--> 151\u001b[0;31m     \u001b[0mfig\u001b[0m\u001b[0;34m.\u001b[0m\u001b[0mcanvas\u001b[0m\u001b[0;34m.\u001b[0m\u001b[0mprint_figure\u001b[0m\u001b[0;34m(\u001b[0m\u001b[0mbytes_io\u001b[0m\u001b[0;34m,\u001b[0m \u001b[0;34m**\u001b[0m\u001b[0mkw\u001b[0m\u001b[0;34m)\u001b[0m\u001b[0;34m\u001b[0m\u001b[0;34m\u001b[0m\u001b[0m\n\u001b[0m\u001b[1;32m    152\u001b[0m     \u001b[0mdata\u001b[0m \u001b[0;34m=\u001b[0m \u001b[0mbytes_io\u001b[0m\u001b[0;34m.\u001b[0m\u001b[0mgetvalue\u001b[0m\u001b[0;34m(\u001b[0m\u001b[0;34m)\u001b[0m\u001b[0;34m\u001b[0m\u001b[0;34m\u001b[0m\u001b[0m\n\u001b[1;32m    153\u001b[0m     \u001b[0;32mif\u001b[0m \u001b[0mfmt\u001b[0m \u001b[0;34m==\u001b[0m \u001b[0;34m'svg'\u001b[0m\u001b[0;34m:\u001b[0m\u001b[0;34m\u001b[0m\u001b[0;34m\u001b[0m\u001b[0m\n",
      "\u001b[0;32m~/miniconda3/lib/python3.9/site-packages/matplotlib/backend_bases.py\u001b[0m in \u001b[0;36mprint_figure\u001b[0;34m(self, filename, dpi, facecolor, edgecolor, orientation, format, bbox_inches, pad_inches, bbox_extra_artists, backend, **kwargs)\u001b[0m\n\u001b[1;32m   2292\u001b[0m             \u001b[0;32mif\u001b[0m \u001b[0mbbox_inches\u001b[0m\u001b[0;34m:\u001b[0m\u001b[0;34m\u001b[0m\u001b[0;34m\u001b[0m\u001b[0m\n\u001b[1;32m   2293\u001b[0m                 \u001b[0;32mif\u001b[0m \u001b[0mbbox_inches\u001b[0m \u001b[0;34m==\u001b[0m \u001b[0;34m\"tight\"\u001b[0m\u001b[0;34m:\u001b[0m\u001b[0;34m\u001b[0m\u001b[0;34m\u001b[0m\u001b[0m\n\u001b[0;32m-> 2294\u001b[0;31m                     bbox_inches = self.figure.get_tightbbox(\n\u001b[0m\u001b[1;32m   2295\u001b[0m                         renderer, bbox_extra_artists=bbox_extra_artists)\n\u001b[1;32m   2296\u001b[0m                     \u001b[0;32mif\u001b[0m \u001b[0mpad_inches\u001b[0m \u001b[0;32mis\u001b[0m \u001b[0;32mNone\u001b[0m\u001b[0;34m:\u001b[0m\u001b[0;34m\u001b[0m\u001b[0;34m\u001b[0m\u001b[0m\n",
      "\u001b[0;32m~/miniconda3/lib/python3.9/site-packages/matplotlib/figure.py\u001b[0m in \u001b[0;36mget_tightbbox\u001b[0;34m(self, renderer, bbox_extra_artists)\u001b[0m\n\u001b[1;32m   1635\u001b[0m                 \u001b[0;31m# need this conditional....\u001b[0m\u001b[0;34m\u001b[0m\u001b[0;34m\u001b[0m\u001b[0;34m\u001b[0m\u001b[0m\n\u001b[1;32m   1636\u001b[0m                 \u001b[0;32mtry\u001b[0m\u001b[0;34m:\u001b[0m\u001b[0;34m\u001b[0m\u001b[0;34m\u001b[0m\u001b[0m\n\u001b[0;32m-> 1637\u001b[0;31m                     bbox = ax.get_tightbbox(\n\u001b[0m\u001b[1;32m   1638\u001b[0m                         renderer, bbox_extra_artists=bbox_extra_artists)\n\u001b[1;32m   1639\u001b[0m                 \u001b[0;32mexcept\u001b[0m \u001b[0mTypeError\u001b[0m\u001b[0;34m:\u001b[0m\u001b[0;34m\u001b[0m\u001b[0;34m\u001b[0m\u001b[0m\n",
      "\u001b[0;32m~/miniconda3/lib/python3.9/site-packages/matplotlib/axes/_base.py\u001b[0m in \u001b[0;36mget_tightbbox\u001b[0;34m(self, renderer, call_axes_locator, bbox_extra_artists, for_layout_only)\u001b[0m\n\u001b[1;32m   4656\u001b[0m                     \u001b[0;31m# this artist\u001b[0m\u001b[0;34m\u001b[0m\u001b[0;34m\u001b[0m\u001b[0;34m\u001b[0m\u001b[0m\n\u001b[1;32m   4657\u001b[0m                     \u001b[0;32mcontinue\u001b[0m\u001b[0;34m\u001b[0m\u001b[0;34m\u001b[0m\u001b[0m\n\u001b[0;32m-> 4658\u001b[0;31m             \u001b[0mbbox\u001b[0m \u001b[0;34m=\u001b[0m \u001b[0ma\u001b[0m\u001b[0;34m.\u001b[0m\u001b[0mget_tightbbox\u001b[0m\u001b[0;34m(\u001b[0m\u001b[0mrenderer\u001b[0m\u001b[0;34m)\u001b[0m\u001b[0;34m\u001b[0m\u001b[0;34m\u001b[0m\u001b[0m\n\u001b[0m\u001b[1;32m   4659\u001b[0m             if (bbox is not None\n\u001b[1;32m   4660\u001b[0m                     \u001b[0;32mand\u001b[0m \u001b[0;36m0\u001b[0m \u001b[0;34m<\u001b[0m \u001b[0mbbox\u001b[0m\u001b[0;34m.\u001b[0m\u001b[0mwidth\u001b[0m \u001b[0;34m<\u001b[0m \u001b[0mnp\u001b[0m\u001b[0;34m.\u001b[0m\u001b[0minf\u001b[0m\u001b[0;34m\u001b[0m\u001b[0;34m\u001b[0m\u001b[0m\n",
      "\u001b[0;32m~/miniconda3/lib/python3.9/site-packages/matplotlib/text.py\u001b[0m in \u001b[0;36mget_tightbbox\u001b[0;34m(self, renderer)\u001b[0m\n\u001b[1;32m   2012\u001b[0m         \u001b[0;32mif\u001b[0m \u001b[0;32mnot\u001b[0m \u001b[0mself\u001b[0m\u001b[0;34m.\u001b[0m\u001b[0m_check_xy\u001b[0m\u001b[0;34m(\u001b[0m\u001b[0mrenderer\u001b[0m\u001b[0;34m)\u001b[0m\u001b[0;34m:\u001b[0m\u001b[0;34m\u001b[0m\u001b[0;34m\u001b[0m\u001b[0m\n\u001b[1;32m   2013\u001b[0m             \u001b[0;32mreturn\u001b[0m \u001b[0mBbox\u001b[0m\u001b[0;34m.\u001b[0m\u001b[0mnull\u001b[0m\u001b[0;34m(\u001b[0m\u001b[0;34m)\u001b[0m\u001b[0;34m\u001b[0m\u001b[0;34m\u001b[0m\u001b[0m\n\u001b[0;32m-> 2014\u001b[0;31m         \u001b[0;32mreturn\u001b[0m \u001b[0msuper\u001b[0m\u001b[0;34m(\u001b[0m\u001b[0;34m)\u001b[0m\u001b[0;34m.\u001b[0m\u001b[0mget_tightbbox\u001b[0m\u001b[0;34m(\u001b[0m\u001b[0mrenderer\u001b[0m\u001b[0;34m)\u001b[0m\u001b[0;34m\u001b[0m\u001b[0;34m\u001b[0m\u001b[0m\n\u001b[0m\u001b[1;32m   2015\u001b[0m \u001b[0;34m\u001b[0m\u001b[0m\n\u001b[1;32m   2016\u001b[0m \u001b[0;34m\u001b[0m\u001b[0m\n",
      "\u001b[0;32m~/miniconda3/lib/python3.9/site-packages/matplotlib/artist.py\u001b[0m in \u001b[0;36mget_tightbbox\u001b[0;34m(self, renderer)\u001b[0m\n\u001b[1;32m    353\u001b[0m             \u001b[0mThe\u001b[0m \u001b[0menclosing\u001b[0m \u001b[0mbounding\u001b[0m \u001b[0mbox\u001b[0m \u001b[0;34m(\u001b[0m\u001b[0;32min\u001b[0m \u001b[0mfigure\u001b[0m \u001b[0mpixel\u001b[0m \u001b[0mcoordinates\u001b[0m\u001b[0;34m)\u001b[0m\u001b[0;34m.\u001b[0m\u001b[0;34m\u001b[0m\u001b[0;34m\u001b[0m\u001b[0m\n\u001b[1;32m    354\u001b[0m         \"\"\"\n\u001b[0;32m--> 355\u001b[0;31m         \u001b[0mbbox\u001b[0m \u001b[0;34m=\u001b[0m \u001b[0mself\u001b[0m\u001b[0;34m.\u001b[0m\u001b[0mget_window_extent\u001b[0m\u001b[0;34m(\u001b[0m\u001b[0mrenderer\u001b[0m\u001b[0;34m)\u001b[0m\u001b[0;34m\u001b[0m\u001b[0;34m\u001b[0m\u001b[0m\n\u001b[0m\u001b[1;32m    356\u001b[0m         \u001b[0;32mif\u001b[0m \u001b[0mself\u001b[0m\u001b[0;34m.\u001b[0m\u001b[0mget_clip_on\u001b[0m\u001b[0;34m(\u001b[0m\u001b[0;34m)\u001b[0m\u001b[0;34m:\u001b[0m\u001b[0;34m\u001b[0m\u001b[0;34m\u001b[0m\u001b[0m\n\u001b[1;32m    357\u001b[0m             \u001b[0mclip_box\u001b[0m \u001b[0;34m=\u001b[0m \u001b[0mself\u001b[0m\u001b[0;34m.\u001b[0m\u001b[0mget_clip_box\u001b[0m\u001b[0;34m(\u001b[0m\u001b[0;34m)\u001b[0m\u001b[0;34m\u001b[0m\u001b[0;34m\u001b[0m\u001b[0m\n",
      "\u001b[0;32m~/miniconda3/lib/python3.9/site-packages/matplotlib/text.py\u001b[0m in \u001b[0;36mget_window_extent\u001b[0;34m(self, renderer)\u001b[0m\n\u001b[1;32m   2004\u001b[0m \u001b[0;34m\u001b[0m\u001b[0m\n\u001b[1;32m   2005\u001b[0m         \u001b[0;32mif\u001b[0m \u001b[0mself\u001b[0m\u001b[0;34m.\u001b[0m\u001b[0marrow_patch\u001b[0m \u001b[0;32mis\u001b[0m \u001b[0;32mnot\u001b[0m \u001b[0;32mNone\u001b[0m\u001b[0;34m:\u001b[0m\u001b[0;34m\u001b[0m\u001b[0;34m\u001b[0m\u001b[0m\n\u001b[0;32m-> 2006\u001b[0;31m             \u001b[0mbboxes\u001b[0m\u001b[0;34m.\u001b[0m\u001b[0mappend\u001b[0m\u001b[0;34m(\u001b[0m\u001b[0mself\u001b[0m\u001b[0;34m.\u001b[0m\u001b[0marrow_patch\u001b[0m\u001b[0;34m.\u001b[0m\u001b[0mget_window_extent\u001b[0m\u001b[0;34m(\u001b[0m\u001b[0;34m)\u001b[0m\u001b[0;34m)\u001b[0m\u001b[0;34m\u001b[0m\u001b[0;34m\u001b[0m\u001b[0m\n\u001b[0m\u001b[1;32m   2007\u001b[0m \u001b[0;34m\u001b[0m\u001b[0m\n\u001b[1;32m   2008\u001b[0m         \u001b[0;32mreturn\u001b[0m \u001b[0mBbox\u001b[0m\u001b[0;34m.\u001b[0m\u001b[0munion\u001b[0m\u001b[0;34m(\u001b[0m\u001b[0mbboxes\u001b[0m\u001b[0;34m)\u001b[0m\u001b[0;34m\u001b[0m\u001b[0;34m\u001b[0m\u001b[0m\n",
      "\u001b[0;32m~/miniconda3/lib/python3.9/site-packages/matplotlib/patches.py\u001b[0m in \u001b[0;36mget_window_extent\u001b[0;34m(self, renderer)\u001b[0m\n\u001b[1;32m    621\u001b[0m \u001b[0;34m\u001b[0m\u001b[0m\n\u001b[1;32m    622\u001b[0m     \u001b[0;32mdef\u001b[0m \u001b[0mget_window_extent\u001b[0m\u001b[0;34m(\u001b[0m\u001b[0mself\u001b[0m\u001b[0;34m,\u001b[0m \u001b[0mrenderer\u001b[0m\u001b[0;34m=\u001b[0m\u001b[0;32mNone\u001b[0m\u001b[0;34m)\u001b[0m\u001b[0;34m:\u001b[0m\u001b[0;34m\u001b[0m\u001b[0;34m\u001b[0m\u001b[0m\n\u001b[0;32m--> 623\u001b[0;31m         \u001b[0;32mreturn\u001b[0m \u001b[0mself\u001b[0m\u001b[0;34m.\u001b[0m\u001b[0mget_path\u001b[0m\u001b[0;34m(\u001b[0m\u001b[0;34m)\u001b[0m\u001b[0;34m.\u001b[0m\u001b[0mget_extents\u001b[0m\u001b[0;34m(\u001b[0m\u001b[0mself\u001b[0m\u001b[0;34m.\u001b[0m\u001b[0mget_transform\u001b[0m\u001b[0;34m(\u001b[0m\u001b[0;34m)\u001b[0m\u001b[0;34m)\u001b[0m\u001b[0;34m\u001b[0m\u001b[0;34m\u001b[0m\u001b[0m\n\u001b[0m\u001b[1;32m    624\u001b[0m \u001b[0;34m\u001b[0m\u001b[0m\n\u001b[1;32m    625\u001b[0m     \u001b[0;32mdef\u001b[0m \u001b[0m_convert_xy_units\u001b[0m\u001b[0;34m(\u001b[0m\u001b[0mself\u001b[0m\u001b[0;34m,\u001b[0m \u001b[0mxy\u001b[0m\u001b[0;34m)\u001b[0m\u001b[0;34m:\u001b[0m\u001b[0;34m\u001b[0m\u001b[0;34m\u001b[0m\u001b[0m\n",
      "\u001b[0;32m~/miniconda3/lib/python3.9/site-packages/matplotlib/patches.py\u001b[0m in \u001b[0;36mget_path\u001b[0;34m(self)\u001b[0m\n\u001b[1;32m   4438\u001b[0m         \u001b[0;31m# The path is generated in display coordinates, then converted back to\u001b[0m\u001b[0;34m\u001b[0m\u001b[0;34m\u001b[0m\u001b[0;34m\u001b[0m\u001b[0m\n\u001b[1;32m   4439\u001b[0m         \u001b[0;31m# data coordinates.\u001b[0m\u001b[0;34m\u001b[0m\u001b[0;34m\u001b[0m\u001b[0;34m\u001b[0m\u001b[0m\n\u001b[0;32m-> 4440\u001b[0;31m         \u001b[0m_path\u001b[0m\u001b[0;34m,\u001b[0m \u001b[0mfillable\u001b[0m \u001b[0;34m=\u001b[0m \u001b[0mself\u001b[0m\u001b[0;34m.\u001b[0m\u001b[0m_get_path_in_displaycoord\u001b[0m\u001b[0;34m(\u001b[0m\u001b[0;34m)\u001b[0m\u001b[0;34m\u001b[0m\u001b[0;34m\u001b[0m\u001b[0m\n\u001b[0m\u001b[1;32m   4441\u001b[0m         \u001b[0;32mif\u001b[0m \u001b[0mnp\u001b[0m\u001b[0;34m.\u001b[0m\u001b[0miterable\u001b[0m\u001b[0;34m(\u001b[0m\u001b[0mfillable\u001b[0m\u001b[0;34m)\u001b[0m\u001b[0;34m:\u001b[0m\u001b[0;34m\u001b[0m\u001b[0;34m\u001b[0m\u001b[0m\n\u001b[1;32m   4442\u001b[0m             \u001b[0m_path\u001b[0m \u001b[0;34m=\u001b[0m \u001b[0mPath\u001b[0m\u001b[0;34m.\u001b[0m\u001b[0mmake_compound_path\u001b[0m\u001b[0;34m(\u001b[0m\u001b[0;34m*\u001b[0m\u001b[0m_path\u001b[0m\u001b[0;34m)\u001b[0m\u001b[0;34m\u001b[0m\u001b[0;34m\u001b[0m\u001b[0m\n",
      "\u001b[0;32m~/miniconda3/lib/python3.9/site-packages/matplotlib/patches.py\u001b[0m in \u001b[0;36m_get_path_in_displaycoord\u001b[0;34m(self)\u001b[0m\n\u001b[1;32m   4451\u001b[0m             \u001b[0mposB\u001b[0m \u001b[0;34m=\u001b[0m \u001b[0mself\u001b[0m\u001b[0;34m.\u001b[0m\u001b[0m_convert_xy_units\u001b[0m\u001b[0;34m(\u001b[0m\u001b[0mself\u001b[0m\u001b[0;34m.\u001b[0m\u001b[0m_posA_posB\u001b[0m\u001b[0;34m[\u001b[0m\u001b[0;36m1\u001b[0m\u001b[0;34m]\u001b[0m\u001b[0;34m)\u001b[0m\u001b[0;34m\u001b[0m\u001b[0;34m\u001b[0m\u001b[0m\n\u001b[1;32m   4452\u001b[0m             \u001b[0;34m(\u001b[0m\u001b[0mposA\u001b[0m\u001b[0;34m,\u001b[0m \u001b[0mposB\u001b[0m\u001b[0;34m)\u001b[0m \u001b[0;34m=\u001b[0m \u001b[0mself\u001b[0m\u001b[0;34m.\u001b[0m\u001b[0mget_transform\u001b[0m\u001b[0;34m(\u001b[0m\u001b[0;34m)\u001b[0m\u001b[0;34m.\u001b[0m\u001b[0mtransform\u001b[0m\u001b[0;34m(\u001b[0m\u001b[0;34m(\u001b[0m\u001b[0mposA\u001b[0m\u001b[0;34m,\u001b[0m \u001b[0mposB\u001b[0m\u001b[0;34m)\u001b[0m\u001b[0;34m)\u001b[0m\u001b[0;34m\u001b[0m\u001b[0;34m\u001b[0m\u001b[0m\n\u001b[0;32m-> 4453\u001b[0;31m             _path = self.get_connectionstyle()(posA, posB,\n\u001b[0m\u001b[1;32m   4454\u001b[0m                                                \u001b[0mpatchA\u001b[0m\u001b[0;34m=\u001b[0m\u001b[0mself\u001b[0m\u001b[0;34m.\u001b[0m\u001b[0mpatchA\u001b[0m\u001b[0;34m,\u001b[0m\u001b[0;34m\u001b[0m\u001b[0;34m\u001b[0m\u001b[0m\n\u001b[1;32m   4455\u001b[0m                                                \u001b[0mpatchB\u001b[0m\u001b[0;34m=\u001b[0m\u001b[0mself\u001b[0m\u001b[0;34m.\u001b[0m\u001b[0mpatchB\u001b[0m\u001b[0;34m,\u001b[0m\u001b[0;34m\u001b[0m\u001b[0;34m\u001b[0m\u001b[0m\n",
      "\u001b[0;32m~/miniconda3/lib/python3.9/site-packages/matplotlib/patches.py\u001b[0m in \u001b[0;36m__call__\u001b[0;34m(self, posA, posB, shrinkA, shrinkB, patchA, patchB)\u001b[0m\n\u001b[1;32m   2768\u001b[0m             \"\"\"\n\u001b[1;32m   2769\u001b[0m             \u001b[0mpath\u001b[0m \u001b[0;34m=\u001b[0m \u001b[0mself\u001b[0m\u001b[0;34m.\u001b[0m\u001b[0mconnect\u001b[0m\u001b[0;34m(\u001b[0m\u001b[0mposA\u001b[0m\u001b[0;34m,\u001b[0m \u001b[0mposB\u001b[0m\u001b[0;34m)\u001b[0m\u001b[0;34m\u001b[0m\u001b[0;34m\u001b[0m\u001b[0m\n\u001b[0;32m-> 2770\u001b[0;31m             \u001b[0mclipped_path\u001b[0m \u001b[0;34m=\u001b[0m \u001b[0mself\u001b[0m\u001b[0;34m.\u001b[0m\u001b[0m_clip\u001b[0m\u001b[0;34m(\u001b[0m\u001b[0mpath\u001b[0m\u001b[0;34m,\u001b[0m \u001b[0mpatchA\u001b[0m\u001b[0;34m,\u001b[0m \u001b[0mpatchB\u001b[0m\u001b[0;34m)\u001b[0m\u001b[0;34m\u001b[0m\u001b[0;34m\u001b[0m\u001b[0m\n\u001b[0m\u001b[1;32m   2771\u001b[0m             \u001b[0mshrunk_path\u001b[0m \u001b[0;34m=\u001b[0m \u001b[0mself\u001b[0m\u001b[0;34m.\u001b[0m\u001b[0m_shrink\u001b[0m\u001b[0;34m(\u001b[0m\u001b[0mclipped_path\u001b[0m\u001b[0;34m,\u001b[0m \u001b[0mshrinkA\u001b[0m\u001b[0;34m,\u001b[0m \u001b[0mshrinkB\u001b[0m\u001b[0;34m)\u001b[0m\u001b[0;34m\u001b[0m\u001b[0;34m\u001b[0m\u001b[0m\n\u001b[1;32m   2772\u001b[0m             \u001b[0;32mreturn\u001b[0m \u001b[0mshrunk_path\u001b[0m\u001b[0;34m\u001b[0m\u001b[0;34m\u001b[0m\u001b[0m\n",
      "\u001b[0;32m~/miniconda3/lib/python3.9/site-packages/matplotlib/patches.py\u001b[0m in \u001b[0;36m_clip\u001b[0;34m(self, path, patchA, patchB)\u001b[0m\n\u001b[1;32m   2723\u001b[0m \u001b[0;34m\u001b[0m\u001b[0m\n\u001b[1;32m   2724\u001b[0m                 \u001b[0;32mtry\u001b[0m\u001b[0;34m:\u001b[0m\u001b[0;34m\u001b[0m\u001b[0;34m\u001b[0m\u001b[0m\n\u001b[0;32m-> 2725\u001b[0;31m                     \u001b[0mleft\u001b[0m\u001b[0;34m,\u001b[0m \u001b[0mright\u001b[0m \u001b[0;34m=\u001b[0m \u001b[0msplit_path_inout\u001b[0m\u001b[0;34m(\u001b[0m\u001b[0mpath\u001b[0m\u001b[0;34m,\u001b[0m \u001b[0minsideA\u001b[0m\u001b[0;34m)\u001b[0m\u001b[0;34m\u001b[0m\u001b[0;34m\u001b[0m\u001b[0m\n\u001b[0m\u001b[1;32m   2726\u001b[0m                 \u001b[0;32mexcept\u001b[0m \u001b[0mValueError\u001b[0m\u001b[0;34m:\u001b[0m\u001b[0;34m\u001b[0m\u001b[0;34m\u001b[0m\u001b[0m\n\u001b[1;32m   2727\u001b[0m                     \u001b[0mright\u001b[0m \u001b[0;34m=\u001b[0m \u001b[0mpath\u001b[0m\u001b[0;34m\u001b[0m\u001b[0;34m\u001b[0m\u001b[0m\n",
      "\u001b[0;32m~/miniconda3/lib/python3.9/site-packages/matplotlib/bezier.py\u001b[0m in \u001b[0;36msplit_path_inout\u001b[0;34m(path, inside, tolerance, reorder_inout)\u001b[0m\n\u001b[1;32m    361\u001b[0m         \u001b[0miold\u001b[0m \u001b[0;34m=\u001b[0m \u001b[0mi\u001b[0m\u001b[0;34m\u001b[0m\u001b[0;34m\u001b[0m\u001b[0m\n\u001b[1;32m    362\u001b[0m         \u001b[0mi\u001b[0m \u001b[0;34m+=\u001b[0m \u001b[0mlen\u001b[0m\u001b[0;34m(\u001b[0m\u001b[0mctl_points\u001b[0m\u001b[0;34m)\u001b[0m \u001b[0;34m//\u001b[0m \u001b[0;36m2\u001b[0m\u001b[0;34m\u001b[0m\u001b[0;34m\u001b[0m\u001b[0m\n\u001b[0;32m--> 363\u001b[0;31m         \u001b[0;32mif\u001b[0m \u001b[0minside\u001b[0m\u001b[0;34m(\u001b[0m\u001b[0mctl_points\u001b[0m\u001b[0;34m[\u001b[0m\u001b[0;34m-\u001b[0m\u001b[0;36m2\u001b[0m\u001b[0;34m:\u001b[0m\u001b[0;34m]\u001b[0m\u001b[0;34m)\u001b[0m \u001b[0;34m!=\u001b[0m \u001b[0mbegin_inside\u001b[0m\u001b[0;34m:\u001b[0m\u001b[0;34m\u001b[0m\u001b[0;34m\u001b[0m\u001b[0m\n\u001b[0m\u001b[1;32m    364\u001b[0m             \u001b[0mbezier_path\u001b[0m \u001b[0;34m=\u001b[0m \u001b[0mnp\u001b[0m\u001b[0;34m.\u001b[0m\u001b[0mconcatenate\u001b[0m\u001b[0;34m(\u001b[0m\u001b[0;34m[\u001b[0m\u001b[0mctl_points_old\u001b[0m\u001b[0;34m[\u001b[0m\u001b[0;34m-\u001b[0m\u001b[0;36m2\u001b[0m\u001b[0;34m:\u001b[0m\u001b[0;34m]\u001b[0m\u001b[0;34m,\u001b[0m \u001b[0mctl_points\u001b[0m\u001b[0;34m]\u001b[0m\u001b[0;34m)\u001b[0m\u001b[0;34m\u001b[0m\u001b[0;34m\u001b[0m\u001b[0m\n\u001b[1;32m    365\u001b[0m             \u001b[0;32mbreak\u001b[0m\u001b[0;34m\u001b[0m\u001b[0;34m\u001b[0m\u001b[0m\n",
      "\u001b[0;32m~/miniconda3/lib/python3.9/site-packages/matplotlib/patches.py\u001b[0m in \u001b[0;36minsideA\u001b[0;34m(xy_display)\u001b[0m\n\u001b[1;32m   2720\u001b[0m                 \u001b[0;32mdef\u001b[0m \u001b[0minsideA\u001b[0m\u001b[0;34m(\u001b[0m\u001b[0mxy_display\u001b[0m\u001b[0;34m)\u001b[0m\u001b[0;34m:\u001b[0m\u001b[0;34m\u001b[0m\u001b[0;34m\u001b[0m\u001b[0m\n\u001b[1;32m   2721\u001b[0m                     \u001b[0mxy_event\u001b[0m \u001b[0;34m=\u001b[0m \u001b[0mConnectionStyle\u001b[0m\u001b[0;34m.\u001b[0m\u001b[0m_Base\u001b[0m\u001b[0;34m.\u001b[0m\u001b[0mSimpleEvent\u001b[0m\u001b[0;34m(\u001b[0m\u001b[0mxy_display\u001b[0m\u001b[0;34m)\u001b[0m\u001b[0;34m\u001b[0m\u001b[0;34m\u001b[0m\u001b[0m\n\u001b[0;32m-> 2722\u001b[0;31m                     \u001b[0;32mreturn\u001b[0m \u001b[0mpatchA\u001b[0m\u001b[0;34m.\u001b[0m\u001b[0mcontains\u001b[0m\u001b[0;34m(\u001b[0m\u001b[0mxy_event\u001b[0m\u001b[0;34m)\u001b[0m\u001b[0;34m[\u001b[0m\u001b[0;36m0\u001b[0m\u001b[0;34m]\u001b[0m\u001b[0;34m\u001b[0m\u001b[0;34m\u001b[0m\u001b[0m\n\u001b[0m\u001b[1;32m   2723\u001b[0m \u001b[0;34m\u001b[0m\u001b[0m\n\u001b[1;32m   2724\u001b[0m                 \u001b[0;32mtry\u001b[0m\u001b[0;34m:\u001b[0m\u001b[0;34m\u001b[0m\u001b[0;34m\u001b[0m\u001b[0m\n",
      "\u001b[0;32m~/miniconda3/lib/python3.9/site-packages/matplotlib/patches.py\u001b[0m in \u001b[0;36mcontains\u001b[0;34m(self, mouseevent, radius)\u001b[0m\n\u001b[1;32m    151\u001b[0m             \u001b[0;32mreturn\u001b[0m \u001b[0minside\u001b[0m\u001b[0;34m,\u001b[0m \u001b[0minfo\u001b[0m\u001b[0;34m\u001b[0m\u001b[0;34m\u001b[0m\u001b[0m\n\u001b[1;32m    152\u001b[0m         \u001b[0mradius\u001b[0m \u001b[0;34m=\u001b[0m \u001b[0mself\u001b[0m\u001b[0;34m.\u001b[0m\u001b[0m_process_radius\u001b[0m\u001b[0;34m(\u001b[0m\u001b[0mradius\u001b[0m\u001b[0;34m)\u001b[0m\u001b[0;34m\u001b[0m\u001b[0;34m\u001b[0m\u001b[0m\n\u001b[0;32m--> 153\u001b[0;31m         \u001b[0mcodes\u001b[0m \u001b[0;34m=\u001b[0m \u001b[0mself\u001b[0m\u001b[0;34m.\u001b[0m\u001b[0mget_path\u001b[0m\u001b[0;34m(\u001b[0m\u001b[0;34m)\u001b[0m\u001b[0;34m.\u001b[0m\u001b[0mcodes\u001b[0m\u001b[0;34m\u001b[0m\u001b[0;34m\u001b[0m\u001b[0m\n\u001b[0m\u001b[1;32m    154\u001b[0m         \u001b[0;32mif\u001b[0m \u001b[0mcodes\u001b[0m \u001b[0;32mis\u001b[0m \u001b[0;32mnot\u001b[0m \u001b[0;32mNone\u001b[0m\u001b[0;34m:\u001b[0m\u001b[0;34m\u001b[0m\u001b[0;34m\u001b[0m\u001b[0m\n\u001b[1;32m    155\u001b[0m             \u001b[0mvertices\u001b[0m \u001b[0;34m=\u001b[0m \u001b[0mself\u001b[0m\u001b[0;34m.\u001b[0m\u001b[0mget_path\u001b[0m\u001b[0;34m(\u001b[0m\u001b[0;34m)\u001b[0m\u001b[0;34m.\u001b[0m\u001b[0mvertices\u001b[0m\u001b[0;34m\u001b[0m\u001b[0;34m\u001b[0m\u001b[0m\n",
      "\u001b[0;32m~/miniconda3/lib/python3.9/site-packages/matplotlib/patches.py\u001b[0m in \u001b[0;36mget_path\u001b[0;34m(self)\u001b[0m\n\u001b[1;32m   4041\u001b[0m                 \"old call signature will be removed %(removal)s.\")\n\u001b[1;32m   4042\u001b[0m         \u001b[0;32melse\u001b[0m\u001b[0;34m:\u001b[0m\u001b[0;34m\u001b[0m\u001b[0;34m\u001b[0m\u001b[0m\n\u001b[0;32m-> 4043\u001b[0;31m             \u001b[0mpath\u001b[0m \u001b[0;34m=\u001b[0m \u001b[0mboxstyle\u001b[0m\u001b[0;34m(\u001b[0m\u001b[0mx\u001b[0m\u001b[0;34m,\u001b[0m \u001b[0my\u001b[0m\u001b[0;34m,\u001b[0m \u001b[0mwidth\u001b[0m\u001b[0;34m,\u001b[0m \u001b[0mheight\u001b[0m\u001b[0;34m,\u001b[0m \u001b[0mm_scale\u001b[0m\u001b[0;34m)\u001b[0m\u001b[0;34m\u001b[0m\u001b[0;34m\u001b[0m\u001b[0m\n\u001b[0m\u001b[1;32m   4044\u001b[0m         \u001b[0mvertices\u001b[0m\u001b[0;34m,\u001b[0m \u001b[0mcodes\u001b[0m \u001b[0;34m=\u001b[0m \u001b[0mpath\u001b[0m\u001b[0;34m.\u001b[0m\u001b[0mvertices\u001b[0m\u001b[0;34m,\u001b[0m \u001b[0mpath\u001b[0m\u001b[0;34m.\u001b[0m\u001b[0mcodes\u001b[0m\u001b[0;34m\u001b[0m\u001b[0;34m\u001b[0m\u001b[0m\n\u001b[1;32m   4045\u001b[0m         \u001b[0;31m# Restore the height.\u001b[0m\u001b[0;34m\u001b[0m\u001b[0;34m\u001b[0m\u001b[0;34m\u001b[0m\u001b[0m\n",
      "\u001b[0;32m~/miniconda3/lib/python3.9/site-packages/matplotlib/_api/deprecation.py\u001b[0m in \u001b[0;36mwrapper\u001b[0;34m(*inner_args, **inner_kwargs)\u001b[0m\n\u001b[1;32m    384\u001b[0m             \u001b[0;31m# Early return in the simple, non-deprecated case (much faster than\u001b[0m\u001b[0;34m\u001b[0m\u001b[0;34m\u001b[0m\u001b[0;34m\u001b[0m\u001b[0m\n\u001b[1;32m    385\u001b[0m             \u001b[0;31m# calling bind()).\u001b[0m\u001b[0;34m\u001b[0m\u001b[0;34m\u001b[0m\u001b[0;34m\u001b[0m\u001b[0m\n\u001b[0;32m--> 386\u001b[0;31m             \u001b[0;32mreturn\u001b[0m \u001b[0mfunc\u001b[0m\u001b[0;34m(\u001b[0m\u001b[0;34m*\u001b[0m\u001b[0minner_args\u001b[0m\u001b[0;34m,\u001b[0m \u001b[0;34m**\u001b[0m\u001b[0minner_kwargs\u001b[0m\u001b[0;34m)\u001b[0m\u001b[0;34m\u001b[0m\u001b[0;34m\u001b[0m\u001b[0m\n\u001b[0m\u001b[1;32m    387\u001b[0m         \u001b[0marguments\u001b[0m \u001b[0;34m=\u001b[0m \u001b[0msignature\u001b[0m\u001b[0;34m.\u001b[0m\u001b[0mbind\u001b[0m\u001b[0;34m(\u001b[0m\u001b[0;34m*\u001b[0m\u001b[0minner_args\u001b[0m\u001b[0;34m,\u001b[0m \u001b[0;34m**\u001b[0m\u001b[0minner_kwargs\u001b[0m\u001b[0;34m)\u001b[0m\u001b[0;34m.\u001b[0m\u001b[0marguments\u001b[0m\u001b[0;34m\u001b[0m\u001b[0;34m\u001b[0m\u001b[0m\n\u001b[1;32m    388\u001b[0m         \u001b[0;32mif\u001b[0m \u001b[0mis_varargs\u001b[0m \u001b[0;32mand\u001b[0m \u001b[0marguments\u001b[0m\u001b[0;34m.\u001b[0m\u001b[0mget\u001b[0m\u001b[0;34m(\u001b[0m\u001b[0mname\u001b[0m\u001b[0;34m)\u001b[0m\u001b[0;34m:\u001b[0m\u001b[0;34m\u001b[0m\u001b[0;34m\u001b[0m\u001b[0m\n",
      "\u001b[0;32m~/miniconda3/lib/python3.9/site-packages/matplotlib/patches.py\u001b[0m in \u001b[0;36mcall_wrapper\u001b[0;34m(self, x0, y0, width, height, mutation_size, mutation_aspect)\u001b[0m\n\u001b[1;32m   2273\u001b[0m                     \u001b[0mself\u001b[0m\u001b[0;34m,\u001b[0m \u001b[0mx0\u001b[0m\u001b[0;34m,\u001b[0m \u001b[0my0\u001b[0m\u001b[0;34m,\u001b[0m \u001b[0mwidth\u001b[0m\u001b[0;34m,\u001b[0m \u001b[0mheight\u001b[0m\u001b[0;34m,\u001b[0m \u001b[0mmutation_size\u001b[0m\u001b[0;34m,\u001b[0m\u001b[0;34m\u001b[0m\u001b[0;34m\u001b[0m\u001b[0m\n\u001b[1;32m   2274\u001b[0m                     mutation_aspect=_api.deprecation._deprecated_parameter):\n\u001b[0;32m-> 2275\u001b[0;31m                 \u001b[0;32mif\u001b[0m \u001b[0mmutation_aspect\u001b[0m \u001b[0;32mis\u001b[0m \u001b[0m_api\u001b[0m\u001b[0;34m.\u001b[0m\u001b[0mdeprecation\u001b[0m\u001b[0;34m.\u001b[0m\u001b[0m_deprecated_parameter\u001b[0m\u001b[0;34m:\u001b[0m\u001b[0;34m\u001b[0m\u001b[0;34m\u001b[0m\u001b[0m\n\u001b[0m\u001b[1;32m   2276\u001b[0m                     \u001b[0;31m# Don't trigger deprecation warning internally.\u001b[0m\u001b[0;34m\u001b[0m\u001b[0;34m\u001b[0m\u001b[0;34m\u001b[0m\u001b[0m\n\u001b[1;32m   2277\u001b[0m                     \u001b[0;32mreturn\u001b[0m \u001b[0m__call__\u001b[0m\u001b[0;34m(\u001b[0m\u001b[0mself\u001b[0m\u001b[0;34m,\u001b[0m \u001b[0mx0\u001b[0m\u001b[0;34m,\u001b[0m \u001b[0my0\u001b[0m\u001b[0;34m,\u001b[0m \u001b[0mwidth\u001b[0m\u001b[0;34m,\u001b[0m \u001b[0mheight\u001b[0m\u001b[0;34m,\u001b[0m \u001b[0mmutation_size\u001b[0m\u001b[0;34m)\u001b[0m\u001b[0;34m\u001b[0m\u001b[0;34m\u001b[0m\u001b[0m\n",
      "\u001b[0;31mKeyboardInterrupt\u001b[0m: "
     ]
    }
   ],
   "source": [
    "names = ['systemSizeInDCSTC_KW_', 'mod_nameplate_capacity1', \n",
    "          'mod_efficiency1', 'TotalModuleQty']\n",
    "fig = plt.figure(figsize = (35,20))\n",
    "tree.plot_tree(regressor, feature_names = names, filled = True, fontsize = 20)\n",
    "#plt.tight_layout()\n",
    "plt.show()"
   ]
  },
  {
   "cell_type": "markdown",
   "id": "ff8ddcc2",
   "metadata": {},
   "source": [
    "# Random Forest Classifier"
   ]
  },
  {
   "cell_type": "code",
   "execution_count": null,
   "id": "bcd9a91f",
   "metadata": {},
   "outputs": [],
   "source": []
  },
  {
   "cell_type": "code",
   "execution_count": null,
   "id": "d570cef4",
   "metadata": {},
   "outputs": [],
   "source": [
    "rfc = RandomForestClassifier(n_estimators = 20, random_state = 42)\n",
    "rfc = rfc.fit(X_train, y_train)\n",
    "\n",
    "# How many classes are there?\n",
    "print('Estimator', rfc.estimators_)\n",
    "print('Maximum depth: ', rfc.max_depth)\n",
    "print('Boostrapping with replacement', rfc.bootstrap)\n",
    "print('Names of classes', rfc.classes_)\n",
    "print('Number of classes', rfc.n_classes_)\n",
    "\n",
    "# How accurate is your random forest estimator?\n",
    "print('Mean accuracy on test set: ', rfc.score(X_test, y_test))\n",
    "\n",
    "y_rf = rfc.predict(X_test)\n",
    "print('Accuracy score: ', accuracy_score(y_test, y_rf))\n",
    "print('R2 socre', r2_score(y_test, y_rf))"
   ]
  },
  {
   "cell_type": "code",
   "execution_count": 28,
   "id": "1c034585",
   "metadata": {},
   "outputs": [],
   "source": [
    "# excludes 'x3rdPartyOwned_1_0_' since column only has 0 or 1 values\n",
    "for i in data['totalInstalledCost___']:\n",
    "    if isinstance(i, int) == False: \n",
    "        i = int(i)\n",
    "\n",
    "X = data[['systemSizeInDCSTC_KW_', 'moduleQty_1', 'mod_nameplate_capacity1', \n",
    "          'mod_efficiency1', 'TotalModuleQty']]\n",
    "y = data['totalInstalledCost___']\n",
    "\n",
    "X_train, X_test, y_train, y_test = train_test_split(X, y, test_size=0.20, random_state=15)"
   ]
  },
  {
   "cell_type": "code",
   "execution_count": 34,
   "id": "2aa997ff",
   "metadata": {},
   "outputs": [
    {
     "name": "stdout",
     "output_type": "stream",
     "text": [
      "Mean accuracy on test set:  0.5182077842972456\n"
     ]
    }
   ],
   "source": [
    "rfc = RandomForestRegressor(n_estimators = 20, random_state = 42)\n",
    "rfc = rfc.fit(X_train, y_train)\n",
    "\n",
    "# How many classes are there?\n",
    "#print('Estimator', rfc.estimators_)\n",
    "#print('Maximum depth: ', rfc.max_depth)\n",
    "#print('Boostrapping with replacement', rfc.bootstrap)\n",
    "#print('Names of classes', rfc.classes_)\n",
    "#print('Number of classes', rfc.n_classes_)\n",
    "\n",
    "# How accurate is your random forest estimator?\n",
    "print('Mean accuracy on test set: ', rfc.score(X_test, y_test))\n",
    "\n",
    "y_rf = rfc.predict(X_test)\n",
    "#print('Accuracy score: ', accuracy_score(y_test, y_rf))\n",
    "#print('R2 socre', r2_score(y_test, y_rf))"
   ]
  },
  {
   "cell_type": "code",
   "execution_count": 36,
   "id": "e8fd56c0",
   "metadata": {},
   "outputs": [
    {
     "ename": "AttributeError",
     "evalue": "'RandomForestRegressor' object has no attribute 'tree_'",
     "output_type": "error",
     "traceback": [
      "\u001b[0;31m---------------------------------------------------------------------------\u001b[0m",
      "\u001b[0;31mAttributeError\u001b[0m                            Traceback (most recent call last)",
      "\u001b[0;32m/tmp/ipykernel_107/3386896065.py\u001b[0m in \u001b[0;36m<module>\u001b[0;34m\u001b[0m\n\u001b[1;32m      3\u001b[0m \u001b[0;31m# Plot the tree\u001b[0m\u001b[0;34m\u001b[0m\u001b[0;34m\u001b[0m\u001b[0;34m\u001b[0m\u001b[0m\n\u001b[1;32m      4\u001b[0m \u001b[0mfig\u001b[0m \u001b[0;34m=\u001b[0m \u001b[0mplt\u001b[0m\u001b[0;34m.\u001b[0m\u001b[0mfigure\u001b[0m\u001b[0;34m(\u001b[0m\u001b[0mfigsize\u001b[0m \u001b[0;34m=\u001b[0m \u001b[0;34m(\u001b[0m\u001b[0;36m35\u001b[0m\u001b[0;34m,\u001b[0m\u001b[0;36m20\u001b[0m\u001b[0;34m)\u001b[0m\u001b[0;34m)\u001b[0m\u001b[0;34m\u001b[0m\u001b[0;34m\u001b[0m\u001b[0m\n\u001b[0;32m----> 5\u001b[0;31m \u001b[0mtree\u001b[0m\u001b[0;34m.\u001b[0m\u001b[0mplot_tree\u001b[0m\u001b[0;34m(\u001b[0m\u001b[0mrfc\u001b[0m\u001b[0;34m,\u001b[0m \u001b[0mfeature_names\u001b[0m \u001b[0;34m=\u001b[0m \u001b[0mnames\u001b[0m\u001b[0;34m,\u001b[0m \u001b[0mfilled\u001b[0m \u001b[0;34m=\u001b[0m \u001b[0;32mTrue\u001b[0m\u001b[0;34m,\u001b[0m \u001b[0mfontsize\u001b[0m \u001b[0;34m=\u001b[0m \u001b[0;36m20\u001b[0m\u001b[0;34m,\u001b[0m \u001b[0mmax_depth\u001b[0m \u001b[0;34m=\u001b[0m \u001b[0;36m3\u001b[0m\u001b[0;34m)\u001b[0m\u001b[0;34m\u001b[0m\u001b[0;34m\u001b[0m\u001b[0m\n\u001b[0m\u001b[1;32m      6\u001b[0m \u001b[0mplt\u001b[0m\u001b[0;34m.\u001b[0m\u001b[0mtight_layout\u001b[0m\u001b[0;34m(\u001b[0m\u001b[0;34m)\u001b[0m\u001b[0;34m\u001b[0m\u001b[0;34m\u001b[0m\u001b[0m\n\u001b[1;32m      7\u001b[0m \u001b[0mplt\u001b[0m\u001b[0;34m.\u001b[0m\u001b[0mshow\u001b[0m\u001b[0;34m(\u001b[0m\u001b[0;34m)\u001b[0m\u001b[0;34m\u001b[0m\u001b[0;34m\u001b[0m\u001b[0m\n",
      "\u001b[0;32m~/miniconda3/lib/python3.9/site-packages/sklearn/tree/_export.py\u001b[0m in \u001b[0;36mplot_tree\u001b[0;34m(decision_tree, max_depth, feature_names, class_names, label, filled, impurity, node_ids, proportion, rounded, precision, ax, fontsize)\u001b[0m\n\u001b[1;32m    193\u001b[0m         \u001b[0mfontsize\u001b[0m\u001b[0;34m=\u001b[0m\u001b[0mfontsize\u001b[0m\u001b[0;34m,\u001b[0m\u001b[0;34m\u001b[0m\u001b[0;34m\u001b[0m\u001b[0m\n\u001b[1;32m    194\u001b[0m     )\n\u001b[0;32m--> 195\u001b[0;31m     \u001b[0;32mreturn\u001b[0m \u001b[0mexporter\u001b[0m\u001b[0;34m.\u001b[0m\u001b[0mexport\u001b[0m\u001b[0;34m(\u001b[0m\u001b[0mdecision_tree\u001b[0m\u001b[0;34m,\u001b[0m \u001b[0max\u001b[0m\u001b[0;34m=\u001b[0m\u001b[0max\u001b[0m\u001b[0;34m)\u001b[0m\u001b[0;34m\u001b[0m\u001b[0;34m\u001b[0m\u001b[0m\n\u001b[0m\u001b[1;32m    196\u001b[0m \u001b[0;34m\u001b[0m\u001b[0m\n\u001b[1;32m    197\u001b[0m \u001b[0;34m\u001b[0m\u001b[0m\n",
      "\u001b[0;32m~/miniconda3/lib/python3.9/site-packages/sklearn/tree/_export.py\u001b[0m in \u001b[0;36mexport\u001b[0;34m(self, decision_tree, ax)\u001b[0m\n\u001b[1;32m    654\u001b[0m         \u001b[0max\u001b[0m\u001b[0;34m.\u001b[0m\u001b[0mclear\u001b[0m\u001b[0;34m(\u001b[0m\u001b[0;34m)\u001b[0m\u001b[0;34m\u001b[0m\u001b[0;34m\u001b[0m\u001b[0m\n\u001b[1;32m    655\u001b[0m         \u001b[0max\u001b[0m\u001b[0;34m.\u001b[0m\u001b[0mset_axis_off\u001b[0m\u001b[0;34m(\u001b[0m\u001b[0;34m)\u001b[0m\u001b[0;34m\u001b[0m\u001b[0;34m\u001b[0m\u001b[0m\n\u001b[0;32m--> 656\u001b[0;31m         \u001b[0mmy_tree\u001b[0m \u001b[0;34m=\u001b[0m \u001b[0mself\u001b[0m\u001b[0;34m.\u001b[0m\u001b[0m_make_tree\u001b[0m\u001b[0;34m(\u001b[0m\u001b[0;36m0\u001b[0m\u001b[0;34m,\u001b[0m \u001b[0mdecision_tree\u001b[0m\u001b[0;34m.\u001b[0m\u001b[0mtree_\u001b[0m\u001b[0;34m,\u001b[0m \u001b[0mdecision_tree\u001b[0m\u001b[0;34m.\u001b[0m\u001b[0mcriterion\u001b[0m\u001b[0;34m)\u001b[0m\u001b[0;34m\u001b[0m\u001b[0;34m\u001b[0m\u001b[0m\n\u001b[0m\u001b[1;32m    657\u001b[0m         \u001b[0mdraw_tree\u001b[0m \u001b[0;34m=\u001b[0m \u001b[0mbuchheim\u001b[0m\u001b[0;34m(\u001b[0m\u001b[0mmy_tree\u001b[0m\u001b[0;34m)\u001b[0m\u001b[0;34m\u001b[0m\u001b[0;34m\u001b[0m\u001b[0m\n\u001b[1;32m    658\u001b[0m \u001b[0;34m\u001b[0m\u001b[0m\n",
      "\u001b[0;31mAttributeError\u001b[0m: 'RandomForestRegressor' object has no attribute 'tree_'"
     ]
    },
    {
     "data": {
      "image/png": "[encoded data removed]",
      "text/plain": [
       "<Figure size 2520x1440 with 1 Axes>"
      ]
     },
     "metadata": {},
     "output_type": "display_data"
    }
   ],
   "source": [
    "names = ['systemSizeInDCSTC_KW_', 'moduleQty_1', 'mod_nameplate_capacity1', \n",
    "          'mod_efficiency1', 'TotalModuleQty']\n",
    "# Plot the tree\n",
    "fig = plt.figure(figsize = (35,20))\n",
    "tree.plot_tree(rfc, feature_names = names, filled = True, fontsize = 20, max_depth = 3)\n",
    "plt.tight_layout()\n",
    "plt.show()"
   ]
  },
  {
   "cell_type": "code",
   "execution_count": null,
   "id": "13a4c4b2",
   "metadata": {},
   "outputs": [],
   "source": []
  }
 ],
 "metadata": {
  "kernelspec": {
   "display_name": "Python 3 (ipykernel)",
   "language": "python",
   "name": "python3"
  },
  "language_info": {
   "codemirror_mode": {
    "name": "ipython",
    "version": 3
   },
   "file_extension": ".py",
   "mimetype": "text/x-python",
   "name": "python",
   "nbconvert_exporter": "python",
   "pygments_lexer": "ipython3",
   "version": "3.7.11"
  }
 },
 "nbformat": 4,
 "nbformat_minor": 5
}
