{
 "cells": [
  {
   "cell_type": "code",
   "execution_count": 1,
   "id": "e2d2037c",
   "metadata": {},
   "outputs": [],
   "source": [
    "import pandas as pd"
   ]
  },
  {
   "attachments": {},
   "cell_type": "markdown",
   "id": "41fc47fb",
   "metadata": {},
   "source": [
    "# Combine Datasets\n",
    "\n",
    "- These datasets are pared down from the original two datasets and only contain the following columns: 'moduleQty_1',\t'moduleQty_2',\t'moduleQty_3', 'mod_efficiency1'\n",
    "\n",
    "- The 'mod_efficiency1' was needed to attain the same shape as the primary dataset by dropping rows with -1. \n",
    "\n",
    "- In order to calculate the total number of modules, the sum of the 3 columns were calculated while also ignoring the cells without data (indicated with -1). "
   ]
  },
  {
   "cell_type": "code",
   "execution_count": 2,
   "id": "a05b665e",
   "metadata": {},
   "outputs": [
    {
     "name": "stderr",
     "output_type": "stream",
     "text": [
      "/home/tessmachado/miniconda3/envs/py37/lib/python3.7/site-packages/IPython/core/interactiveshell.py:3457: DtypeWarning: Columns (2,3,13,25,26,27,28,31,32) have mixed types.Specify dtype option on import or set low_memory=False.\n",
      "  exec(code_obj, self.user_global_ns, self.user_ns)\n"
     ]
    }
   ],
   "source": [
    "data = pd.read_csv('TTS_data_old.csv')"
   ]
  },
  {
   "cell_type": "code",
   "execution_count": 7,
   "id": "53107e3b",
   "metadata": {},
   "outputs": [],
   "source": [
    "d1 = 'part1.csv'\n",
    "d2 = 'part2.csv'\n",
    "\n",
    "comb_df = pd.concat(map(pd.read_csv, [d1,d2]), ignore_index = True, sort = False)\n",
    "comb_df = comb_df.where(comb_df['mod_efficiency1'] != -1).dropna()\n",
    "comb_df.reset_index(drop = True, inplace = True)"
   ]
  },
  {
   "cell_type": "code",
   "execution_count": 8,
   "id": "12d7fd4c",
   "metadata": {},
   "outputs": [],
   "source": [
    "def count_na(j):\n",
    "    count = 0\n",
    "    for k in j:\n",
    "        if k == -1:\n",
    "            count += 1\n",
    "    return count\n",
    "\n",
    "def find_sum(j):\n",
    "    #print(j)\n",
    "    sum_qty = 0\n",
    "    for k in j:\n",
    "        if k == -1:\n",
    "            continue\n",
    "        else:\n",
    "            sum_qty += k\n",
    "    return sum_qty\n",
    "\n",
    "\n",
    "comb_df['TotalModules'] = comb_df['moduleQty_1'] + comb_df['moduleQty_2']\n",
    "for i, j in comb_df.iterrows():\n",
    "    if count_na(j) == 3:\n",
    "        comb_df['TotalModules'][i] = -1\n",
    "    else:\n",
    "        comb_df['TotalModules'][i] = find_sum(j)\n"
   ]
  },
  {
   "cell_type": "code",
   "execution_count": 9,
   "id": "7f2e699e",
   "metadata": {},
   "outputs": [],
   "source": [
    "data['TotalModuleQty'] = comb_df['TotalModules']\n",
    "#data = data.drop('moduleQty_1', 1)"
   ]
  },
  {
   "cell_type": "code",
   "execution_count": 10,
   "id": "63b7eeb4",
   "metadata": {},
   "outputs": [
    {
     "data": {
      "text/plain": [
       "Index(['Unnamed: 0', 'dataProvider1', 'dataProvider2', 'program1ProjectID',\n",
       "       'PTODate_orProxy_', 'systemSizeInDCSTC_KW_', 'totalInstalledCost___',\n",
       "       'Up_FrontCashIncentive___', 'customerSegment', 'is_expansion',\n",
       "       'is_multiphase', 'tracking_Y_N_', 'ground_mounted_Y_N_',\n",
       "       'hostCustomerZip__4_', 'hostCustomerCity', 'state',\n",
       "       'utilityServiceTerritory', 'x3rdPartyOwned_1_0_', 'installer_clean',\n",
       "       'self_install_Y_N_', 'azimuth_1', 'tilt_1', 'mod_manuf1_clean',\n",
       "       'mod_model1_clean', 'moduleQty_1', 'mod_manuf2_clean',\n",
       "       'mod_model2_clean', 'mod_manuf3_clean', 'mod_model3_clean',\n",
       "       'additionalModuleModels_Y_N_', 'mod_tech1', 'mod_tech2', 'mod_tech3',\n",
       "       'mod_BIPV1', 'mod_bifacial1', 'mod_nameplate_capacity1',\n",
       "       'mod_efficiency1', 'inv_manuf1_clean', 'inv_model1_clean',\n",
       "       'inverterQuantity_1', 'additionalInverterModels_Y_N_', 'inv_microinv1',\n",
       "       'inv_battery_hybrid1', 'inv_builtin_meter1', 'inv_outputcapacity1',\n",
       "       'dc_optimizer', 'ILR', 'TotalModuleQty'],\n",
       "      dtype='object')"
      ]
     },
     "execution_count": 10,
     "metadata": {},
     "output_type": "execute_result"
    }
   ],
   "source": [
    "data.columns"
   ]
  },
  {
   "cell_type": "code",
   "execution_count": 13,
   "id": "e38bd290",
   "metadata": {
    "scrolled": true
   },
   "outputs": [
    {
     "name": "stderr",
     "output_type": "stream",
     "text": [
      "/home/tessmachado/miniconda3/envs/py37/lib/python3.7/site-packages/ipykernel_launcher.py:1: FutureWarning: In a future version of pandas all arguments of DataFrame.drop except for the argument 'labels' will be keyword-only\n",
      "  \"\"\"Entry point for launching an IPython kernel.\n"
     ]
    }
   ],
   "source": [
    "data = data.drop('Unnamed: 0', 1)"
   ]
  },
  {
   "cell_type": "code",
   "execution_count": 14,
   "id": "2e2502d4",
   "metadata": {},
   "outputs": [
    {
     "data": {
      "text/html": [
       "<div>\n",
       "<style scoped>\n",
       "    .dataframe tbody tr th:only-of-type {\n",
       "        vertical-align: middle;\n",
       "    }\n",
       "\n",
       "    .dataframe tbody tr th {\n",
       "        vertical-align: top;\n",
       "    }\n",
       "\n",
       "    .dataframe thead th {\n",
       "        text-align: right;\n",
       "    }\n",
       "</style>\n",
       "<table border=\"1\" class=\"dataframe\">\n",
       "  <thead>\n",
       "    <tr style=\"text-align: right;\">\n",
       "      <th></th>\n",
       "      <th>dataProvider1</th>\n",
       "      <th>dataProvider2</th>\n",
       "      <th>program1ProjectID</th>\n",
       "      <th>PTODate_orProxy_</th>\n",
       "      <th>systemSizeInDCSTC_KW_</th>\n",
       "      <th>totalInstalledCost___</th>\n",
       "      <th>Up_FrontCashIncentive___</th>\n",
       "      <th>customerSegment</th>\n",
       "      <th>is_expansion</th>\n",
       "      <th>is_multiphase</th>\n",
       "      <th>...</th>\n",
       "      <th>inv_model1_clean</th>\n",
       "      <th>inverterQuantity_1</th>\n",
       "      <th>additionalInverterModels_Y_N_</th>\n",
       "      <th>inv_microinv1</th>\n",
       "      <th>inv_battery_hybrid1</th>\n",
       "      <th>inv_builtin_meter1</th>\n",
       "      <th>inv_outputcapacity1</th>\n",
       "      <th>dc_optimizer</th>\n",
       "      <th>ILR</th>\n",
       "      <th>TotalModuleQty</th>\n",
       "    </tr>\n",
       "  </thead>\n",
       "  <tbody>\n",
       "    <tr>\n",
       "      <th>0</th>\n",
       "      <td>Arizona Public Service</td>\n",
       "      <td>-1</td>\n",
       "      <td>3</td>\n",
       "      <td>24-Jan-00</td>\n",
       "      <td>12.025</td>\n",
       "      <td>-1.0</td>\n",
       "      <td>-1.0</td>\n",
       "      <td>RES</td>\n",
       "      <td>0</td>\n",
       "      <td>0</td>\n",
       "      <td>...</td>\n",
       "      <td>IQ7-60-2-US [240V]</td>\n",
       "      <td>-1.0</td>\n",
       "      <td>-1</td>\n",
       "      <td>1</td>\n",
       "      <td>0</td>\n",
       "      <td>0</td>\n",
       "      <td>0.240</td>\n",
       "      <td>0</td>\n",
       "      <td>-1.0</td>\n",
       "      <td>-1.0</td>\n",
       "    </tr>\n",
       "    <tr>\n",
       "      <th>1</th>\n",
       "      <td>Arizona Public Service</td>\n",
       "      <td>-1</td>\n",
       "      <td>5</td>\n",
       "      <td>6-Mar-00</td>\n",
       "      <td>8.640</td>\n",
       "      <td>-1.0</td>\n",
       "      <td>-1.0</td>\n",
       "      <td>RES</td>\n",
       "      <td>0</td>\n",
       "      <td>0</td>\n",
       "      <td>...</td>\n",
       "      <td>SE7600H-US [240V]</td>\n",
       "      <td>-1.0</td>\n",
       "      <td>-1</td>\n",
       "      <td>0</td>\n",
       "      <td>0</td>\n",
       "      <td>1</td>\n",
       "      <td>7.616</td>\n",
       "      <td>1</td>\n",
       "      <td>-1.0</td>\n",
       "      <td>-1.0</td>\n",
       "    </tr>\n",
       "    <tr>\n",
       "      <th>2</th>\n",
       "      <td>Arizona Public Service</td>\n",
       "      <td>-1</td>\n",
       "      <td>8</td>\n",
       "      <td>7-May-02</td>\n",
       "      <td>2.400</td>\n",
       "      <td>-1.0</td>\n",
       "      <td>-1.0</td>\n",
       "      <td>RES</td>\n",
       "      <td>0</td>\n",
       "      <td>0</td>\n",
       "      <td>...</td>\n",
       "      <td>Power Station PS247-15-180 [120V]</td>\n",
       "      <td>-1.0</td>\n",
       "      <td>-1</td>\n",
       "      <td>0</td>\n",
       "      <td>-1</td>\n",
       "      <td>1</td>\n",
       "      <td>15.160</td>\n",
       "      <td>0</td>\n",
       "      <td>-1.0</td>\n",
       "      <td>-1.0</td>\n",
       "    </tr>\n",
       "    <tr>\n",
       "      <th>3</th>\n",
       "      <td>Arizona Public Service</td>\n",
       "      <td>-1</td>\n",
       "      <td>10</td>\n",
       "      <td>17-Dec-02</td>\n",
       "      <td>2.160</td>\n",
       "      <td>-1.0</td>\n",
       "      <td>-1.0</td>\n",
       "      <td>RES</td>\n",
       "      <td>0</td>\n",
       "      <td>0</td>\n",
       "      <td>...</td>\n",
       "      <td>Power Station PS247-15-180 [120V]</td>\n",
       "      <td>-1.0</td>\n",
       "      <td>-1</td>\n",
       "      <td>0</td>\n",
       "      <td>-1</td>\n",
       "      <td>1</td>\n",
       "      <td>15.160</td>\n",
       "      <td>0</td>\n",
       "      <td>-1.0</td>\n",
       "      <td>-1.0</td>\n",
       "    </tr>\n",
       "    <tr>\n",
       "      <th>4</th>\n",
       "      <td>Arizona Public Service</td>\n",
       "      <td>-1</td>\n",
       "      <td>11</td>\n",
       "      <td>19-Dec-02</td>\n",
       "      <td>2.520</td>\n",
       "      <td>-1.0</td>\n",
       "      <td>-1.0</td>\n",
       "      <td>RES</td>\n",
       "      <td>0</td>\n",
       "      <td>0</td>\n",
       "      <td>...</td>\n",
       "      <td>Power Station PS247-15-180 [120V]</td>\n",
       "      <td>-1.0</td>\n",
       "      <td>-1</td>\n",
       "      <td>0</td>\n",
       "      <td>-1</td>\n",
       "      <td>1</td>\n",
       "      <td>15.160</td>\n",
       "      <td>0</td>\n",
       "      <td>-1.0</td>\n",
       "      <td>-1.0</td>\n",
       "    </tr>\n",
       "  </tbody>\n",
       "</table>\n",
       "<p>5 rows × 47 columns</p>\n",
       "</div>"
      ],
      "text/plain": [
       "            dataProvider1 dataProvider2 program1ProjectID PTODate_orProxy_  \\\n",
       "0  Arizona Public Service            -1                 3        24-Jan-00   \n",
       "1  Arizona Public Service            -1                 5         6-Mar-00   \n",
       "2  Arizona Public Service            -1                 8         7-May-02   \n",
       "3  Arizona Public Service            -1                10        17-Dec-02   \n",
       "4  Arizona Public Service            -1                11        19-Dec-02   \n",
       "\n",
       "   systemSizeInDCSTC_KW_  totalInstalledCost___  Up_FrontCashIncentive___  \\\n",
       "0                 12.025                   -1.0                      -1.0   \n",
       "1                  8.640                   -1.0                      -1.0   \n",
       "2                  2.400                   -1.0                      -1.0   \n",
       "3                  2.160                   -1.0                      -1.0   \n",
       "4                  2.520                   -1.0                      -1.0   \n",
       "\n",
       "  customerSegment  is_expansion  is_multiphase  ...  \\\n",
       "0             RES             0              0  ...   \n",
       "1             RES             0              0  ...   \n",
       "2             RES             0              0  ...   \n",
       "3             RES             0              0  ...   \n",
       "4             RES             0              0  ...   \n",
       "\n",
       "                    inv_model1_clean  inverterQuantity_1  \\\n",
       "0                 IQ7-60-2-US [240V]                -1.0   \n",
       "1                  SE7600H-US [240V]                -1.0   \n",
       "2  Power Station PS247-15-180 [120V]                -1.0   \n",
       "3  Power Station PS247-15-180 [120V]                -1.0   \n",
       "4  Power Station PS247-15-180 [120V]                -1.0   \n",
       "\n",
       "  additionalInverterModels_Y_N_ inv_microinv1 inv_battery_hybrid1  \\\n",
       "0                            -1             1                   0   \n",
       "1                            -1             0                   0   \n",
       "2                            -1             0                  -1   \n",
       "3                            -1             0                  -1   \n",
       "4                            -1             0                  -1   \n",
       "\n",
       "  inv_builtin_meter1  inv_outputcapacity1 dc_optimizer  ILR  TotalModuleQty  \n",
       "0                  0                0.240            0 -1.0            -1.0  \n",
       "1                  1                7.616            1 -1.0            -1.0  \n",
       "2                  1               15.160            0 -1.0            -1.0  \n",
       "3                  1               15.160            0 -1.0            -1.0  \n",
       "4                  1               15.160            0 -1.0            -1.0  \n",
       "\n",
       "[5 rows x 47 columns]"
      ]
     },
     "execution_count": 14,
     "metadata": {},
     "output_type": "execute_result"
    }
   ],
   "source": [
    "data.head()"
   ]
  },
  {
   "cell_type": "code",
   "execution_count": 15,
   "id": "fc68d082",
   "metadata": {},
   "outputs": [],
   "source": [
    "data.to_csv('TTS_data.csv')"
   ]
  },
  {
   "cell_type": "code",
   "execution_count": null,
   "id": "7799ec26",
   "metadata": {},
   "outputs": [],
   "source": []
  },
  {
   "cell_type": "markdown",
   "id": "9503d189",
   "metadata": {},
   "source": [
    "d1 = 'part1.csv'\n",
    "d2 = 'part2.csv'\n",
    "\n",
    "comb_df = pd.concat(map(pd.read_csv, [d1,d2]), ignore_index = True, sort = False)\n",
    "#comb_df.head()\n",
    "comb_df = comb_df.where(comb_df['mod_efficiency1'] != -1).dropna()\n",
    "print(len(comb_df))\n",
    "print(len(data))\n",
    "comb_df = comb_df.replace(to_replace = -1, value = 0)\n",
    "#comb_df.head()\n",
    "comb_df['TotalModules'] = comb_df['moduleQty_1'] + comb_df['moduleQty_2']\n",
    "comb_df['TotalModules']= comb_df['TotalModules'] + comb_df['moduleQty_3'] \n",
    "comb_df['TotalModules'] = comb_df['TotalModules'] + comb_df['additionalModuleModels_Y_N_']\n",
    "comb_df.reset_index(inplace = True)\n",
    "data['TotalModuleQty'] = comb_df['TotalModules']"
   ]
  }
 ],
 "metadata": {
  "kernelspec": {
   "display_name": "Python 3 (ipykernel)",
   "language": "python",
   "name": "python3"
  },
  "language_info": {
   "codemirror_mode": {
    "name": "ipython",
    "version": 3
   },
   "file_extension": ".py",
   "mimetype": "text/x-python",
   "name": "python",
   "nbconvert_exporter": "python",
   "pygments_lexer": "ipython3",
   "version": "3.7.11"
  }
 },
 "nbformat": 4,
 "nbformat_minor": 5
}
