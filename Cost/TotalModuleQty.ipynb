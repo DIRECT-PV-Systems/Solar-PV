{
 "cells": [
  {
   "cell_type": "markdown",
   "id": "b8f687a2",
   "metadata": {},
   "source": [
    "# Create TotalModuleQty Column\n",
    "\n",
    "This notebook describes the process in creating and adding the TotalModuleQty column to main dataset from Berkeley Lab's *Tracking the Sun* report. This column contains the sum of the total number of modules for each project listed in the dataset."
   ]
  },
  {
   "cell_type": "markdown",
   "id": "f0e98cdc",
   "metadata": {},
   "source": [
    "## Relevant Packages\n",
    "\n",
    "The following package was imported for manipulating the dataset:"
   ]
  },
  {
   "cell_type": "code",
   "execution_count": 1,
   "id": "e2d2037c",
   "metadata": {},
   "outputs": [],
   "source": [
    "import pandas as pd"
   ]
  },
  {
   "cell_type": "markdown",
   "id": "7245ab56",
   "metadata": {},
   "source": [
    "## Dataset\n",
    "\n",
    "Next, the dataset (.csv) was imported."
   ]
  },
  {
   "cell_type": "code",
   "execution_count": 2,
   "id": "922e1795",
   "metadata": {},
   "outputs": [
    {
     "name": "stderr",
     "output_type": "stream",
     "text": [
      "/home/tessmachado/miniconda3/envs/py37/lib/python3.7/site-packages/IPython/core/interactiveshell.py:3457: DtypeWarning: Columns (2,3,13,28,29,30,31,34,35) have mixed types.Specify dtype option on import or set low_memory=False.\n",
      "  exec(code_obj, self.user_global_ns, self.user_ns)\n"
     ]
    }
   ],
   "source": [
    "# Main dataset\n",
    "data = pd.read_csv('datasets/TTS_data.csv')"
   ]
  },
  {
   "cell_type": "markdown",
   "id": "41fc47fb",
   "metadata": {},
   "source": [
    "## Combine Datasets\n",
    "\n",
    "These datasets are pared down from the original two datasets and only contain the following columns: 'moduleQty_1',\t'moduleQty_2',\t'moduleQty_3', 'mod_efficiency1'\n",
    "- Note that the previous imported dataset also combines the datasets provided by Berkely Lab. These new datasets with only a couple columns were created to also demonstrate how we combined the datasets."
   ]
  },
  {
   "cell_type": "code",
   "execution_count": 16,
   "id": "53107e3b",
   "metadata": {},
   "outputs": [],
   "source": [
    "# Parsed down dataset names:\n",
    "d1 = 'datasets/part1.csv'\n",
    "d2 = 'datasets/part2.csv'"
   ]
  },
  {
   "cell_type": "markdown",
   "id": "9f0da047",
   "metadata": {},
   "source": [
    "The datasets were combined by utilizing the same column names."
   ]
  },
  {
   "cell_type": "code",
   "execution_count": 17,
   "id": "d19df2fd",
   "metadata": {},
   "outputs": [],
   "source": [
    "# Combine data (column names match)\n",
    "comb_df = pd.concat(map(pd.read_csv, [d1,d2]), ignore_index = True, sort = False)"
   ]
  },
  {
   "cell_type": "markdown",
   "id": "078eb15c",
   "metadata": {},
   "source": [
    "Remove rows with no efficiency data:\n",
    "- The main dataset only contains the data where the efficiency ('mod_efficiency1') has reported data. If there is no reported data, this was indicated with a -1. The 'mod_efficiency1' column in the two parsed datasets were needed to attain the same shape as the primary dataset by dropping rows with -1."
   ]
  },
  {
   "cell_type": "code",
   "execution_count": 18,
   "id": "285fba34",
   "metadata": {},
   "outputs": [],
   "source": [
    "# Drop rows where there is no data in the efficiency column\n",
    "comb_df = comb_df.where(comb_df['mod_efficiency1'] != -1).dropna()"
   ]
  },
  {
   "cell_type": "markdown",
   "id": "28307b33",
   "metadata": {},
   "source": [
    "Reset index: \n",
    "- Due to dropping rows after the datasets were combined, the index was reset."
   ]
  },
  {
   "cell_type": "code",
   "execution_count": 19,
   "id": "5c941751",
   "metadata": {},
   "outputs": [],
   "source": [
    "# Resets index to account for dropped rows\n",
    "comb_df.reset_index(drop = True, inplace = True)"
   ]
  },
  {
   "cell_type": "markdown",
   "id": "b95db81a",
   "metadata": {},
   "source": [
    "Drop efficiency column since not needed for calculation"
   ]
  },
  {
   "cell_type": "code",
   "execution_count": 21,
   "id": "98cd2e7d",
   "metadata": {},
   "outputs": [],
   "source": [
    "# Drops 'mod_efficiency1' column\n",
    "comb_df.drop('mod_efficiency1', axis=1, inplace=True)"
   ]
  },
  {
   "cell_type": "code",
   "execution_count": 22,
   "id": "77774caa",
   "metadata": {
    "scrolled": true
   },
   "outputs": [
    {
     "data": {
      "text/html": [
       "<div>\n",
       "<style scoped>\n",
       "    .dataframe tbody tr th:only-of-type {\n",
       "        vertical-align: middle;\n",
       "    }\n",
       "\n",
       "    .dataframe tbody tr th {\n",
       "        vertical-align: top;\n",
       "    }\n",
       "\n",
       "    .dataframe thead th {\n",
       "        text-align: right;\n",
       "    }\n",
       "</style>\n",
       "<table border=\"1\" class=\"dataframe\">\n",
       "  <thead>\n",
       "    <tr style=\"text-align: right;\">\n",
       "      <th></th>\n",
       "      <th>moduleQty_1</th>\n",
       "      <th>moduleQty_2</th>\n",
       "      <th>moduleQty_3</th>\n",
       "    </tr>\n",
       "  </thead>\n",
       "  <tbody>\n",
       "    <tr>\n",
       "      <th>0</th>\n",
       "      <td>-1.0</td>\n",
       "      <td>-1.0</td>\n",
       "      <td>-1.0</td>\n",
       "    </tr>\n",
       "    <tr>\n",
       "      <th>1</th>\n",
       "      <td>-1.0</td>\n",
       "      <td>-1.0</td>\n",
       "      <td>-1.0</td>\n",
       "    </tr>\n",
       "    <tr>\n",
       "      <th>2</th>\n",
       "      <td>-1.0</td>\n",
       "      <td>-1.0</td>\n",
       "      <td>-1.0</td>\n",
       "    </tr>\n",
       "    <tr>\n",
       "      <th>3</th>\n",
       "      <td>-1.0</td>\n",
       "      <td>-1.0</td>\n",
       "      <td>-1.0</td>\n",
       "    </tr>\n",
       "    <tr>\n",
       "      <th>4</th>\n",
       "      <td>-1.0</td>\n",
       "      <td>-1.0</td>\n",
       "      <td>-1.0</td>\n",
       "    </tr>\n",
       "  </tbody>\n",
       "</table>\n",
       "</div>"
      ],
      "text/plain": [
       "   moduleQty_1  moduleQty_2  moduleQty_3\n",
       "0         -1.0         -1.0         -1.0\n",
       "1         -1.0         -1.0         -1.0\n",
       "2         -1.0         -1.0         -1.0\n",
       "3         -1.0         -1.0         -1.0\n",
       "4         -1.0         -1.0         -1.0"
      ]
     },
     "execution_count": 22,
     "metadata": {},
     "output_type": "execute_result"
    }
   ],
   "source": [
    "comb_df.head()"
   ]
  },
  {
   "cell_type": "markdown",
   "id": "a1bdf6a4",
   "metadata": {},
   "source": [
    "## Row Calculation\n",
    "\n",
    "In order to calculate the total number of modules, the sum of the 3 columns were calculated while also ignoring the cells without data (indicated with -1). "
   ]
  },
  {
   "cell_type": "code",
   "execution_count": 23,
   "id": "12d7fd4c",
   "metadata": {},
   "outputs": [],
   "source": [
    "# Counts -1 values in a row\n",
    "def count_na(j):\n",
    "    count = 0\n",
    "    for k in j:\n",
    "        if k == -1:\n",
    "            count += 1\n",
    "    return count\n",
    "\n",
    "# calculates the total: sum of the number of modules in each row\n",
    "def find_sum(j):\n",
    "    #print(j)\n",
    "    sum_qty = 0\n",
    "    for k in j:\n",
    "        if k == -1: # ignores column if contains -1\n",
    "            continue\n",
    "        else:\n",
    "            sum_qty += k\n",
    "    return sum_qty\n",
    "\n",
    "# initialize column in parsed dataset\n",
    "comb_df['TotalModules'] = comb_df['moduleQty_1'] + comb_df['moduleQty_2']\n",
    "\n",
    "# calculates sum of modules for each row\n",
    "for i, j in comb_df.iterrows(): # iterates through each row in parsed dataset\n",
    "    if count_na(j) == 3: # if there are three -1 values, assigns -1 in row\n",
    "        comb_df['TotalModules'][i] = -1\n",
    "    else:\n",
    "        comb_df['TotalModules'][i] = find_sum(j) # calls function: finds sum\n"
   ]
  },
  {
   "cell_type": "markdown",
   "id": "26c4d788",
   "metadata": {},
   "source": [
    "## Appends new column to main dataset"
   ]
  },
  {
   "cell_type": "code",
   "execution_count": 25,
   "id": "7f2e699e",
   "metadata": {},
   "outputs": [],
   "source": [
    "data['TotalModuleQty'] = comb_df['TotalModules']"
   ]
  },
  {
   "cell_type": "markdown",
   "id": "acd5f645",
   "metadata": {},
   "source": [
    "## Save dataset with new column as .csv"
   ]
  },
  {
   "cell_type": "code",
   "execution_count": 29,
   "id": "fc68d082",
   "metadata": {},
   "outputs": [],
   "source": [
    "data.to_csv('TTS_data.csv')"
   ]
  }
 ],
 "metadata": {
  "kernelspec": {
   "display_name": "Python 3 (ipykernel)",
   "language": "python",
   "name": "python3"
  },
  "language_info": {
   "codemirror_mode": {
    "name": "ipython",
    "version": 3
   },
   "file_extension": ".py",
   "mimetype": "text/x-python",
   "name": "python",
   "nbconvert_exporter": "python",
   "pygments_lexer": "ipython3",
   "version": "3.7.11"
  }
 },
 "nbformat": 4,
 "nbformat_minor": 5
}
