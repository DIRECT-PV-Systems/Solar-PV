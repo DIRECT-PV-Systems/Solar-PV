{
 "cells": [
  {
   "cell_type": "code",
   "execution_count": 1,
   "id": "aa278a08",
   "metadata": {},
   "outputs": [],
   "source": [
    "import pandas as pd\n",
    "import matplotlib\n",
    "import matplotlib.pyplot as plt\n",
    "import numpy as np\n",
    "import sklearn\n",
    "\n",
    "from sklearn import linear_model\n",
    "from sklearn.ensemble import RandomForestRegressor\n",
    "# Note - you will need version 0.24.1 of scikit-learn to load this library (SequentialFeatureSelector)\n",
    "from sklearn.feature_selection import SequentialFeatureSelector\n",
    "from sklearn.metrics import r2_score, mean_squared_error\n",
    "from sklearn.model_selection import train_test_split"
   ]
  },
  {
   "cell_type": "code",
   "execution_count": 2,
   "id": "0b6503ee",
   "metadata": {},
   "outputs": [
    {
     "name": "stderr",
     "output_type": "stream",
     "text": [
      "/home/tessmachado/miniconda3/lib/python3.9/site-packages/IPython/core/interactiveshell.py:3444: DtypeWarning: Columns (2,3,13,28,29,30,31,34,35) have mixed types.Specify dtype option on import or set low_memory=False.\n",
      "  exec(code_obj, self.user_global_ns, self.user_ns)\n"
     ]
    }
   ],
   "source": [
    "data = pd.read_csv('datasets/TTS_data.csv')\n",
    "data = data.where(data['totalInstalledCost___'] != -1).dropna()\n",
    "X = data[['systemSizeInDCSTC_KW_', 'Up_FrontCashIncentive___', 'azimuth_1', 'tilt_1', \n",
    "        'mod_nameplate_capacity1', 'inverterQuantity_1', 'inv_outputcapacity1', \n",
    "        'ILR', 'TotalModuleQty', 'latitude', 'longitude','mod_efficiency1']]\n",
    "\n",
    "y = data['totalInstalledCost___']\n",
    "X_train, X_test, y_train, y_test = train_test_split(X, y, test_size=0.21, random_state=9, shuffle = True)"
   ]
  },
  {
   "cell_type": "code",
   "execution_count": 3,
   "id": "fd09295a",
   "metadata": {},
   "outputs": [],
   "source": [
    "# Stepwise Selection\n",
    "\n",
    "def forward_stepwise_selection(X, y, f_names):\n",
    "    sfs_forward = SequentialFeatureSelector(linear_model.LinearRegression(), \n",
    "                                        n_features_to_select=5, \n",
    "                                        direction = 'forward').fit(X,y)\n",
    "    print('support: ', sfs_forward.get_support(), \"\\n\")\n",
    "    selected = sfs_forward.get_support(indices = True)\n",
    "    print(selected)\n",
    "    print('Selected input features using Forward Stepwise Selection: \\n', f_names[selected])\n",
    "    \n",
    "    return f_names[selected]\n",
    "\n",
    "def backward_stepwise_selection(X, y, f_names):\n",
    "    sfs_backward = SequentialFeatureSelector(linear_model.LinearRegression(), \n",
    "                                        n_features_to_select=5, \n",
    "                                        direction = 'backward').fit(X,y)\n",
    "    print('support: ', sfs_backward.get_support(), \"\\n\")\n",
    "    selected = sfs_backward.get_support(indices = True)\n",
    "    print(selected)\n",
    "    print('Selected input features using Forward Stepwise Selection: \\n', f_names[selected])\n",
    "    \n",
    "    return f_names[selected]"
   ]
  },
  {
   "cell_type": "code",
   "execution_count": 7,
   "id": "f7fcdeb8",
   "metadata": {},
   "outputs": [],
   "source": [
    "def different_values(list1, list2):\n",
    "    return list(set(list1).symmetric_difference(set(list2)))\n",
    "\n",
    "def unique_values(list1, list2):\n",
    "    return list(set(list1) | (set(list2)))"
   ]
  },
  {
   "cell_type": "code",
   "execution_count": 8,
   "id": "d6d4e169",
   "metadata": {},
   "outputs": [],
   "source": [
    "# Regressors\n",
    "\n",
    "# Random Forest Regressor\n",
    "def random_forest_reg(X_train, y_train, X_test, y_test):\n",
    "    clf_RF = RandomForestRegressor(n_estimators = 100, max_depth = 4, max_features = 2, random_state = 7)\n",
    "    clf_RF = clf_RF.fit(X_train, y_train)\n",
    "    y_predict = clf_RF.predict(X_test)\n",
    "    mse_RF = mean_squared_error(y_test, y_predict)\n",
    "    r2_RF = r2_score(y_test, y_predict)\n",
    "    print(mse_RF)\n",
    "    print(r2_RF)\n",
    "    return r2_RF, y_predict\n",
    "\n",
    "# Gradient Boosting Regressor\n",
    "def gradient_boosting_reg(X_train, y_train, X_test, y_test):\n",
    "    clf_GB = GradientBoostingRegressor(n_estimators=1000, learning_rate=0.1, max_depth=1, random_state=7)\n",
    "    clf_GB = clf_GB.fit(X_train, y_train)\n",
    "    y_predict = clf_GB.predict(X_test)\n",
    "    mse_GB = mean_squared_error(y_test, y_predict)\n",
    "    r2_GB = r2_score(y_test, y_predict)\n",
    "    print(mse_GB)\n",
    "    print(r2_GB)\n",
    "    \n",
    "    return r2_GB\n",
    "    \n",
    "# Bagging Regressor\n",
    "def bagging_reg():\n",
    "    estimator = DecisionTreeRegressor(max_depth=4)\n",
    "    clf_bag = BaggingRegressor(base_estimator=estimator, n_estimators=100, random_state=7)\n",
    "    clf_bag = clf_bag.fit(X_train, y_train)\n",
    "    y_predict = clf_bag.predict(X_test)\n",
    "    mse_bag = mean_squared_error(y_test, y_predict)\n",
    "    r2_bag = r2_score(y_test, y_predict)\n",
    "    print(mse_bag)\n",
    "    print(r2_bag)\n",
    "    \n",
    "    return r2_bag"
   ]
  },
  {
   "cell_type": "code",
   "execution_count": 6,
   "id": "f3f55d19",
   "metadata": {},
   "outputs": [
    {
     "name": "stdout",
     "output_type": "stream",
     "text": [
      "support:  [ True False False False  True False False False  True  True False  True] \n",
      "\n",
      "[ 0  4  8  9 11]\n",
      "Selected input features using Forward Stepwise Selection: \n",
      " ['systemSizeInDCSTC_KW_' 'mod_nameplate_capacity1' 'TotalModuleQty'\n",
      " 'latitude' 'mod_efficiency1']\n",
      "support:  [ True False False False  True False False  True  True False False  True] \n",
      "\n",
      "[ 0  4  7  8 11]\n",
      "Selected input features using Forward Stepwise Selection: \n",
      " ['systemSizeInDCSTC_KW_' 'mod_nameplate_capacity1' 'ILR' 'TotalModuleQty'\n",
      " 'mod_efficiency1']\n"
     ]
    },
    {
     "ename": "NameError",
     "evalue": "name 'difference' is not defined",
     "output_type": "error",
     "traceback": [
      "\u001b[0;31m---------------------------------------------------------------------------\u001b[0m",
      "\u001b[0;31mNameError\u001b[0m                                 Traceback (most recent call last)",
      "\u001b[0;32m/tmp/ipykernel_186/1963060449.py\u001b[0m in \u001b[0;36m<module>\u001b[0;34m\u001b[0m\n\u001b[1;32m      4\u001b[0m \u001b[0mlist1\u001b[0m \u001b[0;34m=\u001b[0m \u001b[0mforward_stepwise_selection\u001b[0m\u001b[0;34m(\u001b[0m\u001b[0mX\u001b[0m\u001b[0;34m,\u001b[0m \u001b[0my\u001b[0m\u001b[0;34m,\u001b[0m \u001b[0mf_names\u001b[0m\u001b[0;34m)\u001b[0m\u001b[0;34m\u001b[0m\u001b[0;34m\u001b[0m\u001b[0m\n\u001b[1;32m      5\u001b[0m \u001b[0mlist2\u001b[0m \u001b[0;34m=\u001b[0m \u001b[0mbackward_stepwise_selection\u001b[0m\u001b[0;34m(\u001b[0m\u001b[0mX\u001b[0m\u001b[0;34m,\u001b[0m \u001b[0my\u001b[0m\u001b[0;34m,\u001b[0m \u001b[0mf_names\u001b[0m\u001b[0;34m)\u001b[0m\u001b[0;34m\u001b[0m\u001b[0;34m\u001b[0m\u001b[0m\n\u001b[0;32m----> 6\u001b[0;31m \u001b[0mdiff\u001b[0m \u001b[0;34m=\u001b[0m \u001b[0mdifference\u001b[0m\u001b[0;34m(\u001b[0m\u001b[0mlist1\u001b[0m\u001b[0;34m,\u001b[0m \u001b[0mlist2\u001b[0m\u001b[0;34m)\u001b[0m\u001b[0;34m\u001b[0m\u001b[0;34m\u001b[0m\u001b[0m\n\u001b[0m\u001b[1;32m      7\u001b[0m \u001b[0mprint\u001b[0m\u001b[0;34m(\u001b[0m\u001b[0mdiff\u001b[0m\u001b[0;34m)\u001b[0m\u001b[0;34m\u001b[0m\u001b[0;34m\u001b[0m\u001b[0m\n",
      "\u001b[0;31mNameError\u001b[0m: name 'difference' is not defined"
     ]
    }
   ],
   "source": [
    "names = 'systemSizeInDCSTC_KW_', 'Up_FrontCashIncentive___', 'azimuth_1', 'tilt_1', 'mod_nameplate_capacity1', 'inverterQuantity_1', 'inv_outputcapacity1', 'ILR', 'TotalModuleQty', 'latitude', 'longitude','mod_efficiency1'\n",
    "f_names = np.array(names)\n",
    "\n",
    "list1 = forward_stepwise_selection(X, y, f_names)\n",
    "list2 = backward_stepwise_selection(X, y, f_names)\n",
    "diff = different_values(list1, list2)\n",
    "print(diff)"
   ]
  },
  {
   "cell_type": "code",
   "execution_count": null,
   "id": "cb6b7cc3",
   "metadata": {},
   "outputs": [],
   "source": []
  },
  {
   "cell_type": "code",
   "execution_count": 12,
   "id": "1cce1b41",
   "metadata": {},
   "outputs": [
    {
     "name": "stderr",
     "output_type": "stream",
     "text": [
      "...."
     ]
    },
    {
     "name": "stdout",
     "output_type": "stream",
     "text": [
      "11029149901.469948\n",
      "0.2667907142955924\n"
     ]
    },
    {
     "name": "stderr",
     "output_type": "stream",
     "text": [
      ".."
     ]
    },
    {
     "name": "stdout",
     "output_type": "stream",
     "text": [
      "support:  [ True  True False False False  True  True False  True False False False] \n",
      "\n",
      "[0 1 5 6 8]\n",
      "Selected input features using Forward Stepwise Selection: \n",
      " ['systemSizeInDCSTC_KW_' 'Up_FrontCashIncentive___' 'mod_bifacial1'\n",
      " 'mod_nameplate_capacity1' 'inverterQuantity_1']\n"
     ]
    },
    {
     "name": "stderr",
     "output_type": "stream",
     "text": [
      "...."
     ]
    },
    {
     "name": "stdout",
     "output_type": "stream",
     "text": [
      "support:  [False  True  True False False False  True False  True  True False False] \n",
      "\n",
      "[1 2 6 8 9]\n",
      "Selected input features using Forward Stepwise Selection: \n",
      " ['Up_FrontCashIncentive___' 'azimuth_1' 'mod_nameplate_capacity1'\n",
      " 'inverterQuantity_1' 'inv_microinv1']\n",
      "Passed Pattern Test for Different Values\n",
      "Passed Pattern Test for Unique Values\n"
     ]
    },
    {
     "name": "stderr",
     "output_type": "stream",
     "text": [
      "\n",
      "----------------------------------------------------------------------\n",
      "Ran 10 tests in 0.934s\n",
      "\n",
      "OK\n"
     ]
    }
   ],
   "source": [
    "import pandas as pd\n",
    "import numpy as np\n",
    "import sklearn\n",
    "\n",
    "from sklearn import linear_model\n",
    "from sklearn.ensemble import RandomForestRegressor\n",
    "# Note - you will need version 0.24.1 of scikit-learn to load this library (SequentialFeatureSelector)\n",
    "from sklearn.feature_selection import SequentialFeatureSelector\n",
    "from sklearn.metrics import r2_score, mean_squared_error\n",
    "from sklearn.model_selection import train_test_split\n",
    "\n",
    "import unittest\n",
    "\n",
    "class TestCost(unittest.TestCase):\n",
    "    \"\"\"\n",
    "    test cases\n",
    "    \"\"\"\n",
    "    \n",
    "    # tests if efficiency column contains any missing data\n",
    "    def test_eff_missing_data(self):\n",
    "        \"\"\"\n",
    "        Checks for missing data in efficiency column (indicted with -1)\n",
    "        \"\"\"\n",
    "        missing_val = -1\n",
    "        df = pd.read_csv('tests/TTS_sample.csv')\n",
    "        if missing_val in df['mod_efficiency1']:\n",
    "            self.assertRaises(ValueError)\n",
    "        return\n",
    "    \n",
    "    # stepwise selection\n",
    "    \n",
    "    # forward stepwise selection\n",
    "    def test_one_shot_test_forward_stepwise(self):\n",
    "        \"\"\"\n",
    "        Forward stepwise selection: one shot test\n",
    "        \"\"\"\n",
    "        df = pd.read_csv('tests/TTS_sample.csv')\n",
    "        X = df[['systemSizeInDCSTC_KW_', 'Up_FrontCashIncentive___', 'azimuth_1', 'tilt_1', \n",
    "        'mod_nameplate_capacity1', 'inverterQuantity_1', 'inv_outputcapacity1', \n",
    "        'ILR', 'TotalModuleQty', 'latitude', 'longitude','mod_efficiency1']]\n",
    "        y = df['totalInstalledCost___']\n",
    "        \n",
    "        names = 'systemSizeInDCSTC_KW_', 'Up_FrontCashIncentive___', 'azimuth_1', 'tilt_1', 'mod_BIPV1', 'mod_bifacial1', 'mod_nameplate_capacity1', 'mod_efficiency1', 'inverterQuantity_1', 'inv_microinv1', 'inv_battery_hybrid1', 'inv_builtin_meter1', 'inv_outputcapacity1', 'dc_optimizer', 'ILR', 'TotalModuleQty', 'latitude', 'longitude'\n",
    "        f_names = np.array(names)\n",
    "        forward_stepwise_selection(X, y, f_names)\n",
    "        return\n",
    "    \n",
    "    def test_forward_stepwise_input(self):\n",
    "        \"\"\"\n",
    "        Forward stepwise selection: Checks input type; only accepts int/float values\n",
    "        \"\"\"\n",
    "        df = pd.read_csv('tests/TTS_sample.csv')\n",
    "        df = df[['systemSizeInDCSTC_KW_', 'Up_FrontCashIncentive___', 'azimuth_1', 'tilt_1', \n",
    "        'mod_nameplate_capacity1', 'inverterQuantity_1', 'inv_outputcapacity1', \n",
    "        'ILR', 'TotalModuleQty', 'latitude', 'longitude','mod_efficiency1', 'totalInstalledCost___']]\n",
    "\n",
    "        # check if string is present\n",
    "        self.assertTrue(isinstance(x, (int, float)) for x in df)\n",
    "        return\n",
    "        \n",
    "    # backward stepwise selection\n",
    "    def test_one_shot_test_backward_stepwise(self):\n",
    "        \"\"\"\n",
    "        Backward stepwise selection: one shot test\n",
    "        \"\"\"\n",
    "        df = pd.read_csv('tests/TTS_sample.csv')\n",
    "        X = df[['systemSizeInDCSTC_KW_', 'Up_FrontCashIncentive___', 'azimuth_1', 'tilt_1', \n",
    "        'mod_nameplate_capacity1', 'inverterQuantity_1', 'inv_outputcapacity1', \n",
    "        'ILR', 'TotalModuleQty', 'latitude', 'longitude','mod_efficiency1']]\n",
    "        y = df['totalInstalledCost___']\n",
    "        \n",
    "        names = 'systemSizeInDCSTC_KW_', 'Up_FrontCashIncentive___', 'azimuth_1', 'tilt_1', 'mod_BIPV1', 'mod_bifacial1', 'mod_nameplate_capacity1', 'mod_efficiency1', 'inverterQuantity_1', 'inv_microinv1', 'inv_battery_hybrid1', 'inv_builtin_meter1', 'inv_outputcapacity1', 'dc_optimizer', 'ILR', 'TotalModuleQty', 'latitude', 'longitude'\n",
    "        f_names = np.array(names)\n",
    "        backward_stepwise_selection(X, y, f_names)\n",
    "        return\n",
    "    \n",
    "    def test_backward_stepwise_input(self):\n",
    "        \"\"\"\n",
    "        Backward stepwise selection: Checks input type; only accepts int/float values\n",
    "        \"\"\"\n",
    "        df = pd.read_csv('tests/TTS_sample.csv')\n",
    "        df = df[['systemSizeInDCSTC_KW_', 'Up_FrontCashIncentive___', 'azimuth_1', 'tilt_1', \n",
    "        'mod_nameplate_capacity1', 'inverterQuantity_1', 'inv_outputcapacity1', \n",
    "        'ILR', 'TotalModuleQty', 'latitude', 'longitude','mod_efficiency1', 'totalInstalledCost___']]\n",
    "\n",
    "        self.assertTrue(isinstance(x, (int, float)) for x in df)\n",
    "        return\n",
    "    \n",
    "    # different values\n",
    "    def test_one_shot_test_different(self):\n",
    "        \"\"\"\n",
    "        Different values: one shot test\n",
    "        \"\"\"\n",
    "        alist = [1,3,5]\n",
    "        blist = [1,3,6]\n",
    "        self.assertTrue(different_values(alist, blist))\n",
    "        \n",
    "        return\n",
    "    \n",
    "    def test_pattern_test_different(self):\n",
    "        \"\"\"\n",
    "        Different values: pattern test\n",
    "        \"\"\"\n",
    "        alist = [1,3,5]\n",
    "        blist = [1,3,6]\n",
    "        diff_list = [5,6]\n",
    "        \n",
    "        if np.allclose(different_values(alist, blist), diff_list):\n",
    "            print('Passed Pattern Test for Different Values')\n",
    "        \n",
    "        return\n",
    "    \n",
    "    # unique values\n",
    "    def test_one_shot_test_unique(self):\n",
    "        \"\"\"\n",
    "        Unique values: one shot test\n",
    "        \"\"\"\n",
    "        alist = [1,3,5]\n",
    "        blist = [1,3,6]\n",
    "        self.assertTrue(unique_values(alist, blist))\n",
    "        \n",
    "        return\n",
    "    \n",
    "    def test_pattern_test_unique(self):\n",
    "        \"\"\"\n",
    "        Unique values: pattern test\n",
    "        \"\"\"\n",
    "        alist = [1,3,5]\n",
    "        blist = [1,3,6]\n",
    "        diff_list = [1,3,5,6]\n",
    "        \n",
    "        if np.allclose(unique_values(alist, blist), diff_list):\n",
    "            print('Passed Pattern Test for Unique Values')\n",
    "        \n",
    "        return\n",
    "    \n",
    "    # random forest regressor\n",
    "    def test_one_shot_rf(self):\n",
    "        \"\"\"\n",
    "        Random Forest Regressor: One shot test\n",
    "        \"\"\"\n",
    "        df = pd.read_csv('tests/TTS_sample.csv')\n",
    "        X = df[['systemSizeInDCSTC_KW_', 'Up_FrontCashIncentive___', 'azimuth_1', 'tilt_1', \n",
    "        'mod_nameplate_capacity1', 'inverterQuantity_1', 'inv_outputcapacity1', \n",
    "        'ILR', 'TotalModuleQty', 'latitude', 'longitude','mod_efficiency1']]\n",
    "        y = df['totalInstalledCost___']\n",
    "        X_train, X_test, y_train, y_test = train_test_split(X, y, test_size=0.21, random_state=9, shuffle = True)\n",
    "        \n",
    "        self.assertTrue(random_forest_reg(X_train, y_train, X_test, y_test))\n",
    "        return\n",
    "\n",
    "suite = unittest.TestLoader().loadTestsFromTestCase(TestCost)\n",
    "_ = unittest.TextTestRunner().run(suite)"
   ]
  },
  {
   "cell_type": "code",
   "execution_count": null,
   "id": "32f97836",
   "metadata": {},
   "outputs": [],
   "source": []
  }
 ],
 "metadata": {
  "kernelspec": {
   "display_name": "Python 3 (ipykernel)",
   "language": "python",
   "name": "python3"
  },
  "language_info": {
   "codemirror_mode": {
    "name": "ipython",
    "version": 3
   },
   "file_extension": ".py",
   "mimetype": "text/x-python",
   "name": "python",
   "nbconvert_exporter": "python",
   "pygments_lexer": "ipython3",
   "version": "3.9.5"
  }
 },
 "nbformat": 4,
 "nbformat_minor": 5
}
