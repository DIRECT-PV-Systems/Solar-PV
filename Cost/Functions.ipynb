{
 "cells": [
  {
   "cell_type": "code",
   "execution_count": 37,
   "id": "aa278a08",
   "metadata": {},
   "outputs": [],
   "source": [
    "import pandas as pd\n",
    "import matplotlib\n",
    "import matplotlib.pyplot as plt\n",
    "import numpy as np\n",
    "import sklearn\n",
    "\n",
    "from sklearn import linear_model\n",
    "from sklearn.ensemble import RandomForestRegressor\n",
    "# Note - you will need version 0.24.1 of scikit-learn to load this library (SequentialFeatureSelector)\n",
    "from sklearn.feature_selection import SequentialFeatureSelector\n",
    "from sklearn.metrics import r2_score, mean_squared_error\n",
    "from sklearn.model_selection import train_test_split"
   ]
  },
  {
   "cell_type": "code",
   "execution_count": 31,
   "id": "f77d7092",
   "metadata": {},
   "outputs": [
    {
     "name": "stderr",
     "output_type": "stream",
     "text": [
      "/home/tessmachado/miniconda3/envs/py37/lib/python3.7/site-packages/IPython/core/interactiveshell.py:3457: DtypeWarning: Columns (2,3,13,28,29,30,31,34,35) have mixed types.Specify dtype option on import or set low_memory=False.\n",
      "  exec(code_obj, self.user_global_ns, self.user_ns)\n"
     ]
    }
   ],
   "source": [
    "data = pd.read_csv('datasets/TTS_data.csv')\n",
    "data = data.where(data['totalInstalledCost___'] != -1).dropna()\n",
    "X = data[['systemSizeInDCSTC_KW_', 'Up_FrontCashIncentive___', 'azimuth_1', 'tilt_1', \n",
    "        'mod_nameplate_capacity1', 'inverterQuantity_1', 'inv_outputcapacity1', \n",
    "        'ILR', 'TotalModuleQty', 'latitude', 'longitude','mod_efficiency1']]\n",
    "\n",
    "y = data['totalInstalledCost___']\n",
    "X_train, X_test, y_train, y_test = train_test_split(X, y, test_size=0.21, random_state=9, shuffle = True)"
   ]
  },
  {
   "cell_type": "code",
   "execution_count": 32,
   "id": "fd09295a",
   "metadata": {},
   "outputs": [],
   "source": [
    "# Stepwise Selection\n",
    "\n",
    "def forward_stepwise_selection(X, y, f_names):\n",
    "    sfs_forward = SequentialFeatureSelector(linear_model.LinearRegression(), \n",
    "                                        n_features_to_select=5, \n",
    "                                        direction = 'forward').fit(X,y)\n",
    "    print('support: ', sfs_forward.get_support(), \"\\n\")\n",
    "    selected = sfs_forward.get_support(indices = True)\n",
    "    print(selected)\n",
    "    print('Selected input features using Forward Stepwise Selection: \\n', f_names[selected])\n",
    "    \n",
    "    return f_names[selected]\n",
    "\n",
    "def backward_stepwise_selection(X, y, f_names):\n",
    "    sfs_backward = SequentialFeatureSelector(linear_model.LinearRegression(), \n",
    "                                        n_features_to_select=5, \n",
    "                                        direction = 'backward').fit(X,y)\n",
    "    print('support: ', sfs_backward.get_support(), \"\\n\")\n",
    "    selected = sfs_backward.get_support(indices = True)\n",
    "    print(selected)\n",
    "    print('Selected input features using Forward Stepwise Selection: \\n', f_names[selected])\n",
    "    \n",
    "    return f_names[selected]"
   ]
  },
  {
   "cell_type": "code",
   "execution_count": 33,
   "id": "10d2d21b",
   "metadata": {},
   "outputs": [],
   "source": [
    "def different_values(list1, list2):\n",
    "    return list(set(list1).symmetric_difference(set(list2)))\n",
    "\n",
    "def unique_values(list1, list2):\n",
    "    return list(set(list1) | (set(list2)))"
   ]
  },
  {
   "cell_type": "code",
   "execution_count": 34,
   "id": "d6d4e169",
   "metadata": {},
   "outputs": [],
   "source": [
    "# Regressors\n",
    "\n",
    "# Random Forest Regressor\n",
    "def random_forest_reg(X_train, y_train, X_test, y_test):\n",
    "    clf_RF = RandomForestRegressor(n_estimators = 100, max_depth = 4, max_features = 2, random_state = 7)\n",
    "    clf_RF = clf_RF.fit(X_train, y_train)\n",
    "    y_predict = clf_RF.predict(X_test)\n",
    "    mse_RF = mean_squared_error(y_test, y_predict)\n",
    "    r2_RF = r2_score(y_test, y_predict)\n",
    "    print(mse_RF)\n",
    "    print(r2_RF)\n",
    "    return r2_RF, y_predict\n",
    "\n",
    "# Gradient Boosting Regressor\n",
    "def gradient_boosting_reg(X_train, y_train, X_test, y_test):\n",
    "    clf_GB = GradientBoostingRegressor(n_estimators=1000, learning_rate=0.1, max_depth=1, random_state=7)\n",
    "    clf_GB = clf_GB.fit(X_train, y_train)\n",
    "    y_predict = clf_GB.predict(X_test)\n",
    "    mse_GB = mean_squared_error(y_test, y_predict)\n",
    "    r2_GB = r2_score(y_test, y_predict)\n",
    "    print(mse_GB)\n",
    "    print(r2_GB)\n",
    "    \n",
    "    return r2_GB\n",
    "    \n",
    "# Bagging Regressor\n",
    "def bagging_reg():\n",
    "    estimator = DecisionTreeRegressor(max_depth=4)\n",
    "    clf_bag = BaggingRegressor(base_estimator=estimator, n_estimators=100, random_state=7)\n",
    "    clf_bag = clf_bag.fit(X_train, y_train)\n",
    "    y_predict = clf_bag.predict(X_test)\n",
    "    mse_bag = mean_squared_error(y_test, y_predict)\n",
    "    r2_bag = r2_score(y_test, y_predict)\n",
    "    print(mse_bag)\n",
    "    print(r2_bag)\n",
    "    \n",
    "    return r2_bag"
   ]
  },
  {
   "cell_type": "code",
   "execution_count": 35,
   "id": "34b68718",
   "metadata": {},
   "outputs": [
    {
     "name": "stdout",
     "output_type": "stream",
     "text": [
      "support:  [ True False False False  True False False False  True  True False  True] \n",
      "\n",
      "[ 0  4  8  9 11]\n",
      "Selected input features using Forward Stepwise Selection: \n",
      " ['systemSizeInDCSTC_KW_' 'mod_nameplate_capacity1' 'TotalModuleQty'\n",
      " 'latitude' 'mod_efficiency1']\n",
      "support:  [ True False False False  True False False  True  True False False  True] \n",
      "\n",
      "[ 0  4  7  8 11]\n",
      "Selected input features using Forward Stepwise Selection: \n",
      " ['systemSizeInDCSTC_KW_' 'mod_nameplate_capacity1' 'ILR' 'TotalModuleQty'\n",
      " 'mod_efficiency1']\n",
      "['latitude', 'ILR']\n"
     ]
    }
   ],
   "source": [
    "names = 'systemSizeInDCSTC_KW_', 'Up_FrontCashIncentive___', 'azimuth_1', 'tilt_1', 'mod_nameplate_capacity1', 'inverterQuantity_1', 'inv_outputcapacity1', 'ILR', 'TotalModuleQty', 'latitude', 'longitude','mod_efficiency1'\n",
    "f_names = np.array(names)\n",
    "\n",
    "list1 = forward_stepwise_selection(X, y, f_names)\n",
    "list2 = backward_stepwise_selection(X, y, f_names)\n",
    "diff = difference(list1, list2)\n",
    "print(diff)"
   ]
  },
  {
   "cell_type": "code",
   "execution_count": null,
   "id": "216e9225",
   "metadata": {},
   "outputs": [],
   "source": []
  },
  {
   "cell_type": "code",
   "execution_count": 41,
   "id": "1cce1b41",
   "metadata": {},
   "outputs": [
    {
     "name": "stderr",
     "output_type": "stream",
     "text": [
      "..."
     ]
    },
    {
     "name": "stdout",
     "output_type": "stream",
     "text": [
      "11029149901.469948\n",
      "0.2667907142955924\n"
     ]
    },
    {
     "name": "stderr",
     "output_type": "stream",
     "text": [
      "."
     ]
    },
    {
     "name": "stdout",
     "output_type": "stream",
     "text": [
      "support:  [ True  True False False False  True  True False  True False False False] \n",
      "\n",
      "[0 1 5 6 8]\n",
      "Selected input features using Forward Stepwise Selection: \n",
      " ['systemSizeInDCSTC_KW_' 'Up_FrontCashIncentive___' 'mod_bifacial1'\n",
      " 'mod_nameplate_capacity1' 'inverterQuantity_1']\n"
     ]
    },
    {
     "name": "stderr",
     "output_type": "stream",
     "text": [
      "."
     ]
    },
    {
     "name": "stdout",
     "output_type": "stream",
     "text": [
      "support:  [False  True  True False False False  True False  True  True False False] \n",
      "\n",
      "[1 2 6 8 9]\n",
      "Selected input features using Forward Stepwise Selection: \n",
      " ['Up_FrontCashIncentive___' 'azimuth_1' 'mod_nameplate_capacity1'\n",
      " 'inverterQuantity_1' 'inv_microinv1']\n"
     ]
    },
    {
     "name": "stderr",
     "output_type": "stream",
     "text": [
      "\n",
      "----------------------------------------------------------------------\n",
      "Ran 5 tests in 1.094s\n",
      "\n",
      "OK\n"
     ]
    }
   ],
   "source": [
    "import pandas as pd\n",
    "import numpy as np\n",
    "import sklearn\n",
    "\n",
    "from sklearn import linear_model\n",
    "from sklearn.ensemble import RandomForestRegressor\n",
    "# Note - you will need version 0.24.1 of scikit-learn to load this library (SequentialFeatureSelector)\n",
    "from sklearn.feature_selection import SequentialFeatureSelector\n",
    "from sklearn.metrics import r2_score, mean_squared_error\n",
    "from sklearn.model_selection import train_test_split\n",
    "\n",
    "import unittest\n",
    "\n",
    "class TestCost(unittest.TestCase):\n",
    "    \"\"\"\n",
    "    test cases\n",
    "    \"\"\"\n",
    "    # stepwise selection\n",
    "    def test_one_shot_test_forward_stepwise(self):\n",
    "        '''\n",
    "        Forward stepwise selection\n",
    "        '''\n",
    "        df = pd.read_csv('tests/TTS_sample.csv')\n",
    "        X = df[['systemSizeInDCSTC_KW_', 'Up_FrontCashIncentive___', 'azimuth_1', 'tilt_1', \n",
    "        'mod_nameplate_capacity1', 'inverterQuantity_1', 'inv_outputcapacity1', \n",
    "        'ILR', 'TotalModuleQty', 'latitude', 'longitude','mod_efficiency1']]\n",
    "        y = df['totalInstalledCost___']\n",
    "        \n",
    "        names = 'systemSizeInDCSTC_KW_', 'Up_FrontCashIncentive___', 'azimuth_1', 'tilt_1', 'mod_BIPV1', 'mod_bifacial1', 'mod_nameplate_capacity1', 'mod_efficiency1', 'inverterQuantity_1', 'inv_microinv1', 'inv_battery_hybrid1', 'inv_builtin_meter1', 'inv_outputcapacity1', 'dc_optimizer', 'ILR', 'TotalModuleQty', 'latitude', 'longitude'\n",
    "        f_names = np.array(names)\n",
    "        forward_stepwise_selection(X, y, f_names)\n",
    "        return\n",
    "    \n",
    "    def test_forward_stepwise_input(self):\n",
    "        df = pd.read_csv('tests/TTS_sample.csv')\n",
    "        df = df[['systemSizeInDCSTC_KW_', 'Up_FrontCashIncentive___', 'azimuth_1', 'tilt_1', \n",
    "        'mod_nameplate_capacity1', 'inverterQuantity_1', 'inv_outputcapacity1', \n",
    "        'ILR', 'TotalModuleQty', 'latitude', 'longitude','mod_efficiency1', 'totalInstalledCost___']]\n",
    "\n",
    "        # check if string is present\n",
    "        self.assertTrue(isinstance(x, (int, float)) for x in df)\n",
    "        return\n",
    "        \n",
    "    def test_one_shot_test_backward_stepwise(self):\n",
    "        '''\n",
    "        Backward stepwise selection\n",
    "        '''\n",
    "        df = pd.read_csv('tests/TTS_sample.csv')\n",
    "        X = df[['systemSizeInDCSTC_KW_', 'Up_FrontCashIncentive___', 'azimuth_1', 'tilt_1', \n",
    "        'mod_nameplate_capacity1', 'inverterQuantity_1', 'inv_outputcapacity1', \n",
    "        'ILR', 'TotalModuleQty', 'latitude', 'longitude','mod_efficiency1']]\n",
    "        y = df['totalInstalledCost___']\n",
    "        \n",
    "        names = 'systemSizeInDCSTC_KW_', 'Up_FrontCashIncentive___', 'azimuth_1', 'tilt_1', 'mod_BIPV1', 'mod_bifacial1', 'mod_nameplate_capacity1', 'mod_efficiency1', 'inverterQuantity_1', 'inv_microinv1', 'inv_battery_hybrid1', 'inv_builtin_meter1', 'inv_outputcapacity1', 'dc_optimizer', 'ILR', 'TotalModuleQty', 'latitude', 'longitude'\n",
    "        f_names = np.array(names)\n",
    "        backward_stepwise_selection(X, y, f_names)\n",
    "        return\n",
    "    \n",
    "    def test_backward_stepwise_input(self):\n",
    "        \"\"\"\n",
    "        Checks if strings are present in dataset\n",
    "        \"\"\"\n",
    "        df = pd.read_csv('tests/TTS_sample.csv')\n",
    "        df = df[['systemSizeInDCSTC_KW_', 'Up_FrontCashIncentive___', 'azimuth_1', 'tilt_1', \n",
    "        'mod_nameplate_capacity1', 'inverterQuantity_1', 'inv_outputcapacity1', \n",
    "        'ILR', 'TotalModuleQty', 'latitude', 'longitude','mod_efficiency1', 'totalInstalledCost___']]\n",
    "\n",
    "        self.assertTrue(isinstance(x, (int, float)) for x in df)\n",
    "        return\n",
    "    \n",
    "    # random forest regressor\n",
    "    def test_one_shot_rf(self):\n",
    "        df = pd.read_csv('tests/TTS_sample.csv')\n",
    "        X = df[['systemSizeInDCSTC_KW_', 'Up_FrontCashIncentive___', 'azimuth_1', 'tilt_1', \n",
    "        'mod_nameplate_capacity1', 'inverterQuantity_1', 'inv_outputcapacity1', \n",
    "        'ILR', 'TotalModuleQty', 'latitude', 'longitude','mod_efficiency1']]\n",
    "        y = df['totalInstalledCost___']\n",
    "        X_train, X_test, y_train, y_test = train_test_split(X, y, test_size=0.21, random_state=9, shuffle = True)\n",
    "        \n",
    "        self.assertTrue(random_forest_reg(X_train, y_train, X_test, y_test))\n",
    "        return\n",
    "    \n",
    "\n",
    "\n",
    "suite = unittest.TestLoader().loadTestsFromTestCase(TestCost)\n",
    "_ = unittest.TextTestRunner().run(suite)"
   ]
  },
  {
   "cell_type": "code",
   "execution_count": null,
   "id": "1cb78377",
   "metadata": {},
   "outputs": [],
   "source": []
  }
 ],
 "metadata": {
  "kernelspec": {
   "display_name": "Python 3 (ipykernel)",
   "language": "python",
   "name": "python3"
  },
  "language_info": {
   "codemirror_mode": {
    "name": "ipython",
    "version": 3
   },
   "file_extension": ".py",
   "mimetype": "text/x-python",
   "name": "python",
   "nbconvert_exporter": "python",
   "pygments_lexer": "ipython3",
   "version": "3.7.11"
  }
 },
 "nbformat": 4,
 "nbformat_minor": 5
}
